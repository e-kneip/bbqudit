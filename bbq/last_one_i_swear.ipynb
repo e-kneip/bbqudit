{
 "cells": [
  {
   "cell_type": "code",
   "execution_count": 1,
   "metadata": {},
   "outputs": [],
   "source": [
    "from bbq.decoder import d_osd, bp_osd\n",
    "import numpy as np"
   ]
  },
  {
   "cell_type": "code",
   "execution_count": 15,
   "metadata": {},
   "outputs": [
    {
     "name": "stdout",
     "output_type": "stream",
     "text": [
      "h_eff = \n",
      " [[0 0 1 1]\n",
      " [0 1 1 1]\n",
      " [0 1 1 0]]\n",
      "prior = \n",
      " [[0.9 0.1]\n",
      " [0.9 0.1]\n",
      " [0.8 0.2]\n",
      " [0.8 0.2]]\n",
      "real_error = \n",
      " [0 1 0 1]\n",
      "syndrome = \n",
      " [1 0 1]\n"
     ]
    }
   ],
   "source": [
    "h_eff = np.array([[0, 0, 1, 1], [0, 1, 1, 1], [0, 1, 1, 0]])\n",
    "prior = np.array([[0.9, 0.1], [0.9, 0.1], [0.8, 0.2], [0.8, 0.2]])\n",
    "\n",
    "p = 0.1\n",
    "field = 2\n",
    "max_iter = 1000\n",
    "\n",
    "n_dets, n_qudits = h_eff.shape\n",
    "real_error = np.zeros(n_qudits, dtype=int)\n",
    "rand = np.random.rand(n_qudits)\n",
    "for err in range(n_qudits):\n",
    "    if rand[err] < prior[err, 1]:\n",
    "        real_error[err] = 1\n",
    "syndrome = (h_eff @ real_error) % field\n",
    "\n",
    "print(f'h_eff = \\n {h_eff}')\n",
    "print(f'prior = \\n {prior}')\n",
    "print(f'real_error = \\n {real_error}')\n",
    "print(f'syndrome = \\n {syndrome}')"
   ]
  },
  {
   "cell_type": "code",
   "execution_count": 16,
   "metadata": {},
   "outputs": [],
   "source": [
    "error, success = d_osd(field, h_eff, syndrome, prior, debug=False)\n",
    "\n",
    "assert success\n",
    "assert (error == real_error).all()"
   ]
  },
  {
   "cell_type": "code",
   "execution_count": 17,
   "metadata": {},
   "outputs": [],
   "source": [
    "error, success = bp_osd(field, h_eff, syndrome, prior, max_iter, debug=False)\n",
    "\n",
    "assert success\n",
    "assert (error == real_error).all()"
   ]
  },
  {
   "cell_type": "code",
   "execution_count": null,
   "metadata": {},
   "outputs": [],
   "source": []
  }
 ],
 "metadata": {
  "kernelspec": {
   "display_name": "bbq_venv",
   "language": "python",
   "name": "python3"
  },
  "language_info": {
   "codemirror_mode": {
    "name": "ipython",
    "version": 3
   },
   "file_extension": ".py",
   "mimetype": "text/x-python",
   "name": "python",
   "nbconvert_exporter": "python",
   "pygments_lexer": "ipython3",
   "version": "3.13.1"
  }
 },
 "nbformat": 4,
 "nbformat_minor": 2
}
