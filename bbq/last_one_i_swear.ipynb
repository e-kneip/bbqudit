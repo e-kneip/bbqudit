{
 "cells": [
  {
   "cell_type": "code",
   "execution_count": 1,
   "metadata": {},
   "outputs": [],
   "source": [
    "from bbq.decoder import d_osd, bp_osd, belief_propagation, _syn_inv_permute_field\n",
    "from bbq.utils import det_to_err, err_to_det\n",
    "import numpy as np\n",
    "from ldpc import BpDecoder, bposd_decoder\n",
    "from bbq.polynomial import Polynomial\n",
    "from bbq.bbq_code import BivariateBicycle\n",
    "import matplotlib.pyplot as plt\n",
    "import json\n",
    "import datetime\n",
    "import galois"
   ]
  },
  {
   "cell_type": "markdown",
   "metadata": {},
   "source": [
    "## Qudits!"
   ]
  },
  {
   "cell_type": "code",
   "execution_count": 2,
   "metadata": {},
   "outputs": [],
   "source": [
    "def simulate(field, h, l, max_iter, num_failures):\n",
    "\n",
    "    results = []\n",
    "\n",
    "    for p in np.logspace(-2.7, -1, 10):\n",
    "\n",
    "        failures = 0\n",
    "        num_trials = 0\n",
    "\n",
    "        while failures < num_failures:\n",
    "            # Generate syndrome\n",
    "            n_qudits = h.shape[1]\n",
    "            error = np.zeros(n_qudits, dtype=int)\n",
    "            error_mask = np.random.rand(n_qudits) < p\n",
    "            for i in np.where(error_mask)[0]:\n",
    "                error[i] = np.random.randint(1, field)\n",
    "            syndrome = (h @ error) % field\n",
    "\n",
    "            # Construct error probability\n",
    "            channel_prob_x = np.ones(n_qudits) * p\n",
    "\n",
    "            x_prior = np.zeros((len(channel_prob_x), field), dtype=float)\n",
    "\n",
    "            for i, prob in enumerate(channel_prob_x):\n",
    "                x_prior[i, 0] = 1 - prob\n",
    "                for j in range(1, field):\n",
    "                    x_prior[i, j] = prob / (field - 1)\n",
    "\n",
    "            # Decode\n",
    "            guessed_error, decoder_success, bp_success, posterior = belief_propagation(field, h, syndrome, x_prior, max_iter, debug=True)\n",
    "            error_difference = (error - guessed_error) % field\n",
    "            logical_effect = (np.array(l) @ error_difference) % field\n",
    "\n",
    "            # Check success\n",
    "            if np.any(logical_effect != 0) or not decoder_success:\n",
    "                failures += 1\n",
    "                print(f'Found {failures} / {num_failures}, with num_trials : {num_trials}')\n",
    "\n",
    "            num_trials += 1\n",
    "\n",
    "        results.append(num_trials)\n",
    "\n",
    "        print(f'Finished p={p} with num_trials={num_trials}')\n",
    "    return results"
   ]
  },
  {
   "cell_type": "code",
   "execution_count": 3,
   "metadata": {},
   "outputs": [],
   "source": [
    "a = Polynomial(2, np.array([[1, 0], [1, 0]]))\n",
    "b = Polynomial(2, np.array([[1, 1], [0, 0]]))\n",
    "bb2 = BivariateBicycle(a, b, 3, 3, 1)\n",
    "h2 = bb2.hx\n",
    "l2 = bb2.x_logicals\n",
    "\n",
    "a = Polynomial(3, np.array([[1, 0], [-1, 0]]))\n",
    "b = Polynomial(3, np.array([[1, -1], [0, 0]]))\n",
    "bb3 = BivariateBicycle(a, b, 3, 3, 1)\n",
    "h3 = bb3.hx\n",
    "l3 = bb3.x_logicals\n",
    "\n",
    "a = Polynomial(5, np.array([[1, 0], [-1, 0]]))\n",
    "b = Polynomial(5, np.array([[1, -1], [0, 0]]))\n",
    "bb5 = BivariateBicycle(a, b, 3, 3, 1)\n",
    "h5 = bb5.hx\n",
    "l5 = bb5.x_logicals\n",
    "\n",
    "max_iter = 1000\n",
    "num_failures = 3"
   ]
  },
  {
   "cell_type": "code",
   "execution_count": 5,
   "metadata": {},
   "outputs": [],
   "source": [
    "def process_results(results, num_failures):\n",
    "    plot_results = {}\n",
    "    plot_error_bars = {}\n",
    "    for d in results:\n",
    "        plot_results[d] = num_failures[d] / (np.array(results[d]))\n",
    "        plot_error_bars[d] = np.sqrt((plot_results[d])*(1-plot_results[d])/results[d])\n",
    "    return plot_results, plot_error_bars"
   ]
  },
  {
   "cell_type": "code",
   "execution_count": 4,
   "metadata": {},
   "outputs": [
    {
     "name": "stderr",
     "output_type": "stream",
     "text": [
      "C:\\Users\\elean\\Documents\\Quantum-Computing-PhD\\ITP\\IP-BBQ\\qudit-bivariate-bicycle\\bbq\\decoder.py:105: ComplexWarning: Casting complex values to real discards the imaginary part\n",
      "  P[i, error, :] = sub_convolution[syn_inv_permutation[errs[j, 1], :]]\n"
     ]
    },
    {
     "name": "stdout",
     "output_type": "stream",
     "text": [
      "Found 1 / 3, with num_trials : 3191\n",
      "Found 2 / 3, with num_trials : 4423\n",
      "Found 3 / 3, with num_trials : 9670\n",
      "Finished p=0.001995262314968879 with num_trials=9671\n",
      "Found 1 / 3, with num_trials : 603\n",
      "Found 2 / 3, with num_trials : 837\n",
      "Found 3 / 3, with num_trials : 3905\n",
      "Finished p=0.0030823992397451434 with num_trials=3906\n",
      "Found 1 / 3, with num_trials : 1782\n",
      "Found 2 / 3, with num_trials : 2172\n",
      "Found 3 / 3, with num_trials : 3283\n",
      "Finished p=0.004761872663008535 with num_trials=3284\n",
      "Found 1 / 3, with num_trials : 55\n",
      "Found 2 / 3, with num_trials : 239\n",
      "Found 3 / 3, with num_trials : 247\n",
      "Finished p=0.007356422544596414 with num_trials=248\n",
      "Found 1 / 3, with num_trials : 105\n",
      "Found 2 / 3, with num_trials : 413\n",
      "Found 3 / 3, with num_trials : 512\n",
      "Finished p=0.011364636663857243 with num_trials=513\n",
      "Found 1 / 3, with num_trials : 94\n",
      "Found 2 / 3, with num_trials : 102\n",
      "Found 3 / 3, with num_trials : 105\n",
      "Finished p=0.017556762912750015 with num_trials=106\n",
      "Found 1 / 3, with num_trials : 15\n",
      "Found 2 / 3, with num_trials : 51\n",
      "Found 3 / 3, with num_trials : 69\n",
      "Finished p=0.02712272579332028 with num_trials=70\n",
      "Found 1 / 3, with num_trials : 3\n",
      "Found 2 / 3, with num_trials : 7\n",
      "Found 3 / 3, with num_trials : 13\n",
      "Finished p=0.04190079105786669 with num_trials=14\n",
      "Found 1 / 3, with num_trials : 4\n",
      "Found 2 / 3, with num_trials : 9\n",
      "Found 3 / 3, with num_trials : 15\n",
      "Finished p=0.06473082037010398 with num_trials=16\n",
      "Found 1 / 3, with num_trials : 1\n",
      "Found 2 / 3, with num_trials : 2\n",
      "Found 3 / 3, with num_trials : 4\n",
      "Finished p=0.1 with num_trials=5\n"
     ]
    }
   ],
   "source": [
    "results_2 = simulate(2, h2, l2, max_iter, num_failures)"
   ]
  },
  {
   "cell_type": "code",
   "execution_count": null,
   "metadata": {},
   "outputs": [],
   "source": [
    "results_3 = simulate(3, h3, l3, max_iter, num_failures)"
   ]
  },
  {
   "cell_type": "code",
   "execution_count": null,
   "metadata": {},
   "outputs": [],
   "source": [
    "results_5 = simulate(3, h5, l5, max_iter, num_failures)"
   ]
  },
  {
   "cell_type": "code",
   "execution_count": 6,
   "metadata": {},
   "outputs": [
    {
     "data": {
      "image/png": "[encoded data removed]",
      "text/plain": [
       "<Figure size 640x480 with 1 Axes>"
      ]
     },
     "metadata": {},
     "output_type": "display_data"
    }
   ],
   "source": [
    "results = {2 : results_2}\n",
    "#results = {2 : results_2, 3 : results_3}\n",
    "#results = {2 : results_2, 3 : results_3, 5 : results_5}\n",
    "\n",
    "x = np.logspace(-2.7, -1, 10)\n",
    "num_failures = {2 : 3, 3 : 3, 5 : 3}\n",
    "plot_results, plot_error_bars = process_results(results, num_failures)\n",
    "\n",
    "plt.loglog(x, plot_results[2], color='lightcoral')\n",
    "#plt.loglog(x, plot_results[3], color='lightseagreen')\n",
    "#plt.loglog(x, plot_results[5], color='royalblue')\n",
    "\n",
    "plt.errorbar(x, plot_results[2], yerr=plot_error_bars[2], fmt='.', capsize=2.5, color='lightcoral')\n",
    "#plt.errorbar(x, plot_results[3], yerr=plot_error_bars[3], fmt='.', capsize=2.5, color='lightseagreen')\n",
    "#plt.errorbar(x, plot_results[5], yerr=plot_error_bars[5], fmt='.', capsize=2.5, color='royalblue')\n",
    "\n",
    "plt.legend(['2', '3', '5'])\n",
    "plt.xlabel('Physical error rate')\n",
    "plt.ylabel('Logical error rate')\n",
    "plt.title('Qudit Toric Code under Code Capacity');"
   ]
  },
  {
   "cell_type": "code",
   "execution_count": 2,
   "metadata": {},
   "outputs": [
    {
     "ename": "NameError",
     "evalue": "name 'n_errors' is not defined",
     "output_type": "error",
     "traceback": [
      "\u001b[31m---------------------------------------------------------------------------\u001b[39m",
      "\u001b[31mNameError\u001b[39m                                 Traceback (most recent call last)",
      "\u001b[36mCell\u001b[39m\u001b[36m \u001b[39m\u001b[32mIn[2]\u001b[39m\u001b[32m, line 2\u001b[39m\n\u001b[32m      1\u001b[39m p = \u001b[32m0.01\u001b[39m\n\u001b[32m----> \u001b[39m\u001b[32m2\u001b[39m n_qudits = \u001b[43mn_errors\u001b[49m\n\u001b[32m      3\u001b[39m channel_prob_x = np.ones(n_qudits) * p\n\u001b[32m      5\u001b[39m x_prior = np.zeros((\u001b[38;5;28mlen\u001b[39m(channel_prob_x), field), dtype=\u001b[38;5;28mfloat\u001b[39m)\n",
      "\u001b[31mNameError\u001b[39m: name 'n_errors' is not defined"
     ]
    }
   ],
   "source": [
    "p = 0.01\n",
    "n_qudits = n_errors\n",
    "channel_prob_x = np.ones(n_qudits) * p\n",
    "\n",
    "x_prior = np.zeros((len(channel_prob_x), field), dtype=float)\n",
    "\n",
    "for i, prob in enumerate(channel_prob_x):\n",
    "    x_prior[i, 0] = 1 - prob\n",
    "    for j in range(1, field):\n",
    "        x_prior[i, j] = prob / (field - 1)"
   ]
  },
  {
   "cell_type": "code",
   "execution_count": 24,
   "metadata": {},
   "outputs": [],
   "source": [
    "h_eff = h3\n",
    "field = 3\n",
    "prior = x_prior\n",
    "\n",
    "n_detectors, n_errors = h_eff.shape\n",
    "\n",
    "err_neighbourhood = err_to_det(h_eff)\n",
    "det_neighbourhood = det_to_err(h_eff)\n",
    "\n",
    "# Step 0: initialisation\n",
    "# Q[k, i] is the message passed from error k to check i\n",
    "Q = np.zeros((n_errors, n_detectors, field))\n",
    "for i in range(n_errors):\n",
    "    #######################################################################\n",
    "    # WARNING: If an error flags no detectors, sets messages to 0, => if syndrome is all 0, then will always say 0 errors (not a possible non-0 solution) *I think*\n",
    "    #######################################################################\n",
    "\n",
    "    # Send the same message of priors for each error to its neighbouring detectors\n",
    "    if i in err_neighbourhood:\n",
    "        Q[i, err_neighbourhood[i][:, 0], :] = prior[i]\n",
    "\n",
    "P = np.zeros((n_detectors, n_errors, field))"
   ]
  },
  {
   "cell_type": "code",
   "execution_count": null,
   "metadata": {},
   "outputs": [],
   "source": []
  },
  {
   "cell_type": "code",
   "execution_count": null,
   "metadata": {},
   "outputs": [
    {
     "data": {
      "image/png": "[encoded data removed]",
      "text/plain": [
       "<Figure size 640x480 with 1 Axes>"
      ]
     },
     "metadata": {},
     "output_type": "display_data"
    }
   ],
   "source": [
    "results = {2 : results_2, 3 : results_3}\n",
    "\n",
    "x = np.logspace(-2.7, -1, 10)\n",
    "num_failures = {2 : 3, 3 : 3, 5 : 3}\n",
    "plot_results, plot_error_bars = process_results(results, num_failures)\n",
    "\n",
    "plt.loglog(x, plot_results[2], color='lightcoral')\n",
    "plt.loglog(x, plot_results[3], color='lightseagreen')\n",
    "#plt.loglog(x, plot_results[5], color='royalblue')\n",
    "\n",
    "plt.errorbar(x, plot_results[2], yerr=plot_error_bars[2], fmt='.', capsize=2.5, color='lightcoral')\n",
    "plt.errorbar(x, plot_results[3], yerr=plot_error_bars[3], fmt='.', capsize=2.5, color='lightseagreen')\n",
    "#plt.errorbar(x, plot_results[5], yerr=plot_error_bars[5], fmt='.', capsize=2.5, color='royalblue')\n",
    "\n",
    "plt.legend(['2', '3', '5'])\n",
    "plt.xlabel('Physical error rate')\n",
    "plt.ylabel('Logical error rate')\n",
    "plt.title('Qudit Toric Code under Code Capacity');"
   ]
  },
  {
   "cell_type": "markdown",
   "metadata": {},
   "source": [
    "## Simple examples"
   ]
  },
  {
   "cell_type": "code",
   "execution_count": 79,
   "metadata": {},
   "outputs": [
    {
     "name": "stdout",
     "output_type": "stream",
     "text": [
      "h_eff = \n",
      " [[0 0 1 1]\n",
      " [0 1 1 1]\n",
      " [0 1 1 0]]\n",
      "prior = \n",
      " [[0.9 0.1]\n",
      " [0.9 0.1]\n",
      " [0.8 0.2]\n",
      " [0.8 0.2]]\n",
      "real_error = \n",
      " [0 0 1 0]\n",
      "syndrome = \n",
      " [1 1 1]\n"
     ]
    }
   ],
   "source": [
    "h_eff = np.array([[0, 0, 1, 1], [0, 1, 1, 1], [0, 1, 1, 0]])\n",
    "prior = np.array([[0.9, 0.1], [0.9, 0.1], [0.8, 0.2], [0.8, 0.2]])\n",
    "\n",
    "p = 0.1\n",
    "field = 2\n",
    "max_iter = 1000\n",
    "\n",
    "n_dets, n_qudits = h_eff.shape\n",
    "real_error = np.zeros(n_qudits, dtype=int)\n",
    "rand = np.random.rand(n_qudits)\n",
    "for err in range(n_qudits):\n",
    "    if rand[err] < prior[err, 1]:\n",
    "        real_error[err] = 1\n",
    "syndrome = (h_eff @ real_error) % field\n",
    "\n",
    "print(f'h_eff = \\n {h_eff}')\n",
    "print(f'prior = \\n {prior}')\n",
    "print(f'real_error = \\n {real_error}')\n",
    "print(f'syndrome = \\n {syndrome}')"
   ]
  },
  {
   "cell_type": "code",
   "execution_count": 80,
   "metadata": {},
   "outputs": [],
   "source": [
    "error, success = d_osd(field, h_eff, syndrome, prior, debug=False)\n",
    "\n",
    "assert success\n",
    "assert (error == real_error).all()"
   ]
  },
  {
   "cell_type": "code",
   "execution_count": 188,
   "metadata": {},
   "outputs": [
    {
     "data": {
      "text/plain": [
       "np.True_"
      ]
     },
     "execution_count": 188,
     "metadata": {},
     "output_type": "execute_result"
    }
   ],
   "source": [
    "error, success, bp_success, posterior = bp_osd(field, h_eff, syndrome, prior, max_iter=1, debug=True)\n",
    "\n",
    "assert success\n",
    "(error == real_error).all()"
   ]
  },
  {
   "cell_type": "code",
   "execution_count": 189,
   "metadata": {},
   "outputs": [
    {
     "data": {
      "text/plain": [
       "array([ 0.        ,  0.94444444, 25.61538462,  2.84615385])"
      ]
     },
     "execution_count": 189,
     "metadata": {},
     "output_type": "execute_result"
    }
   ],
   "source": [
    "posterior[:, 1]"
   ]
  },
  {
   "cell_type": "code",
   "execution_count": 190,
   "metadata": {},
   "outputs": [
    {
     "name": "stderr",
     "output_type": "stream",
     "text": [
      "C:\\Users\\elean\\AppData\\Local\\Temp\\ipykernel_39300\\1214461436.py:1: RuntimeWarning: divide by zero encountered in divide\n",
      "  np.log(1/posterior[:, 1])\n"
     ]
    },
    {
     "data": {
      "text/plain": [
       "array([        inf,  0.05715841, -3.24319313, -1.04596856])"
      ]
     },
     "execution_count": 190,
     "metadata": {},
     "output_type": "execute_result"
    }
   ],
   "source": [
    "np.log(1/posterior[:, 1])"
   ]
  },
  {
   "cell_type": "code",
   "execution_count": 191,
   "metadata": {},
   "outputs": [
    {
     "data": {
      "text/plain": [
       "array([0, 0, 1, 0], dtype=uint8)"
      ]
     },
     "execution_count": 191,
     "metadata": {},
     "output_type": "execute_result"
    }
   ],
   "source": [
    "error"
   ]
  },
  {
   "cell_type": "code",
   "execution_count": 192,
   "metadata": {},
   "outputs": [
    {
     "data": {
      "text/plain": [
       "np.False_"
      ]
     },
     "execution_count": 192,
     "metadata": {},
     "output_type": "execute_result"
    }
   ],
   "source": [
    "bpd = BpDecoder(h_eff, error_channel=prior[:, 1], max_iter=1, bp_method='product_sum')\n",
    "error = bpd.decode(syndrome)\n",
    "\n",
    "(error == real_error).all()"
   ]
  },
  {
   "cell_type": "code",
   "execution_count": 193,
   "metadata": {},
   "outputs": [
    {
     "data": {
      "text/plain": [
       "array([ 2.19722458,  0.05715841, -3.24319313, -1.04596856])"
      ]
     },
     "execution_count": 193,
     "metadata": {},
     "output_type": "execute_result"
    }
   ],
   "source": [
    "bpd.log_prob_ratios"
   ]
  },
  {
   "cell_type": "code",
   "execution_count": 194,
   "metadata": {},
   "outputs": [
    {
     "data": {
      "text/plain": [
       "array([0, 0, 1, 1])"
      ]
     },
     "execution_count": 194,
     "metadata": {},
     "output_type": "execute_result"
    }
   ],
   "source": [
    "bpd.decoding"
   ]
  },
  {
   "cell_type": "code",
   "execution_count": 153,
   "metadata": {},
   "outputs": [
    {
     "data": {
      "text/plain": [
       "array([ 0.11111111,  0.94444444, 25.61538462,  2.84615385])"
      ]
     },
     "execution_count": 153,
     "metadata": {},
     "output_type": "execute_result"
    }
   ],
   "source": [
    "g = bpd.log_prob_ratios\n",
    "1/np.exp(g)"
   ]
  },
  {
   "cell_type": "code",
   "execution_count": null,
   "metadata": {},
   "outputs": [],
   "source": []
  },
  {
   "cell_type": "markdown",
   "metadata": {},
   "source": [
    "## Threshold graphs for Joschka's code"
   ]
  },
  {
   "cell_type": "code",
   "execution_count": null,
   "metadata": {},
   "outputs": [],
   "source": [
    "# Code capacity model for qubit Toric code with varying distance using ldpc package\n",
    "\n",
    "a = Polynomial(2, np.array([[1, 0], [1, 0]]))\n",
    "b = Polynomial(2, np.array([[1, 1], [0, 0]]))\n",
    "\n",
    "num_failures = 5\n",
    "max_iter = 1000\n",
    "ldpc_results = {}\n",
    "\n",
    "save_data = {}\n",
    "save_data_filename = f'data_{datetime.datetime.now().strftime(\"%Y-%m-%d_%H-%M\")}.json'\n",
    "\n",
    "for d in [5, 7]:\n",
    "    bb = BivariateBicycle(a, b, d, d, 1)\n",
    "    lx = bb.x_logicals\n",
    "    n_qudits = bb.hx.shape[1]\n",
    "    # res = results_cap_qubit[d]\n",
    "    res = []\n",
    "    for ind, p in enumerate(np.logspace(-1.7, -0.7, 10)):\n",
    "    # for p in [0.01]:\n",
    "        failures = 0\n",
    "        num_trials = 0\n",
    "        #if d == 5:\n",
    "        #    if p < 0.002:\n",
    "        #        res.append(np.inf)\n",
    "        #        continue\n",
    "        #if d == 7:\n",
    "        #    if p < 0.003:\n",
    "        #        res.append(np.inf)\n",
    "        #        continue\n",
    "        #if d == 9:\n",
    "        #    if p < 0.004:\n",
    "        #        res.append(np.inf)\n",
    "        #        continue\n",
    "\n",
    "        # Construct error probability\n",
    "        channel_prob_x = np.ones(n_qudits) * p  # more complicated for qudits!!!\n",
    "\n",
    "        x_prior = np.zeros((n_qudits, bb.field), dtype=float)\n",
    "\n",
    "        for i, prob in enumerate(channel_prob_x):\n",
    "            x_prior[i, 0] = 1 - prob\n",
    "            for j in range(1, bb.field):\n",
    "                x_prior[i, j] = prob / (bb.field - 1)\n",
    "\n",
    "        while failures < num_failures:\n",
    "            # Generate syndrome\n",
    "            error = np.zeros(n_qudits, dtype=int)\n",
    "            error_mask = np.random.rand(n_qudits) < p\n",
    "            for i in np.where(error_mask)[0]:\n",
    "                error[i] = np.random.randint(1, bb.field)\n",
    "            syndrome = (bb.hx @ error) % bb.field\n",
    "\n",
    "            # Decode\n",
    "            bp_osd_d = bposd_decoder(bb.hx, channel_probs=x_prior[:, 1], max_iter=max_iter, bp_method='product_sum', osd_order=0)\n",
    "            guessed_error = bp_osd_d.decode(syndrome)\n",
    "            error_difference = (error - guessed_error) % 2\n",
    "            logical_effect = (np.array(lx) @ error_difference) % 2\n",
    "\n",
    "            # Check success\n",
    "            if np.any(logical_effect != 0):\n",
    "                failures += 1\n",
    "                # print(f'Found {failures} / {num_failures}, with num_trials : {num_trials}')\n",
    "\n",
    "            if num_trials % 100 == 0:\n",
    "                save_data['num_trials'] = num_trials\n",
    "                save_data['failures'] = failures\n",
    "                json.dump(save_data, open(save_data_filename, 'w'), indent=4)\n",
    "        \n",
    "            num_trials += 1\n",
    "        # res[1+ind] = num_trials\n",
    "        res.append(num_trials)\n",
    "        print(f'Finished p={p} for d={d} with num_trials={num_trials}')\n",
    "    print(f'Completed d={d}')\n",
    "    ldpc_results[d] = res"
   ]
  },
  {
   "cell_type": "code",
   "execution_count": 15,
   "metadata": {},
   "outputs": [],
   "source": [
    "jos_results = {5: [4039, 1692, 489, 204, 107, 33, 32, 22, 13, 8],\n",
    " 7: [23580, 8294, 1478, 558, 145, 137, 23, 19, 7, 12],\n",
    " 3: [416, 385, 213, 105, 112, 36, 22, 25, 7, 10]}"
   ]
  },
  {
   "cell_type": "code",
   "execution_count": null,
   "metadata": {},
   "outputs": [],
   "source": []
  },
  {
   "cell_type": "markdown",
   "metadata": {},
   "source": [
    "## Threshold graphs for my code"
   ]
  },
  {
   "cell_type": "code",
   "execution_count": 5,
   "metadata": {},
   "outputs": [
    {
     "name": "stderr",
     "output_type": "stream",
     "text": [
      "C:\\Users\\elean\\Documents\\Quantum-Computing-PhD\\ITP\\IP-BBQ\\qudit-bivariate-bicycle\\bbq\\decoder.py:76: ComplexWarning: Casting complex values to real discards the imaginary part\n",
      "  P[i, error, k] = sub_convolution[(syndrome[i] - k) % field]\n"
     ]
    },
    {
     "name": "stdout",
     "output_type": "stream",
     "text": [
      "Found 5 / 5, with num_trials : 5182\n",
      "Finished p=0.025769803745148787 for d=7 with num_trials=5183\n",
      "Found 1 / 5, with num_trials : 494\n",
      "Found 2 / 5, with num_trials : 4530\n",
      "Found 3 / 5, with num_trials : 8425\n",
      "Found 4 / 5, with num_trials : 17175\n",
      "Found 5 / 5, with num_trials : 18541\n",
      "Finished p=0.0199526231496888 for d=7 with num_trials=18542\n",
      "Completed d=7\n"
     ]
    }
   ],
   "source": [
    "# Code capacity model for qubit Toric code with varying distance\n",
    "\n",
    "a = Polynomial(2, np.array([[1, 0], [1, 0]]))\n",
    "b = Polynomial(2, np.array([[1, 1], [0, 0]]))\n",
    "\n",
    "num_failures = 5\n",
    "max_iter = 1000\n",
    "night_results = {}\n",
    "\n",
    "save_data = {}\n",
    "save_data_filename = f'data_{datetime.datetime.now().strftime(\"%Y-%m-%d_%H-%M\")}.json'\n",
    "\n",
    "night_debug = {}\n",
    "\n",
    "for d in [7]:\n",
    "    bb = BivariateBicycle(a, b, d, d, 1)\n",
    "    lx = bb.x_logicals\n",
    "    # res = results[d]\n",
    "    res = []\n",
    "    night_debug[d] = {}\n",
    "\n",
    "    for ind, p in enumerate(np.flip(np.logspace(-1.7, -0.7, 10)[0:2])):\n",
    "\n",
    "        night_debug[d][p] = {}\n",
    "\n",
    "        bp_errors = 0\n",
    "        osd_errors = 0\n",
    "\n",
    "        bp_successes = 0\n",
    "        osd_success = 0\n",
    "\n",
    "        # failed_osd_posteriors = []\n",
    "        # failed_syndromes = []\n",
    "\n",
    "        failures = 0\n",
    "        num_trials = 0\n",
    "\n",
    "        if d==7 and ind==0:\n",
    "            failures = 4\n",
    "            num_trials = 4059\n",
    "\n",
    "        while failures < num_failures:\n",
    "            # Generate syndrome\n",
    "            n_qudits = bb.hx.shape[1]\n",
    "            error = np.zeros(n_qudits, dtype=int)\n",
    "            error_mask = np.random.rand(n_qudits) < p\n",
    "            for i in np.where(error_mask)[0]:\n",
    "                error[i] = np.random.randint(1, bb.field)\n",
    "            syndrome = (bb.hx @ error) % bb.field\n",
    "\n",
    "            # Construct error probability\n",
    "            channel_prob_x = np.ones(n_qudits) * p\n",
    "\n",
    "            x_prior = np.zeros((len(channel_prob_x), 2), dtype=float)\n",
    "\n",
    "            for i, prob in enumerate(channel_prob_x):\n",
    "                x_prior[i, 0] = 1 - prob\n",
    "                for j in range(1, 2):\n",
    "                    x_prior[i, j] = prob / (2 - 1)\n",
    "\n",
    "            # Decode\n",
    "            guessed_error, decoder_success, bp_success, posterior = bp_osd(bb.field, bb.hx, syndrome, x_prior, max_iter, order=0, debug=True)\n",
    "            error_difference = (error - guessed_error) % 2\n",
    "            logical_effect = (np.array(lx) @ error_difference) % 2\n",
    "\n",
    "            # Check success\n",
    "            if np.any(logical_effect != 0):\n",
    "                failures += 1\n",
    "                if bp_success:\n",
    "                    bp_errors += 1\n",
    "                else:\n",
    "                    osd_errors += 1\n",
    "                    #failed_osd_posteriors.append(posterior)\n",
    "                    #failed_syndromes.append(syndrome)\n",
    "                print(f'Found {failures} / {num_failures}, with num_trials : {num_trials}')\n",
    "            else:\n",
    "                if bp_success:\n",
    "                    bp_successes += 1\n",
    "                else:\n",
    "                    osd_success += 1\n",
    "\n",
    "            if num_trials % 100 == 0:\n",
    "                save_data['num_trials'] = num_trials\n",
    "                save_data['failures'] = failures\n",
    "                json.dump(save_data, open(save_data_filename, 'w'), indent=4)\n",
    "\n",
    "            num_trials += 1\n",
    "\n",
    "        night_debug[d][p]['bp_errors'] = bp_errors\n",
    "        night_debug[d][p]['osd_errors'] = osd_errors\n",
    "        night_debug[d][p]['bp_success'] = bp_successes\n",
    "        night_debug[d][p]['osd_success'] = osd_success\n",
    "        #night_debug[d][p]['failed_osd_posteriors'] = failed_osd_posteriors\n",
    "        #night_debug[d][p]['failed_syndromes'] = failed_syndromes\n",
    "\n",
    "        res.append(num_trials)\n",
    "\n",
    "        print(f'Finished p={p} for d={d} with num_trials={num_trials}')\n",
    "\n",
    "    print(f'Completed d={d}')\n",
    "    night_results[d] = res"
   ]
  },
  {
   "cell_type": "code",
   "execution_count": 8,
   "metadata": {},
   "outputs": [],
   "source": [
    "results = {3: [424, 157, 87, 53, 44, 31, 17, 16, 13, 8],\n",
    " 5: [6496, 1636, 951, 330, 140, 67, 12, 19, 13, 7],\n",
    " 7: [18542, 5183, 2947, 544, 110, 92, 21, 14, 6, 8]}"
   ]
  },
  {
   "cell_type": "code",
   "execution_count": 9,
   "metadata": {},
   "outputs": [
    {
     "data": {
      "text/plain": [
       "{3: [424, 157, 87, 53, 44, 31, 17, 16, 13, 8],\n",
       " 5: [6496, 1636, 951, 330, 140, 67, 12, 19, 13, 7],\n",
       " 7: [18542, 5183, 2947, 544, 110, 92, 21, 14, 6, 8]}"
      ]
     },
     "execution_count": 9,
     "metadata": {},
     "output_type": "execute_result"
    }
   ],
   "source": [
    "results"
   ]
  },
  {
   "cell_type": "code",
   "execution_count": 14,
   "metadata": {},
   "outputs": [
    {
     "data": {
      "image/png": "[encoded data removed]",
      "text/plain": [
       "<Figure size 640x480 with 1 Axes>"
      ]
     },
     "metadata": {},
     "output_type": "display_data"
    }
   ],
   "source": [
    "x = np.logspace(-1.7, -0.7, 10)\n",
    "num_failures = {3 : 5, 5 : 5, 7 : 5}\n",
    "plot_results, plot_error_bars = process_results(results, num_failures)\n",
    "jos_plot_results, jos_plot_error_bars = process_results(jos_results, num_failures)\n",
    "\n",
    "plt.loglog(x, plot_results[3], color='lightcoral')\n",
    "plt.loglog(x, plot_results[5], color='lightseagreen')\n",
    "plt.loglog(x, plot_results[7], color='royalblue')\n",
    "plt.loglog(x, jos_plot_results[3], '--', color='lightcoral')\n",
    "plt.loglog(x, jos_plot_results[5], '--', color='lightseagreen')\n",
    "plt.loglog(x, jos_plot_results[7], '--', color='royalblue')\n",
    "\n",
    "plt.errorbar(x, plot_results[3], yerr=plot_error_bars[3], fmt='.', capsize=2.5, color='lightcoral')\n",
    "plt.errorbar(x, plot_results[5], yerr=plot_error_bars[5], fmt='.', capsize=2.5, color='lightseagreen')\n",
    "plt.errorbar(x, plot_results[7], yerr=plot_error_bars[7], fmt='.', capsize=2.5, color='royalblue')\n",
    "plt.errorbar(x, jos_plot_results[3], yerr=jos_plot_error_bars[3], fmt='.', capsize=2.5, color='lightcoral')\n",
    "plt.errorbar(x, jos_plot_results[5], yerr=jos_plot_error_bars[5], fmt='.', capsize=2.5, color='lightseagreen')\n",
    "plt.errorbar(x, jos_plot_results[7], yerr=jos_plot_error_bars[7], fmt='.', capsize=2.5, color='royalblue')\n",
    "\n",
    "plt.legend(['Ele d=3', 'Ele d=5', 'Ele d=7', 'Jos d=3', 'Jos d=5', 'Jos d=7'])\n",
    "plt.xlabel('Physical error rate')\n",
    "plt.ylabel('Logical error rate')\n",
    "plt.title('Qubit Toric Code under Code Capacity');"
   ]
  },
  {
   "cell_type": "code",
   "execution_count": null,
   "metadata": {},
   "outputs": [],
   "source": []
  }
 ],
 "metadata": {
  "kernelspec": {
   "display_name": "bbq_venv",
   "language": "python",
   "name": "python3"
  },
  "language_info": {
   "codemirror_mode": {
    "name": "ipython",
    "version": 3
   },
   "file_extension": ".py",
   "mimetype": "text/x-python",
   "name": "python",
   "nbconvert_exporter": "python",
   "pygments_lexer": "ipython3",
   "version": "3.13.1"
  }
 },
 "nbformat": 4,
 "nbformat_minor": 2
}
