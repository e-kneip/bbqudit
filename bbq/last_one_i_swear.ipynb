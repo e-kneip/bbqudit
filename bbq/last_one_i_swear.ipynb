{
 "cells": [
  {
   "cell_type": "code",
   "execution_count": 4,
   "metadata": {},
   "outputs": [],
   "source": [
    "from bbq.decoder import d_osd, bp_osd, belief_propagation, _syn_inv_permute_field\n",
    "from bbq.utils import det_to_err, err_to_det, find_pivots, rref\n",
    "import numpy as np\n",
    "from ldpc import BpDecoder, bposd_decoder\n",
    "from bbq.polynomial import Polynomial\n",
    "from bbq.bbq_code import BivariateBicycle\n",
    "import matplotlib.pyplot as plt\n",
    "import json\n",
    "import datetime\n",
    "import galois"
   ]
  },
  {
   "cell_type": "markdown",
   "metadata": {},
   "source": [
    "## Qudits!"
   ]
  },
  {
   "cell_type": "code",
   "execution_count": 5,
   "metadata": {},
   "outputs": [],
   "source": [
    "def simulate(field, h, l, max_iter, num_failures, physical_error):\n",
    "\n",
    "    results = []\n",
    "\n",
    "    for p in physical_error:\n",
    "\n",
    "        failures = 0\n",
    "        num_trials = 0\n",
    "\n",
    "        while failures < num_failures:\n",
    "            # Generate syndrome\n",
    "            n_qudits = h.shape[1]\n",
    "            error = np.zeros(n_qudits, dtype=int)\n",
    "            error_mask = np.random.rand(n_qudits) < p\n",
    "            for i in np.where(error_mask)[0]:\n",
    "                error[i] = np.random.randint(1, field)\n",
    "            syndrome = (h @ error) % field\n",
    "\n",
    "            # Construct error probability\n",
    "            channel_prob_x = np.ones(n_qudits) * p\n",
    "\n",
    "            x_prior = np.zeros((len(channel_prob_x), field), dtype=float)\n",
    "\n",
    "            for i, prob in enumerate(channel_prob_x):\n",
    "                x_prior[i, 0] = 1 - prob\n",
    "                for j in range(1, field):\n",
    "                    x_prior[i, j] = prob / (field - 1)\n",
    "\n",
    "            # Decode\n",
    "            # guessed_error, decoder_success, bp_success, posterior = belief_propagation(field, h, syndrome, x_prior, max_iter, debug=True)\n",
    "            guessed_error, decoder_success, bp_success, posterior = bp_osd(field, h, syndrome, x_prior, max_iter, order=0, debug=True)\n",
    "            error_difference = (error - guessed_error) % field\n",
    "            logical_effect = (np.array(l) @ error_difference) % field\n",
    "\n",
    "            # Check success\n",
    "            # if np.any(logical_effect != 0) or not decoder_success:\n",
    "            if np.any(logical_effect != 0):\n",
    "                failures += 1\n",
    "                print(f'Found {failures} / {num_failures}, with num_trials : {num_trials}')\n",
    "\n",
    "            num_trials += 1\n",
    "\n",
    "        results.append(num_trials)\n",
    "\n",
    "        print(f'Finished p={p} with num_trials={num_trials}')\n",
    "    return results"
   ]
  },
  {
   "cell_type": "code",
   "execution_count": 10,
   "metadata": {},
   "outputs": [],
   "source": [
    "a = Polynomial(2, np.array([[1, 0], [1, 0]]))\n",
    "b = Polynomial(2, np.array([[1, 1], [0, 0]]))\n",
    "bb2 = BivariateBicycle(a, b, 3, 3, 1)\n",
    "h2 = bb2.hx\n",
    "l2 = bb2.x_logicals\n",
    "bb25 = BivariateBicycle(a, b, 5, 5, 1)\n",
    "h25 = bb25.hx\n",
    "l25 = bb25.x_logicals\n",
    "bb27 = BivariateBicycle(a, b, 7, 7, 1)\n",
    "h27 = bb27.hx\n",
    "l27 = bb27.x_logicals\n",
    "\n",
    "a = Polynomial(3, np.array([[1, 0], [-1, 0]]))\n",
    "b = Polynomial(3, np.array([[1, -1], [0, 0]]))\n",
    "bb3 = BivariateBicycle(a, b, 3, 3, 1)\n",
    "h3 = bb3.hx\n",
    "l3 = bb3.x_logicals\n",
    "\n",
    "a = Polynomial(5, np.array([[1, 0], [-1, 0]]))\n",
    "b = Polynomial(5, np.array([[1, -1], [0, 0]]))\n",
    "bb5 = BivariateBicycle(a, b, 3, 3, 1)\n",
    "h5 = bb5.hx\n",
    "l5 = bb5.x_logicals\n",
    "\n",
    "max_iter = 1000\n",
    "num_failures = 3\n",
    "# physical_error = np.logspace(-2.7, -1, 10)\n",
    "physical_error = np.logspace(-1.7, -0.7, 10)"
   ]
  },
  {
   "cell_type": "code",
   "execution_count": 7,
   "metadata": {},
   "outputs": [],
   "source": [
    "def process_results(results, num_failures):\n",
    "    plot_results = {}\n",
    "    plot_error_bars = {}\n",
    "    for d in results:\n",
    "        plot_results[d] = num_failures[d] / (np.array(results[d]))\n",
    "        plot_error_bars[d] = np.sqrt((plot_results[d])*(1-plot_results[d])/results[d])\n",
    "    return plot_results, plot_error_bars"
   ]
  },
  {
   "cell_type": "code",
   "execution_count": 8,
   "metadata": {},
   "outputs": [
    {
     "name": "stderr",
     "output_type": "stream",
     "text": [
      "C:\\Users\\elean\\Documents\\Quantum-Computing-PhD\\ITP\\IP-BBQ\\qudit-bivariate-bicycle\\bbq\\decoder.py:105: ComplexWarning: Casting complex values to real discards the imaginary part\n",
      "  P[i, error, :] = sub_convolution[syn_inv_permutation[errs[j, 1], :]]\n"
     ]
    },
    {
     "name": "stdout",
     "output_type": "stream",
     "text": [
      "Found 1 / 3, with num_trials : 84\n",
      "Found 2 / 3, with num_trials : 120\n",
      "Found 3 / 3, with num_trials : 354\n",
      "Finished p=0.0199526231496888 with num_trials=355\n",
      "Found 1 / 3, with num_trials : 71\n",
      "Found 2 / 3, with num_trials : 288\n",
      "Found 3 / 3, with num_trials : 320\n",
      "Finished p=0.025769803745148787 with num_trials=321\n",
      "Found 1 / 3, with num_trials : 23\n",
      "Found 2 / 3, with num_trials : 48\n",
      "Found 3 / 3, with num_trials : 85\n",
      "Finished p=0.033282981394546204 with num_trials=86\n",
      "Found 1 / 3, with num_trials : 5\n",
      "Found 2 / 3, with num_trials : 24\n",
      "Found 3 / 3, with num_trials : 61\n",
      "Finished p=0.042986623470822764 with num_trials=62\n",
      "Found 1 / 3, with num_trials : 18\n",
      "Found 2 / 3, with num_trials : 48\n",
      "Found 3 / 3, with num_trials : 56\n",
      "Finished p=0.05551935914386209 with num_trials=57\n",
      "Found 1 / 3, with num_trials : 1\n",
      "Found 2 / 3, with num_trials : 4\n",
      "Found 3 / 3, with num_trials : 5\n",
      "Finished p=0.07170600970409613 with num_trials=6\n",
      "Found 1 / 3, with num_trials : 4\n",
      "Found 2 / 3, with num_trials : 12\n",
      "Found 3 / 3, with num_trials : 17\n",
      "Finished p=0.09261187281287937 with num_trials=18\n",
      "Found 1 / 3, with num_trials : 4\n",
      "Found 2 / 3, with num_trials : 6\n",
      "Found 3 / 3, with num_trials : 14\n",
      "Finished p=0.11961283330787534 with num_trials=15\n",
      "Found 1 / 3, with num_trials : 4\n",
      "Found 2 / 3, with num_trials : 11\n",
      "Found 3 / 3, with num_trials : 15\n",
      "Finished p=0.15448591479026755 with num_trials=16\n",
      "Found 1 / 3, with num_trials : 1\n",
      "Found 2 / 3, with num_trials : 2\n",
      "Found 3 / 3, with num_trials : 4\n",
      "Finished p=0.19952623149688797 with num_trials=5\n"
     ]
    }
   ],
   "source": [
    "full_results_2 = simulate(2, h2, l2, max_iter, num_failures, physical_error)"
   ]
  },
  {
   "cell_type": "code",
   "execution_count": 11,
   "metadata": {},
   "outputs": [
    {
     "name": "stderr",
     "output_type": "stream",
     "text": [
      "C:\\Users\\elean\\Documents\\Quantum-Computing-PhD\\ITP\\IP-BBQ\\qudit-bivariate-bicycle\\bbq\\decoder.py:105: ComplexWarning: Casting complex values to real discards the imaginary part\n",
      "  P[i, error, :] = sub_convolution[syn_inv_permutation[errs[j, 1], :]]\n"
     ]
    },
    {
     "name": "stdout",
     "output_type": "stream",
     "text": [
      "Found 1 / 3, with num_trials : 1005\n",
      "Found 2 / 3, with num_trials : 1377\n",
      "Found 3 / 3, with num_trials : 2094\n",
      "Finished p=0.0199526231496888 with num_trials=2095\n",
      "Found 1 / 3, with num_trials : 84\n",
      "Found 2 / 3, with num_trials : 106\n",
      "Found 3 / 3, with num_trials : 658\n",
      "Finished p=0.025769803745148787 with num_trials=659\n"
     ]
    },
    {
     "ename": "KeyboardInterrupt",
     "evalue": "",
     "output_type": "error",
     "traceback": [
      "\u001b[31m---------------------------------------------------------------------------\u001b[39m",
      "\u001b[31mKeyboardInterrupt\u001b[39m                         Traceback (most recent call last)",
      "\u001b[36mCell\u001b[39m\u001b[36m \u001b[39m\u001b[32mIn[11]\u001b[39m\u001b[32m, line 1\u001b[39m\n\u001b[32m----> \u001b[39m\u001b[32m1\u001b[39m full_results_25 = \u001b[43msimulate\u001b[49m\u001b[43m(\u001b[49m\u001b[32;43m2\u001b[39;49m\u001b[43m,\u001b[49m\u001b[43m \u001b[49m\u001b[43mh25\u001b[49m\u001b[43m,\u001b[49m\u001b[43m \u001b[49m\u001b[43ml25\u001b[49m\u001b[43m,\u001b[49m\u001b[43m \u001b[49m\u001b[43mmax_iter\u001b[49m\u001b[43m,\u001b[49m\u001b[43m \u001b[49m\u001b[43mnum_failures\u001b[49m\u001b[43m,\u001b[49m\u001b[43m \u001b[49m\u001b[43mphysical_error\u001b[49m\u001b[43m)\u001b[49m\n",
      "\u001b[36mCell\u001b[39m\u001b[36m \u001b[39m\u001b[32mIn[5]\u001b[39m\u001b[32m, line 31\u001b[39m, in \u001b[36msimulate\u001b[39m\u001b[34m(field, h, l, max_iter, num_failures, physical_error)\u001b[39m\n\u001b[32m     27\u001b[39m         x_prior[i, j] = prob / (field - \u001b[32m1\u001b[39m)\n\u001b[32m     29\u001b[39m \u001b[38;5;66;03m# Decode\u001b[39;00m\n\u001b[32m     30\u001b[39m \u001b[38;5;66;03m# guessed_error, decoder_success, bp_success, posterior = belief_propagation(field, h, syndrome, x_prior, max_iter, debug=True)\u001b[39;00m\n\u001b[32m---> \u001b[39m\u001b[32m31\u001b[39m guessed_error, decoder_success, bp_success, posterior = \u001b[43mbp_osd\u001b[49m\u001b[43m(\u001b[49m\u001b[43mfield\u001b[49m\u001b[43m,\u001b[49m\u001b[43m \u001b[49m\u001b[43mh\u001b[49m\u001b[43m,\u001b[49m\u001b[43m \u001b[49m\u001b[43msyndrome\u001b[49m\u001b[43m,\u001b[49m\u001b[43m \u001b[49m\u001b[43mx_prior\u001b[49m\u001b[43m,\u001b[49m\u001b[43m \u001b[49m\u001b[43mmax_iter\u001b[49m\u001b[43m,\u001b[49m\u001b[43m \u001b[49m\u001b[43morder\u001b[49m\u001b[43m=\u001b[49m\u001b[32;43m0\u001b[39;49m\u001b[43m,\u001b[49m\u001b[43m \u001b[49m\u001b[43mdebug\u001b[49m\u001b[43m=\u001b[49m\u001b[38;5;28;43;01mTrue\u001b[39;49;00m\u001b[43m)\u001b[49m\n\u001b[32m     32\u001b[39m error_difference = (error - guessed_error) % field\n\u001b[32m     33\u001b[39m logical_effect = (np.array(l) @ error_difference) % field\n",
      "\u001b[36mFile \u001b[39m\u001b[32m~\\Documents\\Quantum-Computing-PhD\\ITP\\IP-BBQ\\qudit-bivariate-bicycle\\bbq\\decoder.py:615\u001b[39m, in \u001b[36mbp_osd\u001b[39m\u001b[34m(field, h_eff, syndrome, prior, max_iter, order, debug)\u001b[39m\n\u001b[32m    612\u001b[39m \u001b[38;5;28;01mif\u001b[39;00m \u001b[38;5;129;01mnot\u001b[39;00m (\u001b[38;5;28misinstance\u001b[39m(max_iter, \u001b[38;5;28mint\u001b[39m) \u001b[38;5;129;01mand\u001b[39;00m max_iter > \u001b[32m0\u001b[39m):\n\u001b[32m    613\u001b[39m     \u001b[38;5;28;01mraise\u001b[39;00m \u001b[38;5;167;01mValueError\u001b[39;00m(\u001b[33m\"\u001b[39m\u001b[33mmax_iter must be a positive integer\u001b[39m\u001b[33m\"\u001b[39m)\n\u001b[32m--> \u001b[39m\u001b[32m615\u001b[39m error, success, bp_success, posterior = \u001b[43mbelief_propagation\u001b[49m\u001b[43m(\u001b[49m\n\u001b[32m    616\u001b[39m \u001b[43m    \u001b[49m\u001b[43mfield\u001b[49m\u001b[43m,\u001b[49m\u001b[43m \u001b[49m\u001b[43mh_eff\u001b[49m\u001b[43m,\u001b[49m\u001b[43m \u001b[49m\u001b[43msyndrome\u001b[49m\u001b[43m,\u001b[49m\u001b[43m \u001b[49m\u001b[43mprior\u001b[49m\u001b[43m,\u001b[49m\u001b[43m \u001b[49m\u001b[43mmax_iter\u001b[49m\u001b[43m,\u001b[49m\u001b[43m \u001b[49m\u001b[43mdebug\u001b[49m\u001b[43m=\u001b[49m\u001b[38;5;28;43;01mTrue\u001b[39;49;00m\n\u001b[32m    617\u001b[39m \u001b[43m\u001b[49m\u001b[43m)\u001b[49m\n\u001b[32m    618\u001b[39m \u001b[38;5;28;01mif\u001b[39;00m success:\n\u001b[32m    619\u001b[39m     \u001b[38;5;28;01mif\u001b[39;00m debug:\n",
      "\u001b[36mFile \u001b[39m\u001b[32m~\\Documents\\Quantum-Computing-PhD\\ITP\\IP-BBQ\\qudit-bivariate-bicycle\\bbq\\decoder.py:223\u001b[39m, in \u001b[36mbelief_propagation\u001b[39m\u001b[34m(field, h_eff, syndrome, prior, max_iter, debug)\u001b[39m\n\u001b[32m    220\u001b[39m _check_to_error_message(field, syndrome, P, Q, det_neighbourhood, permutation)\n\u001b[32m    222\u001b[39m \u001b[38;5;66;03m# Step 2: pass error to check messages\u001b[39;00m\n\u001b[32m--> \u001b[39m\u001b[32m223\u001b[39m \u001b[43m_error_to_check_message\u001b[49m\u001b[43m(\u001b[49m\u001b[43mprior\u001b[49m\u001b[43m,\u001b[49m\u001b[43m \u001b[49m\u001b[43mP\u001b[49m\u001b[43m,\u001b[49m\u001b[43m \u001b[49m\u001b[43mQ\u001b[49m\u001b[43m,\u001b[49m\u001b[43m \u001b[49m\u001b[43merr_neighbourhood\u001b[49m\u001b[43m)\u001b[49m\n\u001b[32m    225\u001b[39m \u001b[38;5;66;03m# Step 3: calculate posterior and make hard decision on errors\u001b[39;00m\n\u001b[32m    226\u001b[39m error, posteriors = _calculate_posterior(prior, n_errors, err_neighbourhood, P)\n",
      "\u001b[36mFile \u001b[39m\u001b[32m~\\Documents\\Quantum-Computing-PhD\\ITP\\IP-BBQ\\qudit-bivariate-bicycle\\bbq\\decoder.py:114\u001b[39m, in \u001b[36m_error_to_check_message\u001b[39m\u001b[34m(prior, P, Q, err_neighbourhood)\u001b[39m\n\u001b[32m    110\u001b[39m \u001b[38;5;28;01mfor\u001b[39;00m i, dets \u001b[38;5;129;01min\u001b[39;00m err_neighbourhood.items():\n\u001b[32m    111\u001b[39m     \u001b[38;5;66;03m# Isolate the relevant check messages\u001b[39;00m\n\u001b[32m    112\u001b[39m     posterior = P[dets[:, \u001b[32m0\u001b[39m], i, :]\n\u001b[32m--> \u001b[39m\u001b[32m114\u001b[39m     \u001b[38;5;28;01mfor\u001b[39;00m j, detector \u001b[38;5;129;01min\u001b[39;00m \u001b[38;5;28;43menumerate\u001b[39;49m\u001b[43m(\u001b[49m\u001b[43mdets\u001b[49m\u001b[43m[\u001b[49m\u001b[43m:\u001b[49m\u001b[43m,\u001b[49m\u001b[43m \u001b[49m\u001b[32;43m0\u001b[39;49m\u001b[43m]\u001b[49m\u001b[43m)\u001b[49m:\n\u001b[32m    115\u001b[39m         \u001b[38;5;66;03m# Remove the j-th check message from the posterior\u001b[39;00m\n\u001b[32m    116\u001b[39m         sub_posterior = np.delete(posterior, j, axis=\u001b[32m0\u001b[39m)\n\u001b[32m    118\u001b[39m         \u001b[38;5;66;03m# Compute the product of probabilities\u001b[39;00m\n",
      "\u001b[31mKeyboardInterrupt\u001b[39m: "
     ]
    }
   ],
   "source": [
    "full_results_25 = simulate(2, h25, l25, max_iter, num_failures, physical_error)"
   ]
  },
  {
   "cell_type": "code",
   "execution_count": null,
   "metadata": {},
   "outputs": [
    {
     "name": "stderr",
     "output_type": "stream",
     "text": [
      "C:\\Users\\elean\\Documents\\Quantum-Computing-PhD\\ITP\\IP-BBQ\\qudit-bivariate-bicycle\\bbq\\decoder.py:105: ComplexWarning: Casting complex values to real discards the imaginary part\n",
      "  P[i, error, :] = sub_convolution[syn_inv_permutation[errs[j, 1], :]]\n"
     ]
    }
   ],
   "source": [
    "full_results_27 = simulate(2, h27, l27, max_iter, num_failures, physical_error[0:1])"
   ]
  },
  {
   "cell_type": "code",
   "execution_count": null,
   "metadata": {},
   "outputs": [
    {
     "data": {
      "image/png": "[encoded data removed]",
      "text/plain": [
       "<Figure size 640x480 with 1 Axes>"
      ]
     },
     "metadata": {},
     "output_type": "display_data"
    }
   ],
   "source": [
    "#results = {3 : full_results_2}\n",
    "results = {3 : full_results_2, 5 : full_results_25}\n",
    "#results = {3 : full_results_2, 5 : full_results_25, 7 : full_results_27}\n",
    "\n",
    "x = physical_error\n",
    "plot_num_failures = {3 : 3, 5 : 3, 7 : 3}\n",
    "plot_results, plot_error_bars = process_results(results, plot_num_failures)\n",
    "\n",
    "plt.loglog(x, plot_results[3], color='lightcoral')\n",
    "plt.loglog(x, plot_results[5], color='lightseagreen')\n",
    "#plt.loglog(x, plot_results[7], color='royalblue')\n",
    "\n",
    "plt.errorbar(x, plot_results[3], yerr=plot_error_bars[3], fmt='.', capsize=2.5, color='lightcoral')\n",
    "plt.errorbar(x, plot_results[5], yerr=plot_error_bars[5], fmt='.', capsize=2.5, color='lightseagreen')\n",
    "#plt.errorbar(x, plot_results[7], yerr=plot_error_bars[7], fmt='.', capsize=2.5, color='royalblue')\n",
    "\n",
    "plt.legend(['d=3', 'd=5', 'd=7'])\n",
    "plt.xlabel('Physical error rate')\n",
    "plt.ylabel('Logical error rate')\n",
    "plt.title('Qudit Toric Code (3x3) under Code Capacity');"
   ]
  },
  {
   "cell_type": "code",
   "execution_count": null,
   "metadata": {},
   "outputs": [
    {
     "name": "stderr",
     "output_type": "stream",
     "text": [
      "C:\\Users\\elean\\Documents\\Quantum-Computing-PhD\\ITP\\IP-BBQ\\qudit-bivariate-bicycle\\bbq\\decoder.py:105: ComplexWarning: Casting complex values to real discards the imaginary part\n",
      "  P[i, error, :] = sub_convolution[syn_inv_permutation[errs[j, 1], :]]\n"
     ]
    },
    {
     "name": "stdout",
     "output_type": "stream",
     "text": [
      "Found 1 / 3, with num_trials : 3191\n",
      "Found 2 / 3, with num_trials : 4423\n",
      "Found 3 / 3, with num_trials : 9670\n",
      "Finished p=0.001995262314968879 with num_trials=9671\n",
      "Found 1 / 3, with num_trials : 603\n",
      "Found 2 / 3, with num_trials : 837\n",
      "Found 3 / 3, with num_trials : 3905\n",
      "Finished p=0.0030823992397451434 with num_trials=3906\n",
      "Found 1 / 3, with num_trials : 1782\n",
      "Found 2 / 3, with num_trials : 2172\n",
      "Found 3 / 3, with num_trials : 3283\n",
      "Finished p=0.004761872663008535 with num_trials=3284\n",
      "Found 1 / 3, with num_trials : 55\n",
      "Found 2 / 3, with num_trials : 239\n",
      "Found 3 / 3, with num_trials : 247\n",
      "Finished p=0.007356422544596414 with num_trials=248\n",
      "Found 1 / 3, with num_trials : 105\n",
      "Found 2 / 3, with num_trials : 413\n",
      "Found 3 / 3, with num_trials : 512\n",
      "Finished p=0.011364636663857243 with num_trials=513\n",
      "Found 1 / 3, with num_trials : 94\n",
      "Found 2 / 3, with num_trials : 102\n",
      "Found 3 / 3, with num_trials : 105\n",
      "Finished p=0.017556762912750015 with num_trials=106\n",
      "Found 1 / 3, with num_trials : 15\n",
      "Found 2 / 3, with num_trials : 51\n",
      "Found 3 / 3, with num_trials : 69\n",
      "Finished p=0.02712272579332028 with num_trials=70\n",
      "Found 1 / 3, with num_trials : 3\n",
      "Found 2 / 3, with num_trials : 7\n",
      "Found 3 / 3, with num_trials : 13\n",
      "Finished p=0.04190079105786669 with num_trials=14\n",
      "Found 1 / 3, with num_trials : 4\n",
      "Found 2 / 3, with num_trials : 9\n",
      "Found 3 / 3, with num_trials : 15\n",
      "Finished p=0.06473082037010398 with num_trials=16\n",
      "Found 1 / 3, with num_trials : 1\n",
      "Found 2 / 3, with num_trials : 2\n",
      "Found 3 / 3, with num_trials : 4\n",
      "Finished p=0.1 with num_trials=5\n"
     ]
    }
   ],
   "source": [
    "results_2 = simulate(2, h2, l2, max_iter, num_failures, physical_error)"
   ]
  },
  {
   "cell_type": "code",
   "execution_count": 14,
   "metadata": {},
   "outputs": [
    {
     "name": "stderr",
     "output_type": "stream",
     "text": [
      "C:\\Users\\elean\\Documents\\Quantum-Computing-PhD\\ITP\\IP-BBQ\\qudit-bivariate-bicycle\\bbq\\decoder.py:105: ComplexWarning: Casting complex values to real discards the imaginary part\n",
      "  P[i, error, :] = sub_convolution[syn_inv_permutation[errs[j, 1], :]]\n"
     ]
    },
    {
     "name": "stdout",
     "output_type": "stream",
     "text": [
      "Found 1 / 3, with num_trials : 11286\n",
      "Found 2 / 3, with num_trials : 14643\n",
      "Found 3 / 3, with num_trials : 15258\n",
      "Finished p=0.001995262314968879 with num_trials=15259\n",
      "Found 1 / 3, with num_trials : 226\n",
      "Found 2 / 3, with num_trials : 5046\n",
      "Found 3 / 3, with num_trials : 6713\n",
      "Finished p=0.0030823992397451434 with num_trials=6714\n",
      "Found 1 / 3, with num_trials : 700\n",
      "Found 2 / 3, with num_trials : 1166\n",
      "Found 3 / 3, with num_trials : 2288\n",
      "Finished p=0.004761872663008535 with num_trials=2289\n",
      "Found 1 / 3, with num_trials : 23\n",
      "Found 2 / 3, with num_trials : 190\n",
      "Found 3 / 3, with num_trials : 435\n",
      "Finished p=0.007356422544596414 with num_trials=436\n",
      "Found 1 / 3, with num_trials : 99\n",
      "Found 2 / 3, with num_trials : 257\n",
      "Found 3 / 3, with num_trials : 359\n",
      "Finished p=0.011364636663857243 with num_trials=360\n",
      "Found 1 / 3, with num_trials : 146\n",
      "Found 2 / 3, with num_trials : 279\n",
      "Found 3 / 3, with num_trials : 317\n",
      "Finished p=0.017556762912750015 with num_trials=318\n",
      "Found 1 / 3, with num_trials : 12\n",
      "Found 2 / 3, with num_trials : 51\n",
      "Found 3 / 3, with num_trials : 56\n",
      "Finished p=0.02712272579332028 with num_trials=57\n",
      "Found 1 / 3, with num_trials : 19\n",
      "Found 2 / 3, with num_trials : 28\n",
      "Found 3 / 3, with num_trials : 41\n",
      "Finished p=0.04190079105786669 with num_trials=42\n",
      "Found 1 / 3, with num_trials : 3\n",
      "Found 2 / 3, with num_trials : 10\n",
      "Found 3 / 3, with num_trials : 13\n",
      "Finished p=0.06473082037010398 with num_trials=14\n",
      "Found 1 / 3, with num_trials : 2\n",
      "Found 2 / 3, with num_trials : 6\n",
      "Found 3 / 3, with num_trials : 8\n",
      "Finished p=0.1 with num_trials=9\n"
     ]
    }
   ],
   "source": [
    "results_3 = simulate(3, h3, l3, max_iter, num_failures, physical_error)"
   ]
  },
  {
   "cell_type": "code",
   "execution_count": 17,
   "metadata": {},
   "outputs": [
    {
     "name": "stdout",
     "output_type": "stream",
     "text": [
      "Found 1 / 3, with num_trials : 110\n",
      "Found 2 / 3, with num_trials : 18320\n",
      "Found 3 / 3, with num_trials : 20470\n",
      "Finished p=0.001995262314968879 with num_trials=20471\n",
      "Found 1 / 3, with num_trials : 14403\n",
      "Found 2 / 3, with num_trials : 22755\n",
      "Found 3 / 3, with num_trials : 24197\n",
      "Finished p=0.0030823992397451434 with num_trials=24198\n",
      "Found 1 / 3, with num_trials : 2702\n",
      "Found 2 / 3, with num_trials : 4397\n",
      "Found 3 / 3, with num_trials : 5409\n",
      "Finished p=0.004761872663008535 with num_trials=5410\n",
      "Found 1 / 3, with num_trials : 279\n",
      "Found 2 / 3, with num_trials : 342\n",
      "Found 3 / 3, with num_trials : 379\n",
      "Finished p=0.007356422544596414 with num_trials=380\n",
      "Found 1 / 3, with num_trials : 466\n",
      "Found 2 / 3, with num_trials : 736\n",
      "Found 3 / 3, with num_trials : 775\n",
      "Finished p=0.011364636663857243 with num_trials=776\n",
      "Found 1 / 3, with num_trials : 10\n",
      "Found 2 / 3, with num_trials : 37\n",
      "Found 3 / 3, with num_trials : 55\n",
      "Finished p=0.017556762912750015 with num_trials=56\n",
      "Found 1 / 3, with num_trials : 17\n",
      "Found 2 / 3, with num_trials : 47\n",
      "Found 3 / 3, with num_trials : 93\n",
      "Finished p=0.02712272579332028 with num_trials=94\n",
      "Found 1 / 3, with num_trials : 11\n",
      "Found 2 / 3, with num_trials : 27\n",
      "Found 3 / 3, with num_trials : 29\n",
      "Finished p=0.04190079105786669 with num_trials=30\n",
      "Found 1 / 3, with num_trials : 0\n",
      "Found 2 / 3, with num_trials : 4\n",
      "Found 3 / 3, with num_trials : 9\n",
      "Finished p=0.06473082037010398 with num_trials=10\n",
      "Found 1 / 3, with num_trials : 2\n",
      "Found 2 / 3, with num_trials : 3\n",
      "Found 3 / 3, with num_trials : 6\n",
      "Finished p=0.1 with num_trials=7\n"
     ]
    }
   ],
   "source": [
    "results_5 = simulate(5, h5, l5, max_iter, num_failures, physical_error)"
   ]
  },
  {
   "cell_type": "code",
   "execution_count": 19,
   "metadata": {},
   "outputs": [
    {
     "data": {
      "image/png": "[encoded data removed]",
      "text/plain": [
       "<Figure size 640x480 with 1 Axes>"
      ]
     },
     "metadata": {},
     "output_type": "display_data"
    }
   ],
   "source": [
    "#results = {2 : results_2}\n",
    "#results = {2 : results_2, 3 : results_3}\n",
    "results = {2 : results_2, 3 : results_3, 5 : results_5}\n",
    "\n",
    "x = np.logspace(-2.7, -1, 10)\n",
    "plot_num_failures = {2 : 3, 3 : 3, 5 : 3}\n",
    "plot_results, plot_error_bars = process_results(results, plot_num_failures)\n",
    "\n",
    "plt.loglog(x, plot_results[2], color='lightcoral')\n",
    "plt.loglog(x, plot_results[3], color='lightseagreen')\n",
    "plt.loglog(x, plot_results[5], color='royalblue')\n",
    "\n",
    "plt.errorbar(x, plot_results[2], yerr=plot_error_bars[2], fmt='.', capsize=2.5, color='lightcoral')\n",
    "plt.errorbar(x, plot_results[3], yerr=plot_error_bars[3], fmt='.', capsize=2.5, color='lightseagreen')\n",
    "plt.errorbar(x, plot_results[5], yerr=plot_error_bars[5], fmt='.', capsize=2.5, color='royalblue')\n",
    "\n",
    "plt.legend(['Qubit (d=2)', 'Qutrit (d=3)', 'Ququint (d=5)'])\n",
    "plt.xlabel('Physical error rate')\n",
    "plt.ylabel('Logical error rate')\n",
    "plt.title('Qudit Toric Code (3x3) under Code Capacity');"
   ]
  },
  {
   "cell_type": "markdown",
   "metadata": {},
   "source": [
    "## Simple examples"
   ]
  },
  {
   "cell_type": "code",
   "execution_count": 79,
   "metadata": {},
   "outputs": [
    {
     "name": "stdout",
     "output_type": "stream",
     "text": [
      "h_eff = \n",
      " [[0 0 1 1]\n",
      " [0 1 1 1]\n",
      " [0 1 1 0]]\n",
      "prior = \n",
      " [[0.9 0.1]\n",
      " [0.9 0.1]\n",
      " [0.8 0.2]\n",
      " [0.8 0.2]]\n",
      "real_error = \n",
      " [0 0 1 0]\n",
      "syndrome = \n",
      " [1 1 1]\n"
     ]
    }
   ],
   "source": [
    "h_eff = np.array([[0, 0, 1, 1], [0, 1, 1, 1], [0, 1, 1, 0]])\n",
    "prior = np.array([[0.9, 0.1], [0.9, 0.1], [0.8, 0.2], [0.8, 0.2]])\n",
    "\n",
    "p = 0.1\n",
    "field = 2\n",
    "max_iter = 1000\n",
    "\n",
    "n_dets, n_qudits = h_eff.shape\n",
    "real_error = np.zeros(n_qudits, dtype=int)\n",
    "rand = np.random.rand(n_qudits)\n",
    "for err in range(n_qudits):\n",
    "    if rand[err] < prior[err, 1]:\n",
    "        real_error[err] = 1\n",
    "syndrome = (h_eff @ real_error) % field\n",
    "\n",
    "print(f'h_eff = \\n {h_eff}')\n",
    "print(f'prior = \\n {prior}')\n",
    "print(f'real_error = \\n {real_error}')\n",
    "print(f'syndrome = \\n {syndrome}')"
   ]
  },
  {
   "cell_type": "code",
   "execution_count": 80,
   "metadata": {},
   "outputs": [],
   "source": [
    "error, success = d_osd(field, h_eff, syndrome, prior, debug=False)\n",
    "\n",
    "assert success\n",
    "assert (error == real_error).all()"
   ]
  },
  {
   "cell_type": "code",
   "execution_count": 188,
   "metadata": {},
   "outputs": [
    {
     "data": {
      "text/plain": [
       "np.True_"
      ]
     },
     "execution_count": 188,
     "metadata": {},
     "output_type": "execute_result"
    }
   ],
   "source": [
    "error, success, bp_success, posterior = bp_osd(field, h_eff, syndrome, prior, max_iter=1, debug=True)\n",
    "\n",
    "assert success\n",
    "(error == real_error).all()"
   ]
  },
  {
   "cell_type": "code",
   "execution_count": 189,
   "metadata": {},
   "outputs": [
    {
     "data": {
      "text/plain": [
       "array([ 0.        ,  0.94444444, 25.61538462,  2.84615385])"
      ]
     },
     "execution_count": 189,
     "metadata": {},
     "output_type": "execute_result"
    }
   ],
   "source": [
    "posterior[:, 1]"
   ]
  },
  {
   "cell_type": "code",
   "execution_count": 190,
   "metadata": {},
   "outputs": [
    {
     "name": "stderr",
     "output_type": "stream",
     "text": [
      "C:\\Users\\elean\\AppData\\Local\\Temp\\ipykernel_39300\\1214461436.py:1: RuntimeWarning: divide by zero encountered in divide\n",
      "  np.log(1/posterior[:, 1])\n"
     ]
    },
    {
     "data": {
      "text/plain": [
       "array([        inf,  0.05715841, -3.24319313, -1.04596856])"
      ]
     },
     "execution_count": 190,
     "metadata": {},
     "output_type": "execute_result"
    }
   ],
   "source": [
    "np.log(1/posterior[:, 1])"
   ]
  },
  {
   "cell_type": "code",
   "execution_count": 191,
   "metadata": {},
   "outputs": [
    {
     "data": {
      "text/plain": [
       "array([0, 0, 1, 0], dtype=uint8)"
      ]
     },
     "execution_count": 191,
     "metadata": {},
     "output_type": "execute_result"
    }
   ],
   "source": [
    "error"
   ]
  },
  {
   "cell_type": "code",
   "execution_count": 192,
   "metadata": {},
   "outputs": [
    {
     "data": {
      "text/plain": [
       "np.False_"
      ]
     },
     "execution_count": 192,
     "metadata": {},
     "output_type": "execute_result"
    }
   ],
   "source": [
    "bpd = BpDecoder(h_eff, error_channel=prior[:, 1], max_iter=1, bp_method='product_sum')\n",
    "error = bpd.decode(syndrome)\n",
    "\n",
    "(error == real_error).all()"
   ]
  },
  {
   "cell_type": "code",
   "execution_count": 193,
   "metadata": {},
   "outputs": [
    {
     "data": {
      "text/plain": [
       "array([ 2.19722458,  0.05715841, -3.24319313, -1.04596856])"
      ]
     },
     "execution_count": 193,
     "metadata": {},
     "output_type": "execute_result"
    }
   ],
   "source": [
    "bpd.log_prob_ratios"
   ]
  },
  {
   "cell_type": "code",
   "execution_count": 194,
   "metadata": {},
   "outputs": [
    {
     "data": {
      "text/plain": [
       "array([0, 0, 1, 1])"
      ]
     },
     "execution_count": 194,
     "metadata": {},
     "output_type": "execute_result"
    }
   ],
   "source": [
    "bpd.decoding"
   ]
  },
  {
   "cell_type": "code",
   "execution_count": 153,
   "metadata": {},
   "outputs": [
    {
     "data": {
      "text/plain": [
       "array([ 0.11111111,  0.94444444, 25.61538462,  2.84615385])"
      ]
     },
     "execution_count": 153,
     "metadata": {},
     "output_type": "execute_result"
    }
   ],
   "source": [
    "g = bpd.log_prob_ratios\n",
    "1/np.exp(g)"
   ]
  },
  {
   "cell_type": "code",
   "execution_count": null,
   "metadata": {},
   "outputs": [],
   "source": []
  },
  {
   "cell_type": "markdown",
   "metadata": {},
   "source": [
    "## Threshold graphs for Joschka's code"
   ]
  },
  {
   "cell_type": "code",
   "execution_count": null,
   "metadata": {},
   "outputs": [],
   "source": [
    "# Code capacity model for qubit Toric code with varying distance using ldpc package\n",
    "\n",
    "a = Polynomial(2, np.array([[1, 0], [1, 0]]))\n",
    "b = Polynomial(2, np.array([[1, 1], [0, 0]]))\n",
    "\n",
    "num_failures = 5\n",
    "max_iter = 1000\n",
    "ldpc_results = {}\n",
    "\n",
    "save_data = {}\n",
    "save_data_filename = f'data_{datetime.datetime.now().strftime(\"%Y-%m-%d_%H-%M\")}.json'\n",
    "\n",
    "for d in [5, 7]:\n",
    "    bb = BivariateBicycle(a, b, d, d, 1)\n",
    "    lx = bb.x_logicals\n",
    "    n_qudits = bb.hx.shape[1]\n",
    "    # res = results_cap_qubit[d]\n",
    "    res = []\n",
    "    for ind, p in enumerate(np.logspace(-1.7, -0.7, 10)):\n",
    "    # for p in [0.01]:\n",
    "        failures = 0\n",
    "        num_trials = 0\n",
    "        #if d == 5:\n",
    "        #    if p < 0.002:\n",
    "        #        res.append(np.inf)\n",
    "        #        continue\n",
    "        #if d == 7:\n",
    "        #    if p < 0.003:\n",
    "        #        res.append(np.inf)\n",
    "        #        continue\n",
    "        #if d == 9:\n",
    "        #    if p < 0.004:\n",
    "        #        res.append(np.inf)\n",
    "        #        continue\n",
    "\n",
    "        # Construct error probability\n",
    "        channel_prob_x = np.ones(n_qudits) * p  # more complicated for qudits!!!\n",
    "\n",
    "        x_prior = np.zeros((n_qudits, bb.field), dtype=float)\n",
    "\n",
    "        for i, prob in enumerate(channel_prob_x):\n",
    "            x_prior[i, 0] = 1 - prob\n",
    "            for j in range(1, bb.field):\n",
    "                x_prior[i, j] = prob / (bb.field - 1)\n",
    "\n",
    "        while failures < num_failures:\n",
    "            # Generate syndrome\n",
    "            error = np.zeros(n_qudits, dtype=int)\n",
    "            error_mask = np.random.rand(n_qudits) < p\n",
    "            for i in np.where(error_mask)[0]:\n",
    "                error[i] = np.random.randint(1, bb.field)\n",
    "            syndrome = (bb.hx @ error) % bb.field\n",
    "\n",
    "            # Decode\n",
    "            bp_osd_d = bposd_decoder(bb.hx, channel_probs=x_prior[:, 1], max_iter=max_iter, bp_method='product_sum', osd_order=0)\n",
    "            guessed_error = bp_osd_d.decode(syndrome)\n",
    "            error_difference = (error - guessed_error) % 2\n",
    "            logical_effect = (np.array(lx) @ error_difference) % 2\n",
    "\n",
    "            # Check success\n",
    "            if np.any(logical_effect != 0):\n",
    "                failures += 1\n",
    "                # print(f'Found {failures} / {num_failures}, with num_trials : {num_trials}')\n",
    "\n",
    "            if num_trials % 100 == 0:\n",
    "                save_data['num_trials'] = num_trials\n",
    "                save_data['failures'] = failures\n",
    "                json.dump(save_data, open(save_data_filename, 'w'), indent=4)\n",
    "        \n",
    "            num_trials += 1\n",
    "        # res[1+ind] = num_trials\n",
    "        res.append(num_trials)\n",
    "        print(f'Finished p={p} for d={d} with num_trials={num_trials}')\n",
    "    print(f'Completed d={d}')\n",
    "    ldpc_results[d] = res"
   ]
  },
  {
   "cell_type": "code",
   "execution_count": 15,
   "metadata": {},
   "outputs": [],
   "source": [
    "jos_results = {5: [4039, 1692, 489, 204, 107, 33, 32, 22, 13, 8],\n",
    " 7: [23580, 8294, 1478, 558, 145, 137, 23, 19, 7, 12],\n",
    " 3: [416, 385, 213, 105, 112, 36, 22, 25, 7, 10]}"
   ]
  },
  {
   "cell_type": "code",
   "execution_count": null,
   "metadata": {},
   "outputs": [],
   "source": []
  },
  {
   "cell_type": "markdown",
   "metadata": {},
   "source": [
    "## Threshold graphs for my code"
   ]
  },
  {
   "cell_type": "code",
   "execution_count": 5,
   "metadata": {},
   "outputs": [
    {
     "name": "stderr",
     "output_type": "stream",
     "text": [
      "C:\\Users\\elean\\Documents\\Quantum-Computing-PhD\\ITP\\IP-BBQ\\qudit-bivariate-bicycle\\bbq\\decoder.py:76: ComplexWarning: Casting complex values to real discards the imaginary part\n",
      "  P[i, error, k] = sub_convolution[(syndrome[i] - k) % field]\n"
     ]
    },
    {
     "name": "stdout",
     "output_type": "stream",
     "text": [
      "Found 5 / 5, with num_trials : 5182\n",
      "Finished p=0.025769803745148787 for d=7 with num_trials=5183\n",
      "Found 1 / 5, with num_trials : 494\n",
      "Found 2 / 5, with num_trials : 4530\n",
      "Found 3 / 5, with num_trials : 8425\n",
      "Found 4 / 5, with num_trials : 17175\n",
      "Found 5 / 5, with num_trials : 18541\n",
      "Finished p=0.0199526231496888 for d=7 with num_trials=18542\n",
      "Completed d=7\n"
     ]
    }
   ],
   "source": [
    "# Code capacity model for qubit Toric code with varying distance\n",
    "\n",
    "a = Polynomial(2, np.array([[1, 0], [1, 0]]))\n",
    "b = Polynomial(2, np.array([[1, 1], [0, 0]]))\n",
    "\n",
    "num_failures = 5\n",
    "max_iter = 1000\n",
    "night_results = {}\n",
    "\n",
    "save_data = {}\n",
    "save_data_filename = f'data_{datetime.datetime.now().strftime(\"%Y-%m-%d_%H-%M\")}.json'\n",
    "\n",
    "night_debug = {}\n",
    "\n",
    "for d in [7]:\n",
    "    bb = BivariateBicycle(a, b, d, d, 1)\n",
    "    lx = bb.x_logicals\n",
    "    # res = results[d]\n",
    "    res = []\n",
    "    night_debug[d] = {}\n",
    "\n",
    "    for ind, p in enumerate(np.flip(np.logspace(-1.7, -0.7, 10)[0:2])):\n",
    "\n",
    "        night_debug[d][p] = {}\n",
    "\n",
    "        bp_errors = 0\n",
    "        osd_errors = 0\n",
    "\n",
    "        bp_successes = 0\n",
    "        osd_success = 0\n",
    "\n",
    "        # failed_osd_posteriors = []\n",
    "        # failed_syndromes = []\n",
    "\n",
    "        failures = 0\n",
    "        num_trials = 0\n",
    "\n",
    "        if d==7 and ind==0:\n",
    "            failures = 4\n",
    "            num_trials = 4059\n",
    "\n",
    "        while failures < num_failures:\n",
    "            # Generate syndrome\n",
    "            n_qudits = bb.hx.shape[1]\n",
    "            error = np.zeros(n_qudits, dtype=int)\n",
    "            error_mask = np.random.rand(n_qudits) < p\n",
    "            for i in np.where(error_mask)[0]:\n",
    "                error[i] = np.random.randint(1, bb.field)\n",
    "            syndrome = (bb.hx @ error) % bb.field\n",
    "\n",
    "            # Construct error probability\n",
    "            channel_prob_x = np.ones(n_qudits) * p\n",
    "\n",
    "            x_prior = np.zeros((len(channel_prob_x), 2), dtype=float)\n",
    "\n",
    "            for i, prob in enumerate(channel_prob_x):\n",
    "                x_prior[i, 0] = 1 - prob\n",
    "                for j in range(1, 2):\n",
    "                    x_prior[i, j] = prob / (2 - 1)\n",
    "\n",
    "            # Decode\n",
    "            guessed_error, decoder_success, bp_success, posterior = bp_osd(bb.field, bb.hx, syndrome, x_prior, max_iter, order=0, debug=True)\n",
    "            error_difference = (error - guessed_error) % 2\n",
    "            logical_effect = (np.array(lx) @ error_difference) % 2\n",
    "\n",
    "            # Check success\n",
    "            if np.any(logical_effect != 0):\n",
    "                failures += 1\n",
    "                if bp_success:\n",
    "                    bp_errors += 1\n",
    "                else:\n",
    "                    osd_errors += 1\n",
    "                    #failed_osd_posteriors.append(posterior)\n",
    "                    #failed_syndromes.append(syndrome)\n",
    "                print(f'Found {failures} / {num_failures}, with num_trials : {num_trials}')\n",
    "            else:\n",
    "                if bp_success:\n",
    "                    bp_successes += 1\n",
    "                else:\n",
    "                    osd_success += 1\n",
    "\n",
    "            if num_trials % 100 == 0:\n",
    "                save_data['num_trials'] = num_trials\n",
    "                save_data['failures'] = failures\n",
    "                json.dump(save_data, open(save_data_filename, 'w'), indent=4)\n",
    "\n",
    "            num_trials += 1\n",
    "\n",
    "        night_debug[d][p]['bp_errors'] = bp_errors\n",
    "        night_debug[d][p]['osd_errors'] = osd_errors\n",
    "        night_debug[d][p]['bp_success'] = bp_successes\n",
    "        night_debug[d][p]['osd_success'] = osd_success\n",
    "        #night_debug[d][p]['failed_osd_posteriors'] = failed_osd_posteriors\n",
    "        #night_debug[d][p]['failed_syndromes'] = failed_syndromes\n",
    "\n",
    "        res.append(num_trials)\n",
    "\n",
    "        print(f'Finished p={p} for d={d} with num_trials={num_trials}')\n",
    "\n",
    "    print(f'Completed d={d}')\n",
    "    night_results[d] = res"
   ]
  },
  {
   "cell_type": "code",
   "execution_count": 8,
   "metadata": {},
   "outputs": [],
   "source": [
    "results = {3: [424, 157, 87, 53, 44, 31, 17, 16, 13, 8],\n",
    " 5: [6496, 1636, 951, 330, 140, 67, 12, 19, 13, 7],\n",
    " 7: [18542, 5183, 2947, 544, 110, 92, 21, 14, 6, 8]}"
   ]
  },
  {
   "cell_type": "code",
   "execution_count": 9,
   "metadata": {},
   "outputs": [
    {
     "data": {
      "text/plain": [
       "{3: [424, 157, 87, 53, 44, 31, 17, 16, 13, 8],\n",
       " 5: [6496, 1636, 951, 330, 140, 67, 12, 19, 13, 7],\n",
       " 7: [18542, 5183, 2947, 544, 110, 92, 21, 14, 6, 8]}"
      ]
     },
     "execution_count": 9,
     "metadata": {},
     "output_type": "execute_result"
    }
   ],
   "source": [
    "results"
   ]
  },
  {
   "cell_type": "code",
   "execution_count": 14,
   "metadata": {},
   "outputs": [
    {
     "data": {
      "image/png": "[encoded data removed]",
      "text/plain": [
       "<Figure size 640x480 with 1 Axes>"
      ]
     },
     "metadata": {},
     "output_type": "display_data"
    }
   ],
   "source": [
    "x = np.logspace(-1.7, -0.7, 10)\n",
    "num_failures = {3 : 5, 5 : 5, 7 : 5}\n",
    "plot_results, plot_error_bars = process_results(results, num_failures)\n",
    "jos_plot_results, jos_plot_error_bars = process_results(jos_results, num_failures)\n",
    "\n",
    "plt.loglog(x, plot_results[3], color='lightcoral')\n",
    "plt.loglog(x, plot_results[5], color='lightseagreen')\n",
    "plt.loglog(x, plot_results[7], color='royalblue')\n",
    "plt.loglog(x, jos_plot_results[3], '--', color='lightcoral')\n",
    "plt.loglog(x, jos_plot_results[5], '--', color='lightseagreen')\n",
    "plt.loglog(x, jos_plot_results[7], '--', color='royalblue')\n",
    "\n",
    "plt.errorbar(x, plot_results[3], yerr=plot_error_bars[3], fmt='.', capsize=2.5, color='lightcoral')\n",
    "plt.errorbar(x, plot_results[5], yerr=plot_error_bars[5], fmt='.', capsize=2.5, color='lightseagreen')\n",
    "plt.errorbar(x, plot_results[7], yerr=plot_error_bars[7], fmt='.', capsize=2.5, color='royalblue')\n",
    "plt.errorbar(x, jos_plot_results[3], yerr=jos_plot_error_bars[3], fmt='.', capsize=2.5, color='lightcoral')\n",
    "plt.errorbar(x, jos_plot_results[5], yerr=jos_plot_error_bars[5], fmt='.', capsize=2.5, color='lightseagreen')\n",
    "plt.errorbar(x, jos_plot_results[7], yerr=jos_plot_error_bars[7], fmt='.', capsize=2.5, color='royalblue')\n",
    "\n",
    "plt.legend(['Ele d=3', 'Ele d=5', 'Ele d=7', 'Jos d=3', 'Jos d=5', 'Jos d=7'])\n",
    "plt.xlabel('Physical error rate')\n",
    "plt.ylabel('Logical error rate')\n",
    "plt.title('Qubit Toric Code under Code Capacity');"
   ]
  },
  {
   "cell_type": "code",
   "execution_count": null,
   "metadata": {},
   "outputs": [],
   "source": []
  }
 ],
 "metadata": {
  "kernelspec": {
   "display_name": "bbq_venv",
   "language": "python",
   "name": "python3"
  },
  "language_info": {
   "codemirror_mode": {
    "name": "ipython",
    "version": 3
   },
   "file_extension": ".py",
   "mimetype": "text/x-python",
   "name": "python",
   "nbconvert_exporter": "python",
   "pygments_lexer": "ipython3",
   "version": "3.13.1"
  }
 },
 "nbformat": 4,
 "nbformat_minor": 2
}
