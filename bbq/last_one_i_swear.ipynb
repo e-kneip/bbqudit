{
 "cells": [
  {
   "cell_type": "code",
   "execution_count": 1,
   "metadata": {},
   "outputs": [],
   "source": [
    "from bbq.decoder import d_osd, bp_osd\n",
    "import numpy as np"
   ]
  },
  {
   "cell_type": "code",
   "execution_count": 18,
   "metadata": {},
   "outputs": [
    {
     "name": "stdout",
     "output_type": "stream",
     "text": [
      "h_eff = \n",
      " [[0 0 1 1]\n",
      " [0 1 1 1]\n",
      " [0 1 1 0]]\n",
      "prior = \n",
      " [[0.9 0.1]\n",
      " [0.9 0.1]\n",
      " [0.8 0.2]\n",
      " [0.8 0.2]]\n",
      "real_error = \n",
      " [0 0 1 1]\n",
      "syndrome = \n",
      " [0 0 1]\n"
     ]
    }
   ],
   "source": [
    "h_eff = np.array([[0, 0, 1, 1], [0, 1, 1, 1], [0, 1, 1, 0]])\n",
    "prior = np.array([[0.9, 0.1], [0.9, 0.1], [0.8, 0.2], [0.8, 0.2]])\n",
    "\n",
    "p = 0.1\n",
    "field = 2\n",
    "max_iter = 1000\n",
    "\n",
    "n_dets, n_qudits = h_eff.shape\n",
    "real_error = np.zeros(n_qudits, dtype=int)\n",
    "rand = np.random.rand(n_qudits)\n",
    "for err in range(n_qudits):\n",
    "    if rand[err] < prior[err, 1]:\n",
    "        real_error[err] = 1\n",
    "syndrome = (h_eff @ real_error) % field\n",
    "\n",
    "print(f'h_eff = \\n {h_eff}')\n",
    "print(f'prior = \\n {prior}')\n",
    "print(f'real_error = \\n {real_error}')\n",
    "print(f'syndrome = \\n {syndrome}')"
   ]
  },
  {
   "cell_type": "code",
   "execution_count": 25,
   "metadata": {},
   "outputs": [],
   "source": [
    "error, success = d_osd(field, h_eff, syndrome, prior, debug=False)\n",
    "assert (error == real_error).all()"
   ]
  },
  {
   "cell_type": "code",
   "execution_count": 26,
   "metadata": {},
   "outputs": [
    {
     "name": "stderr",
     "output_type": "stream",
     "text": [
      "C:\\Users\\elean\\Documents\\Quantum-Computing-PhD\\ITP\\IP-BBQ\\qudit-bivariate-bicycle\\bbq\\decoder.py:76: ComplexWarning: Casting complex values to real discards the imaginary part\n",
      "  P[i, error, k] = sub_convolution[(syndrome[i] - k) % field]\n"
     ]
    },
    {
     "ename": "IndexError",
     "evalue": "too many indices for array: array is 1-dimensional, but 2 were indexed",
     "output_type": "error",
     "traceback": [
      "\u001b[31m---------------------------------------------------------------------------\u001b[39m",
      "\u001b[31mIndexError\u001b[39m                                Traceback (most recent call last)",
      "\u001b[36mCell\u001b[39m\u001b[36m \u001b[39m\u001b[32mIn[26]\u001b[39m\u001b[32m, line 1\u001b[39m\n\u001b[32m----> \u001b[39m\u001b[32m1\u001b[39m error, success = \u001b[43mbp_osd\u001b[49m\u001b[43m(\u001b[49m\u001b[43mfield\u001b[49m\u001b[43m,\u001b[49m\u001b[43m \u001b[49m\u001b[43mh_eff\u001b[49m\u001b[43m,\u001b[49m\u001b[43m \u001b[49m\u001b[43msyndrome\u001b[49m\u001b[43m,\u001b[49m\u001b[43m \u001b[49m\u001b[43mprior\u001b[49m\u001b[43m,\u001b[49m\u001b[43m \u001b[49m\u001b[43mmax_iter\u001b[49m\u001b[43m,\u001b[49m\u001b[43m \u001b[49m\u001b[43mdebug\u001b[49m\u001b[43m=\u001b[49m\u001b[38;5;28;43;01mFalse\u001b[39;49;00m\u001b[43m)\u001b[49m\n",
      "\u001b[36mFile \u001b[39m\u001b[32m~\\Documents\\Quantum-Computing-PhD\\ITP\\IP-BBQ\\qudit-bivariate-bicycle\\bbq\\decoder.py:489\u001b[39m, in \u001b[36mbp_osd\u001b[39m\u001b[34m(field, h_eff, syndrome, prior, max_iter, order, debug)\u001b[39m\n\u001b[32m    486\u001b[39m \u001b[38;5;28;01mif\u001b[39;00m \u001b[38;5;129;01mnot\u001b[39;00m (\u001b[38;5;28misinstance\u001b[39m(max_iter, \u001b[38;5;28mint\u001b[39m) \u001b[38;5;129;01mand\u001b[39;00m max_iter > \u001b[32m0\u001b[39m):\n\u001b[32m    487\u001b[39m     \u001b[38;5;28;01mraise\u001b[39;00m \u001b[38;5;167;01mValueError\u001b[39;00m(\u001b[33m\"\u001b[39m\u001b[33mmax_iter must be a positive integer\u001b[39m\u001b[33m\"\u001b[39m)\n\u001b[32m--> \u001b[39m\u001b[32m489\u001b[39m error, success, bp_success, posterior = \u001b[43mbelief_propagation\u001b[49m\u001b[43m(\u001b[49m\n\u001b[32m    490\u001b[39m \u001b[43m    \u001b[49m\u001b[43mfield\u001b[49m\u001b[43m,\u001b[49m\u001b[43m \u001b[49m\u001b[43mh_eff\u001b[49m\u001b[43m,\u001b[49m\u001b[43m \u001b[49m\u001b[43msyndrome\u001b[49m\u001b[43m,\u001b[49m\u001b[43m \u001b[49m\u001b[43mprior\u001b[49m\u001b[43m,\u001b[49m\u001b[43m \u001b[49m\u001b[43mmax_iter\u001b[49m\u001b[43m,\u001b[49m\u001b[43m \u001b[49m\u001b[43mdebug\u001b[49m\u001b[43m=\u001b[49m\u001b[38;5;28;43;01mTrue\u001b[39;49;00m\n\u001b[32m    491\u001b[39m \u001b[43m\u001b[49m\u001b[43m)\u001b[49m\n\u001b[32m    492\u001b[39m \u001b[38;5;28;01mif\u001b[39;00m success:\n\u001b[32m    493\u001b[39m     \u001b[38;5;28;01mif\u001b[39;00m debug:\n",
      "\u001b[36mFile \u001b[39m\u001b[32m~\\Documents\\Quantum-Computing-PhD\\ITP\\IP-BBQ\\qudit-bivariate-bicycle\\bbq\\decoder.py:195\u001b[39m, in \u001b[36mbelief_propagation\u001b[39m\u001b[34m(field, h_eff, syndrome, prior, max_iter, debug)\u001b[39m\n\u001b[32m    192\u001b[39m _error_to_check_message(prior, P, Q, err_neighbourhood)\n\u001b[32m    194\u001b[39m \u001b[38;5;66;03m# Step 3: calculate posterior and make hard decision on errors\u001b[39;00m\n\u001b[32m--> \u001b[39m\u001b[32m195\u001b[39m error, posteriors = \u001b[43m_calculate_posterior\u001b[49m\u001b[43m(\u001b[49m\u001b[43mprior\u001b[49m\u001b[43m,\u001b[49m\u001b[43m \u001b[49m\u001b[43mn_errors\u001b[49m\u001b[43m,\u001b[49m\u001b[43m \u001b[49m\u001b[43merr_neighbourhood\u001b[49m\u001b[43m,\u001b[49m\u001b[43m \u001b[49m\u001b[43mP\u001b[49m\u001b[43m)\u001b[49m\n\u001b[32m    197\u001b[39m \u001b[38;5;66;03m# Step 4: check convergence\u001b[39;00m\n\u001b[32m    198\u001b[39m \u001b[38;5;28;01mif\u001b[39;00m np.all(h_eff @ error % field == syndrome):\n",
      "\u001b[36mFile \u001b[39m\u001b[32m~\\Documents\\Quantum-Computing-PhD\\ITP\\IP-BBQ\\qudit-bivariate-bicycle\\bbq\\decoder.py:109\u001b[39m, in \u001b[36m_calculate_posterior\u001b[39m\u001b[34m(prior, n_errors, err_neighbourhood, P)\u001b[39m\n\u001b[32m    107\u001b[39m posterior /= np.sum(posterior) - posterior\n\u001b[32m    108\u001b[39m \u001b[38;5;66;03m####### do I have blowing up problems here??? yes, yes you do...\u001b[39;00m\n\u001b[32m--> \u001b[39m\u001b[32m109\u001b[39m \u001b[43mposteriors\u001b[49m\u001b[43m[\u001b[49m\u001b[43mi\u001b[49m\u001b[43m,\u001b[49m\u001b[43m \u001b[49m\u001b[43m:\u001b[49m\u001b[43m]\u001b[49m = posterior\n\u001b[32m    110\u001b[39m \u001b[38;5;66;03m############### does OSD want the likelihoods or the probabilities??? (I think likelihoods here)\u001b[39;00m\n\u001b[32m    112\u001b[39m max_lik = np.argmax(posterior)\n",
      "\u001b[31mIndexError\u001b[39m: too many indices for array: array is 1-dimensional, but 2 were indexed"
     ]
    }
   ],
   "source": [
    "error, success = bp_osd(field, h_eff, syndrome, prior, max_iter, debug=False)"
   ]
  },
  {
   "cell_type": "code",
   "execution_count": null,
   "metadata": {},
   "outputs": [],
   "source": []
  }
 ],
 "metadata": {
  "kernelspec": {
   "display_name": "bbq_venv",
   "language": "python",
   "name": "python3"
  },
  "language_info": {
   "codemirror_mode": {
    "name": "ipython",
    "version": 3
   },
   "file_extension": ".py",
   "mimetype": "text/x-python",
   "name": "python",
   "nbconvert_exporter": "python",
   "pygments_lexer": "ipython3",
   "version": "3.13.1"
  }
 },
 "nbformat": 4,
 "nbformat_minor": 2
}
