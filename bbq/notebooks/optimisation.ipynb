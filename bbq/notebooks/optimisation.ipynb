{
 "cells": [
  {
   "cell_type": "markdown",
   "metadata": {},
   "source": [
    "## Optimisation"
   ]
  },
  {
   "cell_type": "code",
   "execution_count": null,
   "metadata": {},
   "outputs": [],
   "source": [
    "import numpy as np\n",
    "import matplotlib.pyplot as plt\n",
    "from datetime import datetime"
   ]
  },
  {
   "cell_type": "markdown",
   "metadata": {},
   "source": [
    "## Final loop nonsense"
   ]
  },
  {
   "cell_type": "code",
   "execution_count": 6,
   "metadata": {},
   "outputs": [],
   "source": [
    "P = np.array([[[0.   , 0.   , 0.   , 0.   , 0.   ],\n",
    "        [0.   , 0.   , 0.   , 0.   , 0.   ],\n",
    "        [0.45 , 0.1  , 0.2  , 0.1  , 0.15 ],\n",
    "        [0.21 , 0.37 , 0.19 , 0.17 , 0.06 ],\n",
    "        [0.2  , 0.2  , 0.1  , 0.35 , 0.15 ]],\n",
    "\n",
    "       [[0.   , 0.   , 0.   , 0.   , 0.   ],\n",
    "        [0.185, 0.13 , 0.205, 0.285, 0.195],\n",
    "        [0.365, 0.11 , 0.18 , 0.175, 0.17 ],\n",
    "        [0.222, 0.312, 0.162, 0.167, 0.137],\n",
    "        [0.215, 0.175, 0.16 , 0.295, 0.155]],\n",
    "\n",
    "       [[0.   , 0.   , 0.   , 0.   , 0.   ],\n",
    "        [0.18 , 0.23 , 0.145, 0.3  , 0.145],\n",
    "        [0.24 , 0.35 , 0.11 , 0.145, 0.155],\n",
    "        [0.131, 0.271, 0.321, 0.156, 0.121],\n",
    "        [0.295, 0.225, 0.13 , 0.16 , 0.19 ]],\n",
    "\n",
    "       [[0.   , 0.   , 0.   , 0.   , 0.   ],\n",
    "        [0.13 , 0.205, 0.285, 0.195, 0.185],\n",
    "        [0.11 , 0.18 , 0.175, 0.17 , 0.365],\n",
    "        [0.162, 0.312, 0.222, 0.137, 0.167],\n",
    "        [0.295, 0.155, 0.215, 0.175, 0.16 ]]])\n",
    "err_neighbourhood = {2: np.array([[0, 1],\n",
    "       [1, 1],\n",
    "       [2, 2],\n",
    "       [3, 2]]), 3: np.array([[0, 1],\n",
    "       [1, 1],\n",
    "       [2, 2],\n",
    "       [3, 3]]), 4: np.array([[0, 2],\n",
    "       [1, 2],\n",
    "       [2, 3],\n",
    "       [3, 4]]), 1: np.array([[1, 1],\n",
    "       [2, 1],\n",
    "       [3, 2]])}\n",
    "prior = np.array([[0.2, 0.3, 0.1, 0.25, 0.15],\n",
    "                  [0.25, 0.2, 0.3, 0.15, 0.1],\n",
    "                  [0.15, 0.25, 0.2, 0.3, 0.1],\n",
    "                  [0.1, 0.15, 0.25, 0.2, 0.3],\n",
    "                  [0.3, 0.1, 0.15, 0.25, 0.2]])"
   ]
  },
  {
   "cell_type": "code",
   "execution_count": 8,
   "metadata": {},
   "outputs": [
    {
     "data": {
      "text/plain": [
       "array([0, 1, 2, 3])"
      ]
     },
     "execution_count": 8,
     "metadata": {},
     "output_type": "execute_result"
    }
   ],
   "source": [
    "err_neighbourhood[2][:, 0]"
   ]
  },
  {
   "cell_type": "code",
   "execution_count": 191,
   "metadata": {},
   "outputs": [
    {
     "name": "stdout",
     "output_type": "stream",
     "text": [
      "[0.0043362  0.000693   0.000693   0.00043137 0.00144266]\n",
      "[0.15 0.25 0.2  0.3  0.1 ]\n",
      "--------------------\n",
      "[0.00098937 0.00976068 0.00219344 0.00060675 0.0001661 ]\n",
      "[0.1  0.15 0.25 0.2  0.3 ]\n",
      "--------------------\n",
      "[0.00374207 0.00122062 0.0004472  0.002891   0.0007068 ]\n",
      "[0.3  0.1  0.15 0.25 0.2 ]\n",
      "--------------------\n",
      "[0.004329   0.0061295  0.00847162 0.0166725  0.00523087]\n",
      "[0.25 0.2  0.3  0.15 0.1 ]\n",
      "--------------------\n"
     ]
    }
   ],
   "source": [
    "ch_posteriors = np.zeros((5, 5))\n",
    "\n",
    "for i, dets in err_neighbourhood.items():\n",
    "    # TODO: Vectorize this:\n",
    "    print(np.prod(P[dets[:, 0], i, :], axis=0))\n",
    "    print(prior[i, :])\n",
    "    print('--------------------')\n",
    "    posterior = np.prod(P[dets[:, 0], i, :], axis=0) * prior[i, :]\n",
    "    ch_posteriors[i, :] = posterior"
   ]
  },
  {
   "cell_type": "code",
   "execution_count": 208,
   "metadata": {},
   "outputs": [
    {
     "data": {
      "text/plain": [
       "array([[ True,  True,  True,  True,  True],\n",
       "       [ True,  True,  True,  True,  True],\n",
       "       [ True,  True,  True,  True,  True],\n",
       "       [ True,  True,  True,  True,  True],\n",
       "       [ True,  True,  True,  True,  True]])"
      ]
     },
     "execution_count": 208,
     "metadata": {},
     "output_type": "execute_result"
    }
   ],
   "source": [
    "ch_posteriors == posteriors"
   ]
  },
  {
   "cell_type": "code",
   "execution_count": 180,
   "metadata": {},
   "outputs": [],
   "source": [
    "keys = list(err_neighbourhood.keys())"
   ]
  },
  {
   "cell_type": "code",
   "execution_count": 206,
   "metadata": {},
   "outputs": [
    {
     "data": {
      "text/plain": [
       "array([[6.50430000e-04, 1.73250000e-04, 1.38600000e-04, 1.29412500e-04,\n",
       "        1.44266250e-04],\n",
       "       [9.89369640e-05, 1.46410243e-03, 5.48361090e-04, 1.21350216e-04,\n",
       "        4.98304620e-05],\n",
       "       [1.12262250e-03, 1.22062500e-04, 6.70800000e-05, 7.22750000e-04,\n",
       "        1.41360000e-04],\n",
       "       [1.08225000e-03, 1.22590000e-03, 2.54148750e-03, 2.50087500e-03,\n",
       "        5.23087500e-04]])"
      ]
     },
     "execution_count": 206,
     "metadata": {},
     "output_type": "execute_result"
    }
   ],
   "source": [
    "np.array([np.prod(P[err_neighbourhood[i][:, 0], i, :], axis=0) for i in keys]) * prior[keys, :]"
   ]
  },
  {
   "cell_type": "code",
   "execution_count": 207,
   "metadata": {},
   "outputs": [],
   "source": [
    "posteriors = np.zeros((5, 5))\n",
    "posteriors[keys, :] = np.array([np.prod(P[err_neighbourhood[i][:, 0], i, :], axis=0) for i in keys]) * prior[keys, :]"
   ]
  },
  {
   "cell_type": "code",
   "execution_count": 202,
   "metadata": {},
   "outputs": [
    {
     "data": {
      "text/plain": [
       "array([[0.45 , 0.1  , 0.2  , 0.1  , 0.15 ],\n",
       "       [0.365, 0.11 , 0.18 , 0.175, 0.17 ],\n",
       "       [0.24 , 0.35 , 0.11 , 0.145, 0.155],\n",
       "       [0.11 , 0.18 , 0.175, 0.17 , 0.365]])"
      ]
     },
     "execution_count": 202,
     "metadata": {},
     "output_type": "execute_result"
    }
   ],
   "source": [
    "i=2\n",
    "P[err_neighbourhood[i][:, 0], i, :]"
   ]
  },
  {
   "cell_type": "code",
   "execution_count": 198,
   "metadata": {},
   "outputs": [
    {
     "ename": "ValueError",
     "evalue": "setting an array element with a sequence. The requested array has an inhomogeneous shape after 1 dimensions. The detected shape was (4,) + inhomogeneous part.",
     "output_type": "error",
     "traceback": [
      "\u001b[31m---------------------------------------------------------------------------\u001b[39m",
      "\u001b[31mValueError\u001b[39m                                Traceback (most recent call last)",
      "\u001b[36mCell\u001b[39m\u001b[36m \u001b[39m\u001b[32mIn[198]\u001b[39m\u001b[32m, line 1\u001b[39m\n\u001b[32m----> \u001b[39m\u001b[32m1\u001b[39m np.prod(\u001b[43mnp\u001b[49m\u001b[43m.\u001b[49m\u001b[43marray\u001b[49m\u001b[43m(\u001b[49m\u001b[43m[\u001b[49m\u001b[43mP\u001b[49m\u001b[43m[\u001b[49m\u001b[43merr_neighbourhood\u001b[49m\u001b[43m[\u001b[49m\u001b[43mi\u001b[49m\u001b[43m]\u001b[49m\u001b[43m[\u001b[49m\u001b[43m:\u001b[49m\u001b[43m,\u001b[49m\u001b[43m \u001b[49m\u001b[32;43m0\u001b[39;49m\u001b[43m]\u001b[49m\u001b[43m,\u001b[49m\u001b[43m \u001b[49m\u001b[43mi\u001b[49m\u001b[43m,\u001b[49m\u001b[43m \u001b[49m\u001b[43m:\u001b[49m\u001b[43m]\u001b[49m\u001b[43m \u001b[49m\u001b[38;5;28;43;01mfor\u001b[39;49;00m\u001b[43m \u001b[49m\u001b[43mi\u001b[49m\u001b[43m \u001b[49m\u001b[38;5;129;43;01min\u001b[39;49;00m\u001b[43m \u001b[49m\u001b[43mkeys\u001b[49m\u001b[43m]\u001b[49m\u001b[43m)\u001b[49m, axis=\u001b[32m1\u001b[39m)\n",
      "\u001b[31mValueError\u001b[39m: setting an array element with a sequence. The requested array has an inhomogeneous shape after 1 dimensions. The detected shape was (4,) + inhomogeneous part."
     ]
    }
   ],
   "source": [
    "np.prod(np.array([P[err_neighbourhood[i][:, 0], i, :] for i in keys]), axis=1)"
   ]
  },
  {
   "cell_type": "code",
   "execution_count": 190,
   "metadata": {},
   "outputs": [
    {
     "data": {
      "text/plain": [
       "array([[0.0014454 , 0.0017325 , 0.000693  , 0.00129412, 0.00096178],\n",
       "       [0.00047113, 0.00395703, 0.00288611, 0.00071382, 0.00083051],\n",
       "       [0.00561311, 0.00061031, 0.0006708 , 0.002065  , 0.0009424 ],\n",
       "       [0.00108225, 0.0012259 , 0.00254149, 0.00250088, 0.00052309]])"
      ]
     },
     "execution_count": 190,
     "metadata": {},
     "output_type": "execute_result"
    }
   ],
   "source": [
    "np.prod(np.array([P[dets[:, 0], i, :] for i in keys]), axis=1) * prior[keys, :]"
   ]
  },
  {
   "cell_type": "code",
   "execution_count": 183,
   "metadata": {},
   "outputs": [],
   "source": [
    "posteriors = np.zeros((5, 5))\n",
    "posteriors[keys, :] = np.prod(np.array([P[dets[:, 0], i, :] for i in keys]), axis=1) * prior[keys]"
   ]
  },
  {
   "cell_type": "code",
   "execution_count": 189,
   "metadata": {},
   "outputs": [
    {
     "data": {
      "text/plain": [
       "array([[0.        , 0.        , 0.        , 0.        , 0.        ],\n",
       "       [0.00108225, 0.0012259 , 0.00254149, 0.00250088, 0.00052309],\n",
       "       [0.0014454 , 0.0017325 , 0.000693  , 0.00129412, 0.00096178],\n",
       "       [0.00047113, 0.00395703, 0.00288611, 0.00071382, 0.00083051],\n",
       "       [0.00561311, 0.00061031, 0.0006708 , 0.002065  , 0.0009424 ]])"
      ]
     },
     "execution_count": 189,
     "metadata": {},
     "output_type": "execute_result"
    }
   ],
   "source": [
    "posteriors"
   ]
  },
  {
   "cell_type": "code",
   "execution_count": 137,
   "metadata": {},
   "outputs": [
    {
     "data": {
      "text/plain": [
       "array([[0.00000000e+00, 0.00000000e+00, 0.00000000e+00, 0.00000000e+00,\n",
       "        0.00000000e+00],\n",
       "       [1.08225000e-03, 1.22590000e-03, 2.54148750e-03, 2.50087500e-03,\n",
       "        5.23087500e-04],\n",
       "       [6.50430000e-04, 1.73250000e-04, 1.38600000e-04, 1.29412500e-04,\n",
       "        1.44266250e-04],\n",
       "       [9.89369640e-05, 1.46410243e-03, 5.48361090e-04, 1.21350216e-04,\n",
       "        4.98304620e-05],\n",
       "       [1.12262250e-03, 1.22062500e-04, 6.70800000e-05, 7.22750000e-04,\n",
       "        1.41360000e-04]])"
      ]
     },
     "execution_count": 137,
     "metadata": {},
     "output_type": "execute_result"
    }
   ],
   "source": [
    "posteriors"
   ]
  },
  {
   "cell_type": "code",
   "execution_count": null,
   "metadata": {},
   "outputs": [],
   "source": [
    "x = np.array([[[1, 2], \n",
    "              [2, 3]],\n",
    "              [[3, 4], \n",
    "              [4, 5]]])\n",
    "a = np.array([[0, 3],\n",
    "              [1, 2]])"
   ]
  },
  {
   "cell_type": "code",
   "execution_count": 118,
   "metadata": {},
   "outputs": [
    {
     "data": {
      "text/plain": [
       "array([[1, 2],\n",
       "       [2, 3]])"
      ]
     },
     "execution_count": 118,
     "metadata": {},
     "output_type": "execute_result"
    }
   ],
   "source": [
    "x[0]"
   ]
  },
  {
   "cell_type": "code",
   "execution_count": 121,
   "metadata": {},
   "outputs": [
    {
     "data": {
      "text/plain": [
       "array([[ 2,  6],\n",
       "       [12, 20]])"
      ]
     },
     "execution_count": 121,
     "metadata": {},
     "output_type": "execute_result"
    }
   ],
   "source": [
    "np.prod(x, axis=1)"
   ]
  },
  {
   "cell_type": "code",
   "execution_count": 115,
   "metadata": {},
   "outputs": [],
   "source": [
    "y = np.zeros((x.shape[1], x.shape[2]), dtype=int)\n",
    "\n",
    "for i in range(x.shape[0]):\n",
    "    z = np.prod(x[i], axis=0) * a[i, :]\n",
    "    y[i] = z"
   ]
  },
  {
   "cell_type": "code",
   "execution_count": 116,
   "metadata": {},
   "outputs": [
    {
     "data": {
      "text/plain": [
       "array([[ 0, 18],\n",
       "       [12, 40]])"
      ]
     },
     "execution_count": 116,
     "metadata": {},
     "output_type": "execute_result"
    }
   ],
   "source": [
    "y"
   ]
  },
  {
   "cell_type": "code",
   "execution_count": 126,
   "metadata": {},
   "outputs": [
    {
     "data": {
      "text/plain": [
       "array([[ 2,  6],\n",
       "       [12, 20]])"
      ]
     },
     "execution_count": 126,
     "metadata": {},
     "output_type": "execute_result"
    }
   ],
   "source": [
    "xx = np.prod(x, axis=1)\n",
    "xx"
   ]
  },
  {
   "cell_type": "code",
   "execution_count": 127,
   "metadata": {},
   "outputs": [
    {
     "data": {
      "text/plain": [
       "array([[0, 3],\n",
       "       [1, 2]])"
      ]
     },
     "execution_count": 127,
     "metadata": {},
     "output_type": "execute_result"
    }
   ],
   "source": [
    "a"
   ]
  },
  {
   "cell_type": "code",
   "execution_count": 128,
   "metadata": {},
   "outputs": [
    {
     "data": {
      "text/plain": [
       "array([[ 0, 18],\n",
       "       [12, 40]])"
      ]
     },
     "execution_count": 128,
     "metadata": {},
     "output_type": "execute_result"
    }
   ],
   "source": [
    "xx * a"
   ]
  },
  {
   "cell_type": "code",
   "execution_count": 125,
   "metadata": {},
   "outputs": [
    {
     "data": {
      "text/plain": [
       "array([[12, 30],\n",
       "       [20, 58]])"
      ]
     },
     "execution_count": 125,
     "metadata": {},
     "output_type": "execute_result"
    }
   ],
   "source": [
    "np.einsum('ij, ik', xx, a)"
   ]
  },
  {
   "cell_type": "markdown",
   "metadata": {},
   "source": [
    "## rfft nonsense"
   ]
  },
  {
   "cell_type": "code",
   "execution_count": 86,
   "metadata": {},
   "outputs": [],
   "source": [
    "x = np.array([[0.1, 0.2, 0.5, 0.1, 0.1], [0.1, 0.2, 0.5, 0.1, 0.1], [0.3, 0.2, 0.1, 0.3, 0.1], [0.1, 0.2, 0.5, 0.1, 0.1]])"
   ]
  },
  {
   "cell_type": "code",
   "execution_count": 94,
   "metadata": {},
   "outputs": [],
   "source": [
    "x = np.arange(100*500).reshape(100, 500)"
   ]
  },
  {
   "cell_type": "code",
   "execution_count": 50,
   "metadata": {},
   "outputs": [],
   "source": [
    "x = [0.1, 0.2, 0.5, 0.1, 0.1]"
   ]
  },
  {
   "cell_type": "code",
   "execution_count": 95,
   "metadata": {},
   "outputs": [
    {
     "name": "stdout",
     "output_type": "stream",
     "text": [
      "Time taken for FFT: 0:00:00.008942\n"
     ]
    }
   ],
   "source": [
    "t = datetime.now()\n",
    "for i in range(10):\n",
    "    _ = np.fft.fft(x, axis=1)\n",
    "print(f\"Time taken for FFT: {datetime.now() - t}\")"
   ]
  },
  {
   "cell_type": "code",
   "execution_count": 96,
   "metadata": {},
   "outputs": [
    {
     "name": "stdout",
     "output_type": "stream",
     "text": [
      "Time taken for FFT: 0:00:00.004680\n"
     ]
    }
   ],
   "source": [
    "t = datetime.now()\n",
    "for i in range(10):\n",
    "    _ = np.fft.rfft(x)\n",
    "print(f\"Time taken for FFT: {datetime.now() - t}\")"
   ]
  },
  {
   "cell_type": "code",
   "execution_count": 85,
   "metadata": {},
   "outputs": [
    {
     "data": {
      "text/plain": [
       "array([0.41961198, 0.68432424, 0.01864312, 0.87742067])"
      ]
     },
     "execution_count": 85,
     "metadata": {},
     "output_type": "execute_result"
    }
   ],
   "source": [
    "np.fft.irfft(np.fft.rfft(x), len(np.fft.rfft(x)))"
   ]
  },
  {
   "cell_type": "code",
   "execution_count": 83,
   "metadata": {},
   "outputs": [],
   "source": [
    "x = [0, 1, 0, 0, 0, 1, 0]"
   ]
  },
  {
   "cell_type": "code",
   "execution_count": 58,
   "metadata": {},
   "outputs": [
    {
     "data": {
      "text/plain": [
       "array([ 1.       +0.j        , -0.2927051-0.33021975j,\n",
       "        0.0427051+0.32164408j])"
      ]
     },
     "execution_count": 58,
     "metadata": {},
     "output_type": "execute_result"
    }
   ],
   "source": [
    "y"
   ]
  },
  {
   "cell_type": "code",
   "execution_count": 64,
   "metadata": {},
   "outputs": [],
   "source": [
    "y2 = [1.       +0.j        , -0.2927051-0.33021975j,\n",
    "        0.0427051+0.32164408j, -0.2927051+0.33021975j, 0.0427051-0.32164408j]"
   ]
  },
  {
   "cell_type": "code",
   "execution_count": 65,
   "metadata": {},
   "outputs": [
    {
     "data": {
      "text/plain": [
       "array([-0.00533814,  0.03925084,  0.28477174,  0.20007288,  0.28736696,\n",
       "        0.03925084, -0.04544801,  0.20007288])"
      ]
     },
     "execution_count": 65,
     "metadata": {},
     "output_type": "execute_result"
    }
   ],
   "source": [
    "np.fft.irfft(y2)"
   ]
  },
  {
   "cell_type": "markdown",
   "metadata": {},
   "source": [
    "## Benchmarking"
   ]
  },
  {
   "cell_type": "code",
   "execution_count": 327,
   "metadata": {},
   "outputs": [
    {
     "data": {
      "image/png": "[encoded data removed]",
      "text/plain": [
       "<Figure size 640x480 with 1 Axes>"
      ]
     },
     "metadata": {},
     "output_type": "display_data"
    }
   ],
   "source": [
    "time = [0.097124, 0.086013, 0.070947, 0.057622, 0.045219, 0.048417, 0.047008, 0.028732, 0.025541, 0.021428, 0.030110, 0.022331]\n",
    "\n",
    "plt.plot(time, marker='o')\n",
    "plt.title('Run time per shot (p=0.1)')\n",
    "# plt.xlabel('Optimising steps...')\n",
    "plt.ylabel('Time, seconds')\n",
    "plt.xticks([0, 1, 2, 3, 4, 5, 6, 7, 8, 9, 10, 11], ['Unoptimised', 'Timo (w lru_cache)', 'Timo (wo lru_cache)', '-2 loops', 'Field > Galois', '-1 loop', '-1 loop', 'no masks', '- Galois', '-1 loop', 'fix OSD', 'smarter sampling'])\n",
    "plt.xticks(rotation=70);"
   ]
  }
 ],
 "metadata": {
  "kernelspec": {
   "display_name": "bbq_venv",
   "language": "python",
   "name": "python3"
  },
  "language_info": {
   "codemirror_mode": {
    "name": "ipython",
    "version": 3
   },
   "file_extension": ".py",
   "mimetype": "text/x-python",
   "name": "python",
   "nbconvert_exporter": "python",
   "pygments_lexer": "ipython3",
   "version": "3.13.1"
  }
 },
 "nbformat": 4,
 "nbformat_minor": 2
}
