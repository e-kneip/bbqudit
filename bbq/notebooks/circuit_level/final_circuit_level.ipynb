{
 "cells": [
  {
   "cell_type": "markdown",
   "id": "e08b35da",
   "metadata": {},
   "source": [
    "## Circuit-Level Noise Model"
   ]
  },
  {
   "cell_type": "markdown",
   "id": "faae25a5",
   "metadata": {},
   "source": [
    "### Implementation to do list\n",
    "\n",
    "- Name all qudits\n",
    "- Set up syndrome measurement circuit\n",
    "- Propagate errors through circuit\n",
    "- Create decoding matrix"
   ]
  },
  {
   "cell_type": "code",
   "execution_count": 1,
   "id": "f6bfdac6",
   "metadata": {},
   "outputs": [],
   "source": [
    "from bbq.field import Field\n",
    "from bbq.polynomial import Monomial\n",
    "from bbq.bbq_code import BivariateBicycle\n",
    "\n",
    "import numpy as np\n",
    "from ldpc import BpOsdDecoder\n",
    "import matplotlib.pyplot as plt\n",
    "from scipy.sparse import coo_matrix, hstack\n"
   ]
  },
  {
   "cell_type": "code",
   "execution_count": 2,
   "id": "1664a86f",
   "metadata": {},
   "outputs": [],
   "source": [
    "from bbq.circuit import construct_sm_circuit, construct_decoding_matrix, generate_noisy_circuit, simulate_x_circuit\n"
   ]
  },
  {
   "cell_type": "markdown",
   "id": "68de7b8e",
   "metadata": {},
   "source": [
    "### Refactor"
   ]
  },
  {
   "cell_type": "code",
   "execution_count": 12,
   "id": "42de9103",
   "metadata": {},
   "outputs": [],
   "source": [
    "field = Field(2)\n",
    "x, y = Monomial(field, 'x'), Monomial(field, 'y')\n",
    "a, b = 1 + x, 1 + y\n",
    "bb = BivariateBicycle(a, b, 7, 7, 1)\n",
    "hx, lx = bb.hx, bb.x_logicals\n",
    "hz, lz = bb.hz, bb.z_logicals\n",
    "n_qudits = hx.shape[1]\n",
    "code_name = '3x3 Qubit Toric Code'\n",
    "\n",
    "# Define noise model parameters\n",
    "x_order = ['Idle', 0, 3, 1, 2]\n",
    "z_order = [0, 3, 1, 2, 'Idle']\n",
    "\n",
    "p = 0.01\n",
    "num_cycles = 7\n",
    "error_rates = {'Meas': p, 'Prep': p, 'Idle': p, 'CNOT': p}\n",
    "\n",
    "total_fails = 10\n"
   ]
  },
  {
   "cell_type": "code",
   "execution_count": 13,
   "id": "f2fdea83",
   "metadata": {},
   "outputs": [
    {
     "name": "stdout",
     "output_type": "stream",
     "text": [
      "Starting full trials over physical error rates [0.01995262 0.01430723 0.01025914 0.00735642 0.005275   0.00378249\n",
      " 0.00271227 0.00194486 0.00139458 0.001     ]\n",
      "Completed construction of decoding matrix\n",
      "Physical error rate: 0.0200, Trial: 4, Failures: 1\n",
      "Physical error rate: 0.0200, Trial: 5, Failures: 2\n",
      "Physical error rate: 0.0200, Trial: 6, Failures: 3\n",
      "Physical error rate: 0.0200, Trial: 7, Failures: 4\n",
      "Physical error rate: 0.0200, Trial: 8, Failures: 5\n",
      "Physical error rate: 0.0200, Trial: 11, Failures: 6\n",
      "Physical error rate: 0.0200, Trial: 12, Failures: 7\n",
      "Physical error rate: 0.0200, Trial: 13, Failures: 8\n",
      "Physical error rate: 0.0200, Trial: 14, Failures: 9\n",
      "Physical error rate: 0.0200, Trial: 15, Failures: 10\n",
      "--------------------------------------------------------------\n",
      "Completed construction of decoding matrix\n",
      "Physical error rate: 0.0143, Trial: 4, Failures: 1\n",
      "Physical error rate: 0.0143, Trial: 5, Failures: 2\n",
      "Physical error rate: 0.0143, Trial: 7, Failures: 3\n",
      "Physical error rate: 0.0143, Trial: 8, Failures: 4\n",
      "Physical error rate: 0.0143, Trial: 9, Failures: 5\n",
      "Physical error rate: 0.0143, Trial: 10, Failures: 6\n",
      "Physical error rate: 0.0143, Trial: 12, Failures: 7\n",
      "Physical error rate: 0.0143, Trial: 13, Failures: 8\n",
      "Physical error rate: 0.0143, Trial: 14, Failures: 9\n",
      "Physical error rate: 0.0143, Trial: 16, Failures: 10\n",
      "--------------------------------------------------------------\n",
      "Completed construction of decoding matrix\n",
      "Physical error rate: 0.0103, Trial: 1, Failures: 1\n",
      "Physical error rate: 0.0103, Trial: 2, Failures: 2\n",
      "Physical error rate: 0.0103, Trial: 3, Failures: 3\n",
      "Physical error rate: 0.0103, Trial: 4, Failures: 4\n",
      "Physical error rate: 0.0103, Trial: 6, Failures: 5\n",
      "Physical error rate: 0.0103, Trial: 7, Failures: 6\n",
      "Physical error rate: 0.0103, Trial: 9, Failures: 7\n",
      "Physical error rate: 0.0103, Trial: 10, Failures: 8\n",
      "Physical error rate: 0.0103, Trial: 11, Failures: 9\n",
      "Physical error rate: 0.0103, Trial: 13, Failures: 10\n",
      "--------------------------------------------------------------\n",
      "Completed construction of decoding matrix\n",
      "Physical error rate: 0.0074, Trial: 1, Failures: 1\n",
      "Physical error rate: 0.0074, Trial: 2, Failures: 2\n",
      "Physical error rate: 0.0074, Trial: 3, Failures: 3\n",
      "Physical error rate: 0.0074, Trial: 4, Failures: 4\n",
      "Physical error rate: 0.0074, Trial: 6, Failures: 5\n",
      "Physical error rate: 0.0074, Trial: 9, Failures: 6\n",
      "Physical error rate: 0.0074, Trial: 10, Failures: 7\n",
      "Physical error rate: 0.0074, Trial: 11, Failures: 8\n",
      "Physical error rate: 0.0074, Trial: 14, Failures: 9\n",
      "Physical error rate: 0.0074, Trial: 16, Failures: 10\n",
      "--------------------------------------------------------------\n",
      "Completed construction of decoding matrix\n",
      "Physical error rate: 0.0053, Trial: 6, Failures: 1\n",
      "Physical error rate: 0.0053, Trial: 7, Failures: 2\n",
      "Physical error rate: 0.0053, Trial: 8, Failures: 3\n",
      "Physical error rate: 0.0053, Trial: 10, Failures: 4\n",
      "Physical error rate: 0.0053, Trial: 12, Failures: 5\n",
      "Physical error rate: 0.0053, Trial: 16, Failures: 6\n",
      "Physical error rate: 0.0053, Trial: 18, Failures: 7\n",
      "Physical error rate: 0.0053, Trial: 25, Failures: 8\n",
      "Physical error rate: 0.0053, Trial: 26, Failures: 9\n",
      "Physical error rate: 0.0053, Trial: 29, Failures: 10\n",
      "--------------------------------------------------------------\n",
      "Completed construction of decoding matrix\n",
      "Physical error rate: 0.0038, Trial: 2, Failures: 1\n",
      "Physical error rate: 0.0038, Trial: 8, Failures: 2\n",
      "Physical error rate: 0.0038, Trial: 15, Failures: 3\n",
      "Physical error rate: 0.0038, Trial: 16, Failures: 4\n",
      "Physical error rate: 0.0038, Trial: 17, Failures: 5\n",
      "Physical error rate: 0.0038, Trial: 19, Failures: 6\n",
      "Physical error rate: 0.0038, Trial: 23, Failures: 7\n",
      "Physical error rate: 0.0038, Trial: 26, Failures: 8\n",
      "Physical error rate: 0.0038, Trial: 28, Failures: 9\n",
      "Physical error rate: 0.0038, Trial: 32, Failures: 10\n",
      "--------------------------------------------------------------\n",
      "Completed construction of decoding matrix\n",
      "Physical error rate: 0.0027, Trial: 2, Failures: 1\n",
      "Physical error rate: 0.0027, Trial: 4, Failures: 2\n",
      "Physical error rate: 0.0027, Trial: 5, Failures: 3\n",
      "Physical error rate: 0.0027, Trial: 10, Failures: 4\n",
      "Physical error rate: 0.0027, Trial: 14, Failures: 5\n",
      "Physical error rate: 0.0027, Trial: 16, Failures: 6\n",
      "Physical error rate: 0.0027, Trial: 17, Failures: 7\n",
      "Physical error rate: 0.0027, Trial: 21, Failures: 8\n",
      "Physical error rate: 0.0027, Trial: 22, Failures: 9\n",
      "Physical error rate: 0.0027, Trial: 27, Failures: 10\n",
      "--------------------------------------------------------------\n",
      "Completed construction of decoding matrix\n",
      "Physical error rate: 0.0019, Trial: 3, Failures: 1\n",
      "Physical error rate: 0.0019, Trial: 8, Failures: 2\n",
      "Physical error rate: 0.0019, Trial: 11, Failures: 3\n",
      "Physical error rate: 0.0019, Trial: 14, Failures: 4\n",
      "Physical error rate: 0.0019, Trial: 16, Failures: 5\n",
      "Physical error rate: 0.0019, Trial: 17, Failures: 6\n",
      "Physical error rate: 0.0019, Trial: 20, Failures: 7\n",
      "Physical error rate: 0.0019, Trial: 28, Failures: 8\n",
      "Physical error rate: 0.0019, Trial: 36, Failures: 9\n",
      "Physical error rate: 0.0019, Trial: 39, Failures: 10\n",
      "--------------------------------------------------------------\n",
      "Completed construction of decoding matrix\n",
      "Physical error rate: 0.0014, Trial: 17, Failures: 1\n",
      "Physical error rate: 0.0014, Trial: 18, Failures: 2\n",
      "Physical error rate: 0.0014, Trial: 19, Failures: 3\n",
      "Physical error rate: 0.0014, Trial: 25, Failures: 4\n",
      "Physical error rate: 0.0014, Trial: 30, Failures: 5\n",
      "Physical error rate: 0.0014, Trial: 37, Failures: 6\n",
      "Physical error rate: 0.0014, Trial: 40, Failures: 7\n",
      "Physical error rate: 0.0014, Trial: 58, Failures: 8\n",
      "Physical error rate: 0.0014, Trial: 63, Failures: 9\n",
      "Physical error rate: 0.0014, Trial: 65, Failures: 10\n",
      "--------------------------------------------------------------\n",
      "Completed construction of decoding matrix\n",
      "Physical error rate: 0.0010, Trial: 17, Failures: 1\n",
      "Physical error rate: 0.0010, Trial: 37, Failures: 2\n",
      "Physical error rate: 0.0010, Trial: 48, Failures: 3\n",
      "Physical error rate: 0.0010, Trial: 51, Failures: 4\n",
      "Physical error rate: 0.0010, Trial: 77, Failures: 5\n",
      "Physical error rate: 0.0010, Trial: 90, Failures: 6\n",
      "Physical error rate: 0.0010, Trial: 103, Failures: 7\n",
      "Physical error rate: 0.0010, Trial: 107, Failures: 8\n",
      "Physical error rate: 0.0010, Trial: 108, Failures: 9\n",
      "Physical error rate: 0.0010, Trial: 124, Failures: 10\n",
      "--------------------------------------------------------------\n"
     ]
    }
   ],
   "source": [
    "physical_error = np.logspace(-1.7, -3, 10)\n",
    "results = []\n",
    "print(f'Starting full trials over physical error rates {physical_error}')\n",
    "\n",
    "for p in physical_error:\n",
    "    error_rates = {'Meas': p, 'Prep': p, 'Idle': p, 'CNOT': p}\n",
    "    fails = 0\n",
    "    trials = 0\n",
    "\n",
    "    # Generate sm circuit and decoding matrix\n",
    "    circ = construct_sm_circuit(bb, x_order, z_order)\n",
    "    hx_eff, short_hx_eff, hz_eff, short_hz_eff, channel_prob_x, channel_prob_z = construct_decoding_matrix(bb, circ, error_rates, num_cycles)\n",
    "\n",
    "    print(\"Completed construction of decoding matrix\")\n",
    "\n",
    "    while fails < total_fails:\n",
    "        trials += 1\n",
    "        \n",
    "        # Generate noisy circ\n",
    "        noisy_circ, err_cnt = generate_noisy_circuit(bb, circ * num_cycles, error_rates)\n",
    "        \n",
    "        # Simulate noisy circ\n",
    "        x_syndrome_history, x_state, x_syndrome_map, x_err_count = simulate_x_circuit(bb, noisy_circ + circ + circ)\n",
    "\n",
    "        # Calculate true logical effect\n",
    "        x_state_data_qudits = [x_state[bb.qudits_dict[qudit]] for qudit in bb.data_qudits]\n",
    "        x_syndrome_final_logical = (np.array(lz) @ x_state_data_qudits) % field.p\n",
    "        \n",
    "        # Syndrome sparsification\n",
    "        z_checks = bb.z_checks\n",
    "        x_syndrome_history_copy = x_syndrome_history.copy()\n",
    "        for check in z_checks:\n",
    "            pos = x_syndrome_map[check]\n",
    "            assert len(pos) == num_cycles + 2\n",
    "            for row in range(1, num_cycles + 2):\n",
    "                x_syndrome_history[pos[row]] += x_syndrome_history_copy[pos[row-1]]\n",
    "        x_syndrome_history %= field.p\n",
    "        \n",
    "        # Decode\n",
    "        bposd = BpOsdDecoder(short_hx_eff, error_channel=channel_prob_x, max_iter=1000)\n",
    "        x_error = bposd.decode(x_syndrome_history)\n",
    "        assert np.all((short_hx_eff @ x_error) % field.p == x_syndrome_history)\n",
    "        \n",
    "        # Check logical effect\n",
    "        first_logical_row = bb.l * bb.m * (num_cycles + 2)\n",
    "        k = len(lx)\n",
    "        x_syndrome_history_augmented_guessed = (hx_eff @ x_error) % field.p\n",
    "        x_syndrome_final_logical_guessed = x_syndrome_history_augmented_guessed[first_logical_row: first_logical_row + k]\n",
    "        \n",
    "        if not np.array_equal(x_syndrome_final_logical_guessed, x_syndrome_final_logical):\n",
    "            fails += 1\n",
    "            print(f'Physical error rate: {p:.4f}, Trial: {trials}, Failures: {fails}')\n",
    "    print('--------------------------------------------------------------')\n",
    "    results.append(trials)\n"
   ]
  },
  {
   "cell_type": "code",
   "execution_count": 14,
   "id": "36f52ebd",
   "metadata": {},
   "outputs": [
    {
     "data": {
      "text/plain": [
       "[15, 16, 13, 16, 29, 32, 27, 39, 65, 124]"
      ]
     },
     "execution_count": 14,
     "metadata": {},
     "output_type": "execute_result"
    }
   ],
   "source": [
    "results\n"
   ]
  },
  {
   "cell_type": "code",
   "execution_count": 15,
   "id": "39de275a",
   "metadata": {},
   "outputs": [],
   "source": [
    "results_3 = np.array([29, 24, 49, 50, 99, 184, 109, 247, 520, 763])\n",
    "results_5 = np.array([15, 18, 17, 21, 24, 37, 46, 84, 197, 240])\n",
    "results_7 = np.array([15, 16, 13, 16, 29, 32, 27, 39, 65, 124])\n"
   ]
  },
  {
   "cell_type": "code",
   "execution_count": 16,
   "id": "354ad6f6",
   "metadata": {},
   "outputs": [
    {
     "data": {
      "image/png": "[encoded data removed]",
      "text/plain": [
       "<Figure size 640x480 with 1 Axes>"
      ]
     },
     "metadata": {},
     "output_type": "display_data"
    }
   ],
   "source": [
    "plt.plot(physical_error, 10/(3*results_3), '-.', label='3x3')\n",
    "plt.plot(physical_error, 10/(5*results_5), '-.', label='5x5')\n",
    "plt.plot(physical_error, 10/(7*results_7), '-.', label='7x7')\n",
    "plt.xscale('log')\n",
    "plt.yscale('log')\n",
    "plt.xlabel('Physical error rate')\n",
    "plt.ylabel('Logical error rate per cycle')\n",
    "plt.legend()\n",
    "plt.title('Threshold Graph of Toric Code (Circuit-Level)');\n"
   ]
  },
  {
   "cell_type": "markdown",
   "id": "451f2b6e",
   "metadata": {},
   "source": [
    "### Threshold Attempt"
   ]
  },
  {
   "cell_type": "code",
   "execution_count": null,
   "id": "17b8d47f",
   "metadata": {},
   "outputs": [
    {
     "data": {
      "image/png": "[encoded data removed]",
      "text/plain": [
       "<Figure size 640x480 with 1 Axes>"
      ]
     },
     "metadata": {},
     "output_type": "display_data"
    }
   ],
   "source": [
    "field = Field(2)\n",
    "x, y = Monomial(field, 'x'), Monomial(field, 'y')\n",
    "a, b = 1 - x, 1 - y\n",
    "\n",
    "bb = BivariateBicycle(a, b, 7, 7, 1)\n",
    "hx, hz = bb.hx, bb.hz\n",
    "lx, lz = bb.x_logicals, bb.z_logicals\n",
    "bb.draw()\n",
    "\n",
    "x_order = ['Idle', 0, 3, 1, 2]\n",
    "z_order = [0, 3, 1, 2, 'Idle']\n",
    "\n",
    "p = 0.01\n",
    "num_cycles = 2\n",
    "error_rates = {'Meas': p, 'Prep': p, 'Idle': p, 'CNOT': p}\n"
   ]
  },
  {
   "cell_type": "code",
   "execution_count": null,
   "id": "addd34c6",
   "metadata": {},
   "outputs": [],
   "source": [
    "# Generate sm circuit and decoding matrix\n",
    "circ = bb.construct_sm_circuit(x_order, z_order)\n",
    "hx_eff, short_hx_eff, hz_eff, short_hz_eff, channel_prob_x, channel_prob_z = bb.construct_decoding_matrix(circ, error_rates, num_cycles)\n"
   ]
  },
  {
   "cell_type": "code",
   "execution_count": null,
   "id": "e606f740",
   "metadata": {},
   "outputs": [
    {
     "name": "stdout",
     "output_type": "stream",
     "text": [
      "Number of errors: 16\n"
     ]
    }
   ],
   "source": [
    "# Generate noisy circ\n",
    "noisy_circ, err_cnt = bb._generate_noisy_circuit(circ * num_cycles, error_rates)\n",
    "print(f'Number of errors: {err_cnt}')\n"
   ]
  },
  {
   "cell_type": "code",
   "execution_count": null,
   "id": "87949a5a",
   "metadata": {},
   "outputs": [
    {
     "name": "stdout",
     "output_type": "stream",
     "text": [
      "Number of X errors: 9\n",
      "x_syndrome_history: [0 0 0 0 0 0 0 0 0 0 0 0 0 0 0 0 0 0 0 1 1 0 0 0 0 0 0 0 0 0 0 0 0 0 0 0 1\n",
      " 0 0 0 0 0 0 0 1 0 0 0 0 0 0 0 0 0 0 0 0 0 0 0 0 0 0 0 0 0 0 0 0 0 0 0 0 0\n",
      " 0 1 0 0 0 0 0 0 0 0 0 0 0 0 0 0 0 0 0 0 0 0 0 0 0 0 0 0 0 0 0 0 0 0 0 1 1\n",
      " 0 0 0 0 0 0 0 0 0 0 0 1 1 1 1 0 0 1 0 0 0 0 0 0 0 0 0 0 0 0 0 0 0 0 0 0 0\n",
      " 0 0 0 0 0 0 0 0 0 0 1 1 0 0 0 0 0 0 0 0 0 0 0 1 1 1 1 0 0 0 0 0 0 0 0 0 0\n",
      " 0 0 0 0 0 0 0 0 0 0 0]\n"
     ]
    }
   ],
   "source": [
    "# Simulate noisy circ\n",
    "x_syndrome_history, x_state, x_syndrome_map, x_err_count = bb._simulate_x_circuit(noisy_circ + circ + circ)\n",
    "print(f'Number of X errors: {x_err_count}')\n",
    "print(f'x_syndrome_history: {x_syndrome_history}')\n"
   ]
  },
  {
   "cell_type": "code",
   "execution_count": null,
   "id": "be6ccd92",
   "metadata": {},
   "outputs": [
    {
     "name": "stdout",
     "output_type": "stream",
     "text": [
      "True final logical X error: [0 1]\n"
     ]
    }
   ],
   "source": [
    "# Calculate true logical effect\n",
    "qudits_dict = bb.qudits_dict\n",
    "data_qudits = bb.data_qudits\n",
    "x_state_data_qudits = [x_state[qudits_dict[qudit]] for qudit in data_qudits]\n",
    "x_syndrome_final_logical = (np.array(lz) @ x_state_data_qudits) % field.p\n",
    "print(f'True final logical X error: {x_syndrome_final_logical}')\n"
   ]
  },
  {
   "cell_type": "code",
   "execution_count": null,
   "id": "ddf693d3",
   "metadata": {},
   "outputs": [
    {
     "name": "stdout",
     "output_type": "stream",
     "text": [
      "Sparsified x_syndrome_history: [0 0 0 0 0 0 0 0 0 0 0 0 0 0 0 0 0 0 0 1 1 0 0 0 0 0 0 0 0 0 0 0 0 0 0 0 1\n",
      " 0 0 0 0 0 0 0 1 0 0 0 0 0 0 0 0 0 0 0 0 0 0 0 0 0 0 0 0 0 0 0 1 1 0 0 0 0\n",
      " 0 1 0 0 0 0 0 0 0 0 0 1 0 0 0 0 0 0 0 1 0 0 0 0 0 0 0 0 0 0 0 0 0 0 0 1 1\n",
      " 0 0 0 0 0 0 0 0 0 0 0 1 1 0 1 0 0 1 0 0 0 0 0 0 0 0 0 0 0 0 0 0 0 0 0 0 0\n",
      " 0 0 0 0 0 0 0 0 0 0 0 0 0 0 0 0 0 0 0 0 0 0 0 0 0 0 0 0 0 1 0 0 0 0 0 0 0\n",
      " 0 0 0 0 0 0 0 0 0 0 0]\n"
     ]
    }
   ],
   "source": [
    "# Syndrome sparsification\n",
    "z_checks = bb.z_checks\n",
    "x_syndrome_history_copy = x_syndrome_history.copy()\n",
    "for check in z_checks:\n",
    "    pos = x_syndrome_map[check]\n",
    "    assert len(pos) == num_cycles + 2\n",
    "    for row in range(1, num_cycles + 2):\n",
    "        x_syndrome_history[pos[row]] += x_syndrome_history_copy[pos[row-1]]\n",
    "x_syndrome_history %= field.p\n",
    "print(f'Sparsified x_syndrome_history: {x_syndrome_history}')\n"
   ]
  },
  {
   "cell_type": "code",
   "execution_count": null,
   "id": "29865ded",
   "metadata": {},
   "outputs": [
    {
     "name": "stdout",
     "output_type": "stream",
     "text": [
      "Decoded X error: [0 0 0 0 0 0 0 0 0 0 0 0 0 0 0 0 0 0 0 0 0 0 0 0 0 0 0 0 0 0 0 0 0 0 0 0 0\n",
      " 0 0 0 0 0 0 0 0 0 0 0 0 0 0 0 0 0 0 0 0 1 0 0 0 0 0 0 0 0 0 0 0 0 0 0 0 0\n",
      " 0 0 0 0 0 0 0 0 0 0 0 0 0 0 0 0 0 0 0 0 0 0 0 0 0 0 0 0 0 0 0 0 0 0 0 1 0\n",
      " 0 0 0 0 0 0 0 0 0 0 0 0 0 0 0 0 0 0 0 0 0 0 1 0 0 0 0 0 0 0 0 0 0 0 0 0 0\n",
      " 0 0 0 0 0 0 0 0 0 0 0 0 0 0 0 0 0 0 0 0 0 0 0 0 0 0 0 0 0 0 0 0 0 0 0 0 0\n",
      " 0 0 0 0 0 0 0 0 0 0 0 0 0 0 0 0 0 0 0 0 0 0 0 0 0 0 0 0 0 0 0 0 0 0 0 0 0\n",
      " 0 1 0 0 0 0 0 0 0 0 0 0 0 0 0 0 0 0 0 0 0 0 0 0 0 0 0 0 0 0 0 0 0 0 0 0 0\n",
      " 0 0 0 0 0 0 0 0 0 0 0 0 0 0 0 0 0 0 0 0 0 0 0 0 0 0 0 0 0 0 0 0 0 0 0 0 0\n",
      " 0 0 0 0 0 0 0 0 0 0 0 0 0 0 0 0 0 0 0 0 0 0 0 0 0 0 0 0 0 0 0 0 0 0 0 0 0\n",
      " 0 0 0 0 0 0 0 0 0 0 0 0 0 0 0 0 0 0 0 0 0 0 0 0 0 0 0 0 0 0 0 0 0 0 0 0 0\n",
      " 0 0 0 0 0 0 0 0 0 0 0 0 0 0 0 0 0 0 0 0 0 0 0 0 0 0 0 0 0 0 0 0 0 0 0 0 0\n",
      " 0 0 0 0 0 0 0 0 0 0 0 0 0 0 0 0 0 0 0 0 0 0 0 0 0 0 0 0 0 0 0 0 0 0 0 0 0\n",
      " 0 0 0 0 0 0 0 0 0 0 0 0 0 0 0 0 0 0 0 0 0 0 0 0 0 0 0 0 0 0 0 0 0 0 0 0 0\n",
      " 0 0 0 0 0 0 0 0 0 0 0 0 0 0 0 0 0 0 0 0 0 0 0 0 0 0 0 0 0 0 0 0 0 0 0 0 0\n",
      " 0 0 0 0 0 0 0 0 0 0 0 0 0 0 0 0 0 0 0 0 0 0 0 0 0 0 0 0 0 0 0 0 0 0 0 0 0\n",
      " 0 0 0 0 1 0 0 0 0 0 0 0 0 0 0 0 0 0 0 0 0 0 0 0 0 0 0 0 0 0 0 0 0 0 0 0 0\n",
      " 0 0 0 0 0 0 0 0 0 0 0 0 0 0 0 0 0 0 0 0 0 0 0 0 0 0 0 0 0 0 0 0 0 0 0 0 0\n",
      " 0 0 0 0 0 0 0 0 0 0 0 0 0 1 0 0 0 0 0 0 0 0 0 0 0 0 1 0 0 0 0 0 0 0 0 0 0\n",
      " 0 0 0 0 0 0 0 0 0 0 0 0 0 0 0 0 0 0 0 0 0 0 0 0 0 0 0 0 0 0 0 0 0 0 0 0 0\n",
      " 0 0 0 0 0 0 0 0 0 0 0 0 0 0 0 0 0 0 0 0 0 0 0 0 0 0 0 0 0 0 0 0 0 0 0 0 0\n",
      " 0 0 0 0 0 0 0 0 0 0 0 0 0 0 0 0 0 0 1 0 0 0 0 0 0 0 0 0 0 0 0 0 0 0 0 0 0]\n"
     ]
    }
   ],
   "source": [
    "# Decode\n",
    "bposd = BpOsdDecoder(short_hx_eff, error_channel=channel_prob_x, max_iter=1000)\n",
    "x_error = bposd.decode(x_syndrome_history)\n",
    "print(f'Decoded X error: {x_error}')\n",
    "assert np.all((short_hx_eff @ x_error) % field.p == x_syndrome_history)\n"
   ]
  },
  {
   "cell_type": "code",
   "execution_count": null,
   "id": "6e170401",
   "metadata": {},
   "outputs": [
    {
     "name": "stdout",
     "output_type": "stream",
     "text": [
      "Guessed logical effect: [0 0]\n",
      "Actual logical effect: [0 1]\n"
     ]
    }
   ],
   "source": [
    "# Check logical effect\n",
    "first_logical_row = bb.l * bb.m * (num_cycles + 2)\n",
    "k = len(lx)\n",
    "x_syndrome_history_augmented_guessed = (hx_eff @ x_error) % field.p\n",
    "x_syndrome_final_logical_guessed = x_syndrome_history_augmented_guessed[first_logical_row: first_logical_row + k]\n",
    "print(f'Guessed logical effect: {x_syndrome_final_logical_guessed}')\n",
    "print(f'Actual logical effect: {x_syndrome_final_logical}')\n",
    "x_success = np.array_equal(x_syndrome_final_logical_guessed, x_syndrome_final_logical)\n"
   ]
  },
  {
   "cell_type": "code",
   "execution_count": null,
   "id": "ad160921",
   "metadata": {},
   "outputs": [
    {
     "name": "stdout",
     "output_type": "stream",
     "text": [
      "Starting full trials over physical error rates [0.01995262 0.01430723 0.01025914 0.00735642 0.005275   0.00378249\n",
      " 0.00271227 0.00194486 0.00139458 0.001     ]\n",
      "Physical error rate: 0.0200, Trial: 2, Failures: 1\n",
      "Physical error rate: 0.0200, Trial: 3, Failures: 2\n",
      "Physical error rate: 0.0200, Trial: 4, Failures: 3\n",
      "Physical error rate: 0.0200, Trial: 5, Failures: 4\n",
      "Physical error rate: 0.0200, Trial: 8, Failures: 5\n",
      "Physical error rate: 0.0200, Trial: 9, Failures: 6\n",
      "Physical error rate: 0.0200, Trial: 11, Failures: 7\n",
      "Physical error rate: 0.0200, Trial: 13, Failures: 8\n",
      "Physical error rate: 0.0200, Trial: 14, Failures: 9\n",
      "Physical error rate: 0.0200, Trial: 16, Failures: 10\n",
      "--------------------------------------------------------------\n",
      "Physical error rate: 0.0143, Trial: 3, Failures: 1\n",
      "Physical error rate: 0.0143, Trial: 6, Failures: 2\n",
      "Physical error rate: 0.0143, Trial: 7, Failures: 3\n",
      "Physical error rate: 0.0143, Trial: 9, Failures: 4\n",
      "Physical error rate: 0.0143, Trial: 10, Failures: 5\n",
      "Physical error rate: 0.0143, Trial: 13, Failures: 6\n",
      "Physical error rate: 0.0143, Trial: 14, Failures: 7\n",
      "Physical error rate: 0.0143, Trial: 15, Failures: 8\n",
      "Physical error rate: 0.0143, Trial: 16, Failures: 9\n",
      "Physical error rate: 0.0143, Trial: 17, Failures: 10\n",
      "--------------------------------------------------------------\n",
      "Physical error rate: 0.0103, Trial: 1, Failures: 1\n",
      "Physical error rate: 0.0103, Trial: 5, Failures: 2\n",
      "Physical error rate: 0.0103, Trial: 6, Failures: 3\n",
      "Physical error rate: 0.0103, Trial: 11, Failures: 4\n",
      "Physical error rate: 0.0103, Trial: 24, Failures: 5\n",
      "Physical error rate: 0.0103, Trial: 25, Failures: 6\n",
      "Physical error rate: 0.0103, Trial: 26, Failures: 7\n",
      "Physical error rate: 0.0103, Trial: 29, Failures: 8\n",
      "Physical error rate: 0.0103, Trial: 33, Failures: 9\n",
      "Physical error rate: 0.0103, Trial: 34, Failures: 10\n",
      "--------------------------------------------------------------\n",
      "Physical error rate: 0.0074, Trial: 1, Failures: 1\n",
      "Physical error rate: 0.0074, Trial: 2, Failures: 2\n",
      "Physical error rate: 0.0074, Trial: 5, Failures: 3\n",
      "Physical error rate: 0.0074, Trial: 6, Failures: 4\n",
      "Physical error rate: 0.0074, Trial: 36, Failures: 5\n",
      "Physical error rate: 0.0074, Trial: 37, Failures: 6\n",
      "Physical error rate: 0.0074, Trial: 38, Failures: 7\n",
      "Physical error rate: 0.0074, Trial: 41, Failures: 8\n",
      "Physical error rate: 0.0074, Trial: 47, Failures: 9\n",
      "Physical error rate: 0.0074, Trial: 49, Failures: 10\n",
      "--------------------------------------------------------------\n",
      "Physical error rate: 0.0053, Trial: 1, Failures: 1\n",
      "Physical error rate: 0.0053, Trial: 2, Failures: 2\n",
      "Physical error rate: 0.0053, Trial: 3, Failures: 3\n",
      "Physical error rate: 0.0053, Trial: 4, Failures: 4\n",
      "Physical error rate: 0.0053, Trial: 7, Failures: 5\n",
      "Physical error rate: 0.0053, Trial: 8, Failures: 6\n",
      "Physical error rate: 0.0053, Trial: 17, Failures: 7\n",
      "Physical error rate: 0.0053, Trial: 32, Failures: 8\n",
      "Physical error rate: 0.0053, Trial: 44, Failures: 9\n",
      "Physical error rate: 0.0053, Trial: 50, Failures: 10\n",
      "--------------------------------------------------------------\n",
      "Physical error rate: 0.0038, Trial: 5, Failures: 1\n",
      "Physical error rate: 0.0038, Trial: 6, Failures: 2\n",
      "Physical error rate: 0.0038, Trial: 8, Failures: 3\n",
      "Physical error rate: 0.0038, Trial: 11, Failures: 4\n",
      "Physical error rate: 0.0038, Trial: 25, Failures: 5\n",
      "Physical error rate: 0.0038, Trial: 32, Failures: 6\n",
      "Physical error rate: 0.0038, Trial: 33, Failures: 7\n",
      "Physical error rate: 0.0038, Trial: 45, Failures: 8\n",
      "Physical error rate: 0.0038, Trial: 46, Failures: 9\n",
      "Physical error rate: 0.0038, Trial: 47, Failures: 10\n",
      "--------------------------------------------------------------\n",
      "Physical error rate: 0.0027, Trial: 34, Failures: 1\n",
      "Physical error rate: 0.0027, Trial: 42, Failures: 2\n",
      "Physical error rate: 0.0027, Trial: 69, Failures: 3\n",
      "Physical error rate: 0.0027, Trial: 82, Failures: 4\n",
      "Physical error rate: 0.0027, Trial: 84, Failures: 5\n",
      "Physical error rate: 0.0027, Trial: 104, Failures: 6\n",
      "Physical error rate: 0.0027, Trial: 129, Failures: 7\n",
      "Physical error rate: 0.0027, Trial: 151, Failures: 8\n",
      "Physical error rate: 0.0027, Trial: 153, Failures: 9\n",
      "Physical error rate: 0.0027, Trial: 178, Failures: 10\n",
      "--------------------------------------------------------------\n",
      "Physical error rate: 0.0019, Trial: 42, Failures: 1\n",
      "Physical error rate: 0.0019, Trial: 58, Failures: 2\n",
      "Physical error rate: 0.0019, Trial: 62, Failures: 3\n",
      "Physical error rate: 0.0019, Trial: 70, Failures: 4\n",
      "Physical error rate: 0.0019, Trial: 78, Failures: 5\n",
      "Physical error rate: 0.0019, Trial: 81, Failures: 6\n",
      "Physical error rate: 0.0019, Trial: 134, Failures: 7\n",
      "Physical error rate: 0.0019, Trial: 135, Failures: 8\n",
      "Physical error rate: 0.0019, Trial: 140, Failures: 9\n",
      "Physical error rate: 0.0019, Trial: 170, Failures: 10\n",
      "--------------------------------------------------------------\n",
      "Physical error rate: 0.0014, Trial: 35, Failures: 1\n",
      "Physical error rate: 0.0014, Trial: 40, Failures: 2\n",
      "Physical error rate: 0.0014, Trial: 64, Failures: 3\n",
      "Physical error rate: 0.0014, Trial: 75, Failures: 4\n",
      "Physical error rate: 0.0014, Trial: 79, Failures: 5\n",
      "Physical error rate: 0.0014, Trial: 108, Failures: 6\n",
      "Physical error rate: 0.0014, Trial: 133, Failures: 7\n",
      "Physical error rate: 0.0014, Trial: 153, Failures: 8\n",
      "Physical error rate: 0.0014, Trial: 170, Failures: 9\n",
      "Physical error rate: 0.0014, Trial: 174, Failures: 10\n",
      "--------------------------------------------------------------\n",
      "Physical error rate: 0.0010, Trial: 9, Failures: 1\n",
      "Physical error rate: 0.0010, Trial: 20, Failures: 2\n",
      "Physical error rate: 0.0010, Trial: 102, Failures: 3\n",
      "Physical error rate: 0.0010, Trial: 112, Failures: 4\n",
      "Physical error rate: 0.0010, Trial: 114, Failures: 5\n",
      "Physical error rate: 0.0010, Trial: 185, Failures: 6\n",
      "Physical error rate: 0.0010, Trial: 213, Failures: 7\n",
      "Physical error rate: 0.0010, Trial: 222, Failures: 8\n",
      "Physical error rate: 0.0010, Trial: 249, Failures: 9\n",
      "Physical error rate: 0.0010, Trial: 273, Failures: 10\n",
      "--------------------------------------------------------------\n"
     ]
    }
   ],
   "source": [
    "physical_error = np.logspace(-1.7, -3, 10)\n",
    "results = []\n",
    "print(f'Starting full trials over physical error rates {physical_error}')\n",
    "\n",
    "for p in physical_error:\n",
    "    error_rates = {'Meas': p, 'Prep': p, 'Idle': p, 'CNOT': p}\n",
    "    fails = 0\n",
    "    trials = 0\n",
    "\n",
    "    # Generate sm circuit and decoding matrix\n",
    "    hx_eff, short_hx_eff, hz_eff, short_hz_eff, channel_prob_x, channel_prob_z = bb.construct_decoding_matrix(circ, error_rates, num_cycles)\n",
    "\n",
    "    while fails < 10:\n",
    "        trials += 1\n",
    "        \n",
    "        # Generate noisy circ\n",
    "        noisy_circ, err_cnt = bb._generate_noisy_circuit(circ * num_cycles, error_rates)\n",
    "        \n",
    "        # Simulate noisy circ\n",
    "        x_syndrome_history, x_state, x_syndrome_map, x_err_count = bb._simulate_x_circuit(noisy_circ + circ + circ)\n",
    "        \n",
    "        # Calculate true logical effect\n",
    "        qudits_dict = bb.qudits_dict\n",
    "        data_qudits = bb.data_qudits\n",
    "        x_state_data_qudits = [x_state[qudits_dict[qudit]] for qudit in data_qudits]\n",
    "        x_syndrome_final_logical = (np.array(lz) @ x_state_data_qudits) % field.p\n",
    "        \n",
    "        # Syndrome sparsification\n",
    "        z_checks = bb.z_checks\n",
    "        x_syndrome_history_copy = x_syndrome_history.copy()\n",
    "        for check in z_checks:\n",
    "            pos = x_syndrome_map[check]\n",
    "            assert len(pos) == num_cycles + 2\n",
    "            for row in range(1, num_cycles + 2):\n",
    "                x_syndrome_history[pos[row]] += x_syndrome_history_copy[pos[row-1]]\n",
    "        x_syndrome_history %= field.p\n",
    "        \n",
    "        # Decode\n",
    "        bposd = BpOsdDecoder(short_hx_eff, error_channel=channel_prob_x, max_iter=1000)\n",
    "        x_error = bposd.decode(x_syndrome_history)\n",
    "        assert np.all((short_hx_eff @ x_error) % field.p == x_syndrome_history)\n",
    "        \n",
    "        # Check logical effect\n",
    "        first_logical_row = bb.l * bb.m * (num_cycles + 2)\n",
    "        k = len(lx)\n",
    "        x_syndrome_history_augmented_guessed = (hx_eff @ x_error) % field.p\n",
    "        x_syndrome_final_logical_guessed = x_syndrome_history_augmented_guessed[first_logical_row: first_logical_row + k]\n",
    "        \n",
    "        if not np.array_equal(x_syndrome_final_logical_guessed, x_syndrome_final_logical):\n",
    "            fails += 1\n",
    "            print(f'Physical error rate: {p:.4f}, Trial: {trials}, Failures: {fails}')\n",
    "    print('--------------------------------------------------------------')\n",
    "    results.append(trials)\n"
   ]
  },
  {
   "cell_type": "code",
   "execution_count": null,
   "id": "429b98b3",
   "metadata": {},
   "outputs": [
    {
     "data": {
      "text/plain": [
       "[16, 17, 34, 49, 50, 47, 178, 170, 174, 273]"
      ]
     },
     "execution_count": 125,
     "metadata": {},
     "output_type": "execute_result"
    }
   ],
   "source": [
    "results\n"
   ]
  },
  {
   "cell_type": "code",
   "execution_count": null,
   "id": "81d26985",
   "metadata": {},
   "outputs": [],
   "source": [
    "results_7 = [16, 17, 34, 49, 50, 47, 178, 170, 174, 273]\n"
   ]
  },
  {
   "cell_type": "code",
   "execution_count": null,
   "id": "5b887105",
   "metadata": {},
   "outputs": [],
   "source": [
    "results_5 = [16, 28, 25, 53, 82, 141, 191, 419, 198, 504]\n"
   ]
  },
  {
   "cell_type": "code",
   "execution_count": null,
   "id": "c1a16df6",
   "metadata": {},
   "outputs": [],
   "source": [
    "results_3 = np.array([13, 32, 25, 42, 48, 148, 222, 141, 182, 351]) + np.array([19, 18, 16, 61, 93, 54, 83, 312, 104, 548])\n"
   ]
  },
  {
   "cell_type": "code",
   "execution_count": null,
   "id": "4cb9489e",
   "metadata": {},
   "outputs": [
    {
     "data": {
      "image/png": "[encoded data removed]",
      "text/plain": [
       "<Figure size 640x480 with 1 Axes>"
      ]
     },
     "metadata": {},
     "output_type": "display_data"
    }
   ],
   "source": [
    "plt.plot(physical_error, 10/np.array(results_3), '-.', label='3x3')\n",
    "plt.plot(physical_error, 10/np.array(results_5), '-.', label='5x5')\n",
    "plt.plot(physical_error, 10/np.array(results_7), '-.', label='7x7')\n",
    "plt.xscale('log')\n",
    "plt.yscale('log')\n",
    "plt.xlabel('Physical error rate')\n",
    "plt.ylabel('Logical error rate')\n",
    "plt.legend()\n",
    "plt.title('Threshold Graph of Toric Code (Circuit-Level)');\n"
   ]
  },
  {
   "cell_type": "code",
   "execution_count": null,
   "id": "9be50b53",
   "metadata": {},
   "outputs": [],
   "source": []
  },
  {
   "cell_type": "markdown",
   "id": "88d09516",
   "metadata": {},
   "source": [
    "### Noise propagation check"
   ]
  },
  {
   "cell_type": "code",
   "execution_count": null,
   "id": "908ebcde",
   "metadata": {},
   "outputs": [
    {
     "data": {
      "image/png": "[encoded data removed]",
      "text/plain": [
       "<Figure size 640x480 with 1 Axes>"
      ]
     },
     "metadata": {},
     "output_type": "display_data"
    }
   ],
   "source": [
    "field = Field(2)\n",
    "x, y = Monomial(field, 'x'), Monomial(field, 'y')\n",
    "a, b = 1 - x, 1 - y\n",
    "\n",
    "bb = BivariateBicycle(a, b, 1, 1, 1)\n",
    "hx, hz = bb.hx, bb.hz\n",
    "lx, lz = bb.x_logicals, bb.z_logicals\n",
    "bb.draw()\n",
    "\n",
    "x_order = ['Idle', 0, 3, 1, 2]\n",
    "z_order = [0, 3, 1, 2, 'Idle']\n",
    "\n",
    "p = 0.01\n",
    "num_cycles = 2\n",
    "error_rates = {'Meas': p, 'Prep': p, 'Idle': p, 'CNOT': p}\n"
   ]
  },
  {
   "cell_type": "code",
   "execution_count": null,
   "id": "79d1d111",
   "metadata": {},
   "outputs": [
    {
     "data": {
      "text/plain": [
       "[('Prep_X', ('x_check', 0)),\n",
       " ('CNOT', ('data_left', 0), ('z_check', 0), 1),\n",
       " ('Idle', ('data_right', 0)),\n",
       " ('CNOT', ('x_check', 0), ('data_left', 0), 1),\n",
       " ('CNOT', ('data_right', 0), ('z_check', 0), 1),\n",
       " ('CNOT', ('x_check', 0), ('data_right', 0), 1),\n",
       " ('CNOT', ('data_left', 0), ('z_check', 0), 1),\n",
       " ('CNOT', ('x_check', 0), ('data_left', 0), 1),\n",
       " ('CNOT', ('data_right', 0), ('z_check', 0), 1),\n",
       " ('CNOT', ('x_check', 0), ('data_right', 0), 1),\n",
       " ('Meas_Z', ('z_check', 0)),\n",
       " ('Idle', ('data_left', 0)),\n",
       " ('Idle', ('data_left', 0)),\n",
       " ('Idle', ('data_right', 0)),\n",
       " ('Meas_X', ('x_check', 0)),\n",
       " ('Prep_Z', ('z_check', 0))]"
      ]
     },
     "execution_count": 131,
     "metadata": {},
     "output_type": "execute_result"
    }
   ],
   "source": [
    "circ = bb.construct_sm_circuit(x_order, z_order)\n",
    "circ\n"
   ]
  },
  {
   "cell_type": "code",
   "execution_count": null,
   "id": "87b23800",
   "metadata": {},
   "outputs": [
    {
     "data": {
      "text/plain": [
       "[('Prep_X', ('x_check', 0)),\n",
       " ('CNOT', ('data_left', 0), ('z_check', 0), 1),\n",
       " ('X', ('data_left', 0)),\n",
       " ('Idle', ('data_right', 0)),\n",
       " ('CNOT', ('x_check', 0), ('data_left', 0), 1),\n",
       " ('CNOT', ('data_right', 0), ('z_check', 0), 1),\n",
       " ('CNOT', ('x_check', 0), ('data_right', 0), 1),\n",
       " ('CNOT', ('data_left', 0), ('z_check', 0), 1),\n",
       " ('CNOT', ('x_check', 0), ('data_left', 0), 1),\n",
       " ('CNOT', ('data_right', 0), ('z_check', 0), 1),\n",
       " ('CNOT', ('x_check', 0), ('data_right', 0), 1),\n",
       " ('Meas_Z', ('z_check', 0)),\n",
       " ('Idle', ('data_left', 0)),\n",
       " ('Idle', ('data_left', 0)),\n",
       " ('Idle', ('data_right', 0)),\n",
       " ('Meas_X', ('x_check', 0)),\n",
       " ('Prep_Z', ('z_check', 0))]"
      ]
     },
     "execution_count": 155,
     "metadata": {},
     "output_type": "execute_result"
    }
   ],
   "source": [
    "noise = [\n",
    " ('Prep_X', ('x_check', 0)),\n",
    " ('CNOT', ('data_left', 0), ('z_check', 0), 1),\n",
    " ('X', ('data_left', 0)),\n",
    " ('Idle', ('data_right', 0)),\n",
    " ('CNOT', ('x_check', 0), ('data_left', 0), 1),\n",
    " ('CNOT', ('data_right', 0), ('z_check', 0), 1),\n",
    " ('CNOT', ('x_check', 0), ('data_right', 0), 1),\n",
    " ('CNOT', ('data_left', 0), ('z_check', 0), 1),\n",
    " ('CNOT', ('x_check', 0), ('data_left', 0), 1),\n",
    " ('CNOT', ('data_right', 0), ('z_check', 0), 1),\n",
    " ('CNOT', ('x_check', 0), ('data_right', 0), 1),\n",
    " ('Meas_Z', ('z_check', 0)),\n",
    " ('Idle', ('data_left', 0)),\n",
    " ('Idle', ('data_left', 0)),\n",
    " ('Idle', ('data_right', 0)),\n",
    " ('Meas_X', ('x_check', 0)),\n",
    " ('Prep_Z', ('z_check', 0))]\n",
    "noise\n"
   ]
  },
  {
   "cell_type": "code",
   "execution_count": null,
   "id": "762a4fc8",
   "metadata": {},
   "outputs": [
    {
     "data": {
      "text/plain": [
       "(array([1]), array([0, 1, 0, 0]), {('z_check', 0): [0]}, 1)"
      ]
     },
     "execution_count": 156,
     "metadata": {},
     "output_type": "execute_result"
    }
   ],
   "source": [
    "bb._simulate_x_circuit(noise)\n"
   ]
  },
  {
   "cell_type": "code",
   "execution_count": null,
   "id": "d7e47c0a",
   "metadata": {},
   "outputs": [
    {
     "data": {
      "text/plain": [
       "{('x_check', 0): 0,\n",
       " ('data_left', 0): 1,\n",
       " ('data_right', 0): 2,\n",
       " ('z_check', 0): 3}"
      ]
     },
     "execution_count": 149,
     "metadata": {},
     "output_type": "execute_result"
    }
   ],
   "source": [
    "bb.qudits_dict\n"
   ]
  },
  {
   "cell_type": "code",
   "execution_count": null,
   "id": "1f9354b2",
   "metadata": {},
   "outputs": [],
   "source": [
    "def construct_decoding_matrix(\n",
    "    self, circ: list, error_rates: dict, num_cycles: int = 1\n",
    ") -> np.ndarray:\n",
    "    if not (isinstance(error_rates, dict)):\n",
    "        raise TypeError(\"error_rates must be a dictionary\")\n",
    "    for key in error_rates.keys():\n",
    "        if (key not in [\"Meas\", \"Prep\", \"Idle\", \"CNOT\"]) or (len(error_rates) != 4):\n",
    "            raise ValueError(\n",
    "                \"error_rates must have keys ['Meas', 'Prep', 'Idle', 'CNOT']\"\n",
    "            )\n",
    "        if not (isinstance(error_rates[key], float) and 0 <= error_rates[key] <= 1):\n",
    "            raise ValueError(\"error_rates must have values between 0 and 1\")\n",
    "    if not (isinstance(num_cycles, int) and num_cycles > 0):\n",
    "        raise TypeError(\"num_cycles must be a positive integer\")\n",
    "\n",
    "    l, m = self.l, self.m\n",
    "    field = self.field\n",
    "    qudits_dict, data_qudits = self.qudits_dict, self.data_qudits\n",
    "    x_logicals, z_logicals = self.x_logicals, self.z_logicals\n",
    "    x_checks, z_checks = self.x_checks, self.z_checks\n",
    "\n",
    "    # Construct repeated circuit\n",
    "    repeated_circ = circ * num_cycles\n",
    "\n",
    "    # Single error circuits\n",
    "    z_prob, z_circuit = [], []\n",
    "    x_prob, x_circuit = [], []\n",
    "    head = []\n",
    "    tail = repeated_circ.copy()\n",
    "    for gate in repeated_circ:\n",
    "        # assert gate[0] in ['CNOT', 'Idle', 'Meas_X', 'Meas_Z', 'Prep_X', 'Prep_Z']\n",
    "        if gate[0] == \"Meas_X\":\n",
    "            # Meas_X error only affects Z detectors\n",
    "            z_circuit.append(head + [(\"Z\", gate[1])] + tail)\n",
    "            z_prob.append(error_rates[\"Meas\"])\n",
    "        if gate[0] == \"Meas_Z\":\n",
    "            # Meas_Z error only affects X detectors\n",
    "            x_circuit.append(head + [(\"X\", gate[1])] + tail)\n",
    "            x_prob.append(error_rates[\"Meas\"])\n",
    "        head.append(gate)\n",
    "        tail.pop(0)\n",
    "        # assert repeated_circ == head + tail\n",
    "        if gate[0] == \"Prep_X\":\n",
    "            # Prep_X error only affects Z detectors\n",
    "            z_circuit.append(head + [(\"Z\", gate[1])] + tail)\n",
    "            z_prob.append(error_rates[\"Prep\"])\n",
    "        if gate[0] == \"Prep_Z\":\n",
    "            # Prep_Z error only affects X detectors\n",
    "            x_circuit.append(head + [(\"X\", gate[1])] + tail)\n",
    "            x_prob.append(error_rates[\"Prep\"])\n",
    "        if gate[0] == \"Idle\":\n",
    "            # Idle error on Z detectors\n",
    "            z_circuit.append(head + [(\"Z\", gate[1])] + tail)\n",
    "            z_prob.append(\n",
    "                error_rates[\"Idle\"] * 2 / 3\n",
    "            )  # 3 possible Idle errors are X, Y, Z so Z is 2/3 (Y and Z)\n",
    "            # Idle error on X detectors\n",
    "            x_circuit.append(head + [(\"X\", gate[1])] + tail)\n",
    "            x_prob.append(error_rates[\"Idle\"] * 2 / 3)\n",
    "        if gate[0] == \"CNOT\":\n",
    "            # Z error on control\n",
    "            z_circuit.append(head + [(\"Z\", gate[1])] + tail)\n",
    "            z_prob.append(\n",
    "                error_rates[\"CNOT\"] * 4 / 15\n",
    "            )  # possible CNOT errors are IX, IY, ..., ZZ so Z is 4/15 (IZ, IY, XZ and XY)\n",
    "            # Z error on target\n",
    "            z_circuit.append(head + [(\"Z\", gate[2])] + tail)\n",
    "            z_prob.append(error_rates[\"CNOT\"] * 4 / 15)\n",
    "            # Z error on both\n",
    "            z_circuit.append(head + [(\"ZZ\", gate[1], gate[2])] + tail)\n",
    "            z_prob.append(error_rates[\"CNOT\"] * 4 / 15)\n",
    "            # X error on control\n",
    "            x_circuit.append(head + [(\"X\", gate[1])] + tail)\n",
    "            x_prob.append(error_rates[\"CNOT\"] * 4 / 15)\n",
    "            # X error on target\n",
    "            x_circuit.append(head + [(\"X\", gate[2])] + tail)\n",
    "            x_prob.append(error_rates[\"CNOT\"] * 4 / 15)\n",
    "            # X error on both\n",
    "            x_circuit.append(head + [(\"XX\", gate[1], gate[2])] + tail)\n",
    "            x_prob.append(error_rates[\"CNOT\"] * 4 / 15)\n",
    "\n",
    "    # Execute each noisy X circuit and compute syndrome\n",
    "    # Add two noiseless syndrome cycles to end\n",
    "    cnt = 0\n",
    "    Hx_dict = {}\n",
    "    for x_circ in x_circuit:\n",
    "        syndrome_history, state, syndrome_map, err_cnt = self._simulate_x_circuit(\n",
    "            x_circ + circ + circ\n",
    "        )\n",
    "        assert err_cnt == 1\n",
    "        assert len(syndrome_history) == l * m * (num_cycles + 2)\n",
    "\n",
    "        # Compute final state of data qudits and logical effect\n",
    "        state_data_qudits = [\n",
    "            state[qudits_dict[qudit]] for qudit in data_qudits\n",
    "        ]  # 1 indicates X error\n",
    "        syndrome_final_logical = (\n",
    "            np.array(z_logicals) @ state_data_qudits\n",
    "        ) % field.p  # Check if X error flips logical Z outcome\n",
    "\n",
    "        # Syndrome sparsification, i.e. only keep syndrome entries that change from previous cycle\n",
    "        syndrome_history_copy = syndrome_history.copy()\n",
    "        for check in z_checks:\n",
    "            pos = syndrome_map[check]\n",
    "            assert len(pos) == num_cycles + 2\n",
    "            for row in range(1, num_cycles + 2):\n",
    "                syndrome_history[pos[row]] += syndrome_history_copy[pos[row - 1]]\n",
    "        syndrome_history %= field.p\n",
    "\n",
    "        # Combine syndrome_history and syndrome_final_logical\n",
    "        syndrome_history_augmented = np.hstack(\n",
    "            [syndrome_history, syndrome_final_logical]\n",
    "        )\n",
    "\n",
    "        # Hx_dict maps flagged Z stabilisers to corresponding noisy circuit, i.e. Hx_dict[flagged_z_stab] = [noisy_circuit_1, noisy_circuit_2, ...]\n",
    "        supp = tuple(np.nonzero(syndrome_history_augmented)[0])\n",
    "        if supp in Hx_dict:\n",
    "            Hx_dict[supp].append(cnt)\n",
    "        else:\n",
    "            Hx_dict[supp] = [cnt]\n",
    "        cnt += 1\n",
    "\n",
    "    first_logical_row_x = l * m * (num_cycles + 2)\n",
    "    num_x_errors = len(Hx_dict)  # Number of distinct X syndrome histories\n",
    "    k = len(x_logicals)  # Number of logical qudits\n",
    "    hx_eff, short_hx_eff = [], []\n",
    "    channel_prob_x = []\n",
    "    for supp in Hx_dict:\n",
    "        new_col = np.zeros(\n",
    "            (l * m * (num_cycles + 2) + k, 1), dtype=int\n",
    "        )  # With the augmented part for logicals\n",
    "        new_col_short = np.zeros((l * m * (num_cycles + 2), 1), dtype=int)\n",
    "        new_col[list(supp), 0] = 1  # 1 indicates which stabiliser is flagged\n",
    "        new_col_short[:, 0] = new_col[0:first_logical_row_x, 0]\n",
    "        hx_eff.append(coo_matrix(new_col))\n",
    "        short_hx_eff.append(coo_matrix(new_col_short))\n",
    "        channel_prob_x.append(\n",
    "            np.sum([x_prob[i] for i in Hx_dict[supp]])\n",
    "        )  # Probability of a given X syndrome\n",
    "    hx_eff = hstack(\n",
    "        hx_eff\n",
    "    )  # Row = flagged detectors (+ logical effect), column = eror mechanism (with same logical effect)\n",
    "    short_hx_eff = hstack(\n",
    "        short_hx_eff\n",
    "    )  # Shortened hx_eff without rows for logicals\n",
    "\n",
    "    # Execute each noisy Z circuit and compute syndrome\n",
    "    # Add two noiseless syndrome cycles to end\n",
    "    cnt = 0\n",
    "    Hz_dict = {}\n",
    "    for z_circ in z_circuit:\n",
    "        syndrome_history, state, syndrome_map, err_cnt = self._simulate_z_circuit(\n",
    "            z_circ + circ + circ\n",
    "        )\n",
    "        assert err_cnt == 1\n",
    "        assert len(syndrome_history) == l * m * (num_cycles + 2)\n",
    "\n",
    "        # Compute final state of data qudits and logical effect\n",
    "        state_data_qudits = [state[qudits_dict[qudit]] for qudit in data_qudits]\n",
    "        syndrome_final_logical = (\n",
    "            np.array(x_logicals) @ state_data_qudits\n",
    "        ) % field.p\n",
    "\n",
    "        # Syndrome sparsification, i.e. only keep syndrome entries that change from previous cycle\n",
    "        syndrome_history_copy = syndrome_history.copy()\n",
    "        for check in x_checks:\n",
    "            pos = syndrome_map[check]\n",
    "            assert len(pos) == num_cycles + 2\n",
    "            for row in range(1, num_cycles + 2):\n",
    "                syndrome_history[pos[row]] += syndrome_history_copy[pos[row - 1]]\n",
    "        syndrome_history %= field.p\n",
    "\n",
    "        # Combine syndrome_history and syndrome_final_logical\n",
    "        syndrome_history_augmented = np.hstack(\n",
    "            [syndrome_history, syndrome_final_logical]\n",
    "        )\n",
    "\n",
    "        # Hz_dict maps flagged X stabilisers to corresponding noisy circuit, i.e. Hz_dict[flagged_x_stab] = [noisy_circuit_1, noisy_circuit_2, ...]\n",
    "        supp = tuple(np.nonzero(syndrome_history_augmented)[0])\n",
    "        if supp in Hz_dict:\n",
    "            Hz_dict[supp].append(cnt)\n",
    "        else:\n",
    "            Hz_dict[supp] = [cnt]\n",
    "        cnt += 1\n",
    "\n",
    "    first_logical_row_z = l * m * (num_cycles + 2)\n",
    "    num_z_errors = len(Hz_dict)  # Number of distinct Z syndrome histories\n",
    "    hz_eff, short_hz_eff = [], []\n",
    "    channel_prob_z = []\n",
    "    for supp in Hz_dict:\n",
    "        new_col = np.zeros(\n",
    "            (l * m * (num_cycles + 2) + k, 1), dtype=int\n",
    "        )  # With the augmented part for logicals\n",
    "        new_col_short = np.zeros((l * m * (num_cycles + 2), 1), dtype=int)\n",
    "        new_col[list(supp), 0] = 1  # 1 indicates which stabiliser is flagged\n",
    "        new_col_short[:, 0] = new_col[0:first_logical_row_z, 0]\n",
    "        hz_eff.append(coo_matrix(new_col))\n",
    "        short_hz_eff.append(coo_matrix(new_col_short))\n",
    "        channel_prob_z.append(\n",
    "            np.sum([z_prob[i] for i in Hz_dict[supp]])\n",
    "        )  # Probability of a given Z syndrome\n",
    "    hz_eff = hstack(\n",
    "        hz_eff\n",
    "    )  # Row = flagged detectors (+ logical effect), column = eror mechanism (with same logical effect)\n",
    "    short_hz_eff = hstack(\n",
    "        short_hz_eff\n",
    "    )  # Shortened hz_eff without rows for logicals\n",
    "\n",
    "    return ((z_circuit),\n",
    "        hx_eff,\n",
    "        short_hx_eff,\n",
    "        hz_eff,\n",
    "        short_hz_eff,\n",
    "        channel_prob_x,\n",
    "        channel_prob_z,\n",
    "    )\n"
   ]
  },
  {
   "cell_type": "code",
   "execution_count": null,
   "id": "97dd580c",
   "metadata": {},
   "outputs": [],
   "source": [
    "circs = construct_decoding_matrix(bb, circ, error_rates, 1)[0]\n"
   ]
  },
  {
   "cell_type": "code",
   "execution_count": null,
   "id": "8bfe3b07",
   "metadata": {},
   "outputs": [
    {
     "data": {
      "text/plain": [
       "30"
      ]
     },
     "execution_count": 184,
     "metadata": {},
     "output_type": "execute_result"
    }
   ],
   "source": [
    "len(circs)\n"
   ]
  },
  {
   "cell_type": "code",
   "execution_count": null,
   "id": "33d621a4",
   "metadata": {},
   "outputs": [],
   "source": []
  }
 ],
 "metadata": {
  "kernelspec": {
   "display_name": "qvenv",
   "language": "python",
   "name": "python3"
  },
  "language_info": {
   "codemirror_mode": {
    "name": "ipython",
    "version": 3
   },
   "file_extension": ".py",
   "mimetype": "text/x-python",
   "name": "python",
   "nbconvert_exporter": "python",
   "pygments_lexer": "ipython3",
   "version": "3.13.7"
  }
 },
 "nbformat": 4,
 "nbformat_minor": 5
}
