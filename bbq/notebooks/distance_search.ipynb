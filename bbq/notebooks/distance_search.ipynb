{
 "cells": [
  {
   "cell_type": "markdown",
   "id": "fb65396b",
   "metadata": {},
   "source": [
    "## Distance Algorithms"
   ]
  },
  {
   "cell_type": "code",
   "execution_count": null,
   "id": "9b5287f3",
   "metadata": {},
   "outputs": [],
   "source": [
    "from bbq.field import Field\n",
    "from bbq.polynomial import Monomial\n",
    "from bbq.bbq_code import BivariateBicycle\n",
    "from bbq.parameters import bp_distance\n",
    "import matplotlib.pyplot as plt\n",
    "import numpy as np\n",
    "import galois\n"
   ]
  },
  {
   "cell_type": "code",
   "execution_count": 2,
   "id": "cefe0556",
   "metadata": {},
   "outputs": [
    {
     "name": "stdout",
     "output_type": "stream",
     "text": [
      "[[1 0 0 0 0 1 0 0 1 0 1 1 0 0 0 0 1 1]\n",
      " [0 1 0 0 0 1 0 0 1 0 0 1 0 0 0 0 0 1]\n",
      " [0 0 1 0 0 1 0 0 1 0 0 0 0 0 0 0 0 0]\n",
      " [0 0 0 1 0 1 0 0 0 0 1 1 0 1 1 0 0 0]\n",
      " [0 0 0 0 1 1 0 0 0 0 0 1 0 0 1 0 0 0]\n",
      " [0 0 0 0 0 0 1 0 1 0 0 0 0 1 1 0 1 1]\n",
      " [0 0 0 0 0 0 0 1 1 0 0 0 0 0 1 0 0 1]\n",
      " [0 0 0 0 0 0 0 0 0 1 1 1 0 0 0 0 0 0]\n",
      " [0 0 0 0 0 0 0 0 0 0 0 0 1 1 1 0 0 0]\n",
      " [0 0 0 0 0 0 0 0 0 0 0 0 0 0 0 1 1 1]]\n"
     ]
    }
   ],
   "source": [
    "field = Field(2)\n",
    "x, y = Monomial(field, 'x'), Monomial(field, 'y')\n",
    "a = 1 - x\n",
    "b = 1 - y\n",
    "\n",
    "bb = BivariateBicycle(a, b, 3, 3, 1)\n"
   ]
  },
  {
   "cell_type": "code",
   "execution_count": null,
   "id": "a13e95dc",
   "metadata": {},
   "outputs": [
    {
     "data": {
      "text/plain": [
       "[array([1, 0, 0, 0, 0, 1, 0, 0, 1, 0, 1, 1, 0, 0, 0, 0, 1, 1]),\n",
       " array([0, 0, 0, 0, 0, 0, 0, 0, 0, 1, 1, 1, 0, 0, 0, 0, 0, 0])]"
      ]
     },
     "execution_count": 3,
     "metadata": {},
     "output_type": "execute_result"
    }
   ],
   "source": [
    "bb.z_logicals\n"
   ]
  },
  {
   "cell_type": "code",
   "execution_count": null,
   "id": "29717127",
   "metadata": {},
   "outputs": [
    {
     "data": {
      "text/plain": [
       "array([[1, 0, 1, 0, 0, 0, 0, 0, 0, 1, 0, 0, 0, 0, 0, 1, 0, 0],\n",
       "       [1, 1, 0, 0, 0, 0, 0, 0, 0, 0, 1, 0, 0, 0, 0, 0, 1, 0],\n",
       "       [0, 1, 1, 0, 0, 0, 0, 0, 0, 0, 0, 1, 0, 0, 0, 0, 0, 1],\n",
       "       [0, 0, 0, 1, 0, 1, 0, 0, 0, 1, 0, 0, 1, 0, 0, 0, 0, 0],\n",
       "       [0, 0, 0, 1, 1, 0, 0, 0, 0, 0, 1, 0, 0, 1, 0, 0, 0, 0],\n",
       "       [0, 0, 0, 0, 1, 1, 0, 0, 0, 0, 0, 1, 0, 0, 1, 0, 0, 0],\n",
       "       [0, 0, 0, 0, 0, 0, 1, 0, 1, 0, 0, 0, 1, 0, 0, 1, 0, 0],\n",
       "       [0, 0, 0, 0, 0, 0, 1, 1, 0, 0, 0, 0, 0, 1, 0, 0, 1, 0],\n",
       "       [0, 0, 0, 0, 0, 0, 0, 1, 1, 0, 0, 0, 0, 0, 1, 0, 0, 1]])"
      ]
     },
     "execution_count": 7,
     "metadata": {},
     "output_type": "execute_result"
    }
   ],
   "source": [
    "bb.hz\n"
   ]
  },
  {
   "cell_type": "code",
   "execution_count": null,
   "id": "c9fdc494",
   "metadata": {},
   "outputs": [
    {
     "data": {
      "text/plain": [
       "array([[1, 0, 0, 0, 0, 1, 0, 0, 1, 0, 1, 1, 0, 0, 0, 0, 1, 1],\n",
       "       [0, 1, 0, 0, 0, 1, 0, 0, 1, 0, 0, 1, 0, 0, 0, 0, 0, 1],\n",
       "       [0, 0, 0, 0, 0, 0, 0, 0, 0, 1, 1, 1, 0, 0, 0, 1, 1, 1],\n",
       "       [0, 0, 0, 1, 0, 1, 0, 0, 0, 0, 1, 1, 0, 1, 1, 0, 0, 0],\n",
       "       [0, 0, 0, 0, 1, 1, 0, 0, 0, 0, 0, 1, 0, 0, 1, 0, 0, 0],\n",
       "       [0, 0, 0, 0, 0, 0, 0, 0, 0, 0, 0, 0, 1, 1, 1, 1, 1, 1],\n",
       "       [0, 0, 0, 0, 0, 0, 1, 0, 1, 0, 0, 0, 0, 1, 1, 0, 1, 1],\n",
       "       [0, 0, 0, 0, 0, 0, 0, 1, 1, 0, 0, 0, 0, 0, 1, 0, 0, 1],\n",
       "       [0, 0, 1, 0, 0, 1, 0, 0, 1, 0, 0, 0, 0, 0, 0, 0, 0, 0]])"
      ]
     },
     "execution_count": 50,
     "metadata": {},
     "output_type": "execute_result"
    }
   ],
   "source": [
    "field.rref(np.vstack((bb.hz, np.array([[1, 0, 0, 0, 0, 1, 0, 0, 1, 0, 1, 1, 0, 0, 0, 0, 1, 1], [1, 0, 0, 1, 0, 0, 1, 0, 0, 0, 0, 0, 0, 0, 0, 0, 0, 0]]))), np.zeros(bb.hz.shape[0]+2, dtype=int))[0]\n"
   ]
  },
  {
   "cell_type": "code",
   "execution_count": null,
   "id": "92ce33e3",
   "metadata": {},
   "outputs": [
    {
     "data": {
      "text/plain": [
       "[array([1, 0, 0, 0, 0, 1, 0, 0, 1, 0, 1, 1, 0, 0, 0, 0, 1, 1]),\n",
       " array([0, 0, 0, 0, 0, 0, 0, 0, 0, 1, 1, 1, 0, 0, 0, 0, 0, 0])]"
      ]
     },
     "execution_count": 8,
     "metadata": {},
     "output_type": "execute_result"
    }
   ],
   "source": [
    "bb.z_logicals\n"
   ]
  },
  {
   "cell_type": "code",
   "execution_count": null,
   "id": "b3e7490e",
   "metadata": {},
   "outputs": [
    {
     "data": {
      "text/plain": [
       "array([0, 0, 0, 0, 1, 0, 0, 0, 0, 0, 0, 1, 1, 1, 0, 0, 1, 0])"
      ]
     },
     "execution_count": 32,
     "metadata": {},
     "output_type": "execute_result"
    }
   ],
   "source": [
    "j = bb.z_logicals[0]\n",
    "j\n"
   ]
  },
  {
   "cell_type": "code",
   "execution_count": null,
   "id": "5cb7d918",
   "metadata": {},
   "outputs": [
    {
     "data": {
      "text/plain": [
       "array([1, 1, 0, 1, 0, 0, 1, 1, 0, 0, 0, 1, 0, 0, 1, 1, 0, 1])"
      ]
     },
     "execution_count": 44,
     "metadata": {},
     "output_type": "execute_result"
    }
   ],
   "source": [
    "j += bb.hz[-4]\n",
    "j %= 2\n",
    "j\n"
   ]
  },
  {
   "cell_type": "code",
   "execution_count": null,
   "id": "c01179cf",
   "metadata": {},
   "outputs": [
    {
     "data": {
      "text/plain": [
       "array([2, 0, 2, 0])"
      ]
     },
     "execution_count": 34,
     "metadata": {},
     "output_type": "execute_result"
    }
   ],
   "source": [
    "bb.hz @ bb.x_logicals[1].T\n"
   ]
  },
  {
   "cell_type": "code",
   "execution_count": null,
   "id": "e633ea02",
   "metadata": {},
   "outputs": [
    {
     "data": {
      "image/png": "[encoded data removed]",
      "text/plain": [
       "<Figure size 640x480 with 1 Axes>"
      ]
     },
     "metadata": {},
     "output_type": "display_data"
    }
   ],
   "source": [
    "bb.draw()\n"
   ]
  },
  {
   "cell_type": "code",
   "execution_count": 12,
   "id": "87c9fc99",
   "metadata": {},
   "outputs": [
    {
     "name": "stdout",
     "output_type": "stream",
     "text": [
      "k = 2\n"
     ]
    }
   ],
   "source": [
    "# OMGGG\n",
    "k = len(bb.x_logicals)\n",
    "print(f'k = {k}')\n"
   ]
  },
  {
   "cell_type": "code",
   "execution_count": 13,
   "id": "5a06959b",
   "metadata": {},
   "outputs": [
    {
     "name": "stdout",
     "output_type": "stream",
     "text": [
      "dx = 6, dz = 6, d = 6\n"
     ]
    }
   ],
   "source": [
    "dx = bp_distance(field, bb.hx, bb.x_logicals)\n",
    "dz = bp_distance(field, bb.hz, bb.z_logicals)\n",
    "d = min(dx, dz)\n",
    "\n",
    "print(f'dx = {dx}, dz = {dz}, d = {d}')\n"
   ]
  },
  {
   "cell_type": "code",
   "execution_count": 14,
   "id": "0e90cbd2",
   "metadata": {},
   "outputs": [],
   "source": [
    "def make_str(a_polys, b_polys):\n",
    "    poly_str = []\n",
    "    for i in range(len(a_polys)):\n",
    "        poly_str.append(f'{a_polys[i]}, {b_polys[i]}')\n",
    "    return poly_str\n"
   ]
  },
  {
   "cell_type": "code",
   "execution_count": 15,
   "id": "6475df07",
   "metadata": {},
   "outputs": [],
   "source": [
    "def make_labels(AB, K):\n",
    "    labels = ['' for _ in range(len(AB))]\n",
    "    ind = np.nonzero(K)[0]\n",
    "    if len(ind) == len(AB):\n",
    "        print(\"All codes have non-zero k, showing all labels\")\n",
    "        labels = AB.copy()\n",
    "    else:\n",
    "        for i in ind:\n",
    "            labels[i] = AB[i]\n",
    "            print(AB[i])\n",
    "    return labels\n"
   ]
  },
  {
   "cell_type": "code",
   "execution_count": 16,
   "id": "015a8c02",
   "metadata": {},
   "outputs": [],
   "source": [
    "def plot_bars(A, B, K, D, title):\n",
    "    AB = make_str(A, B)\n",
    "\n",
    "    w, x = 0.4, np.arange(len(AB))\n",
    "\n",
    "    fig, ax = plt.subplots()\n",
    "    ax.bar(x - w/2, K, width=w, label='logicals, k', color='slateblue')\n",
    "    ax.bar(x + w/2, D, width=w, label='distance, d', color='lightseagreen')\n",
    "\n",
    "    labels = make_labels(AB, K)\n",
    "\n",
    "    ax.set_xticks(x)\n",
    "    ax.set_xticklabels(labels)\n",
    "    plt.xticks(rotation=75)\n",
    "    ax.figure.set_size_inches(10, 5)\n",
    "    ax.set_title(title)\n",
    "    ax.legend()\n",
    "\n",
    "    plt.show();\n"
   ]
  },
  {
   "cell_type": "code",
   "execution_count": null,
   "id": "0a3c17b5",
   "metadata": {},
   "outputs": [
    {
     "name": "stderr",
     "output_type": "stream",
     "text": [
      "/Users/eleanorkneip/Documents/phd/bbq-project/bbqudit/bbq/decoder.py:120: RuntimeWarning: invalid value encountered in divide\n",
      "  sub_convolutions = sub_convolutions / convolution\n"
     ]
    }
   ],
   "source": [
    "# Search over Toric GF(3): a1 + a2*x and b1 + b2*y\n",
    "\n",
    "field = Field(3)\n",
    "x, y = Monomial(field, 'x'), Monomial(field, 'y')\n",
    "\n",
    "A, B = [], []\n",
    "K = []\n",
    "DX, DZ, D = [], [], []\n",
    "\n",
    "for a1 in range(1, field.p):\n",
    "    for a2 in range(1, field.p):\n",
    "        for b1 in range(1, field.p):\n",
    "            for b2 in range(1, field.p):\n",
    "                a = a1 + a2*x\n",
    "                b = b1 + b2*y\n",
    "\n",
    "                bb = BivariateBicycle(a, b, 12, 12, 1)\n",
    "\n",
    "                k = len(bb.x_logicals)\n",
    "\n",
    "                if k == 0:\n",
    "                    dx = dz = d = 0\n",
    "                else:\n",
    "                    dx = bp_distance(field, bb.hx, bb.x_logicals)\n",
    "                    dz = bp_distance(field, bb.hz, bb.z_logicals)\n",
    "                    d = min(dx, dz)\n",
    "\n",
    "                A.append(a)\n",
    "                B.append(b)\n",
    "                K.append(k)\n",
    "                DX.append(dx)\n",
    "                DZ.append(dz)\n",
    "                D.append(d)\n"
   ]
  },
  {
   "cell_type": "code",
   "execution_count": null,
   "id": "099d655a",
   "metadata": {},
   "outputs": [
    {
     "name": "stdout",
     "output_type": "stream",
     "text": [
      "All codes have non-zero k, showing all labels\n"
     ]
    },
    {
     "data": {
      "image/png": "[encoded data removed]",
      "text/plain": [
       "<Figure size 1000x500 with 1 Axes>"
      ]
     },
     "metadata": {},
     "output_type": "display_data"
    }
   ],
   "source": [
    "plot_bars(A, B, K, D, '11x11 Toric Code over GF(3) with q = 1')\n"
   ]
  },
  {
   "cell_type": "code",
   "execution_count": null,
   "id": "525cbb6d",
   "metadata": {},
   "outputs": [],
   "source": []
  },
  {
   "cell_type": "markdown",
   "id": "6cb3dbac",
   "metadata": {},
   "source": [
    "### Old Brute Force Code"
   ]
  },
  {
   "cell_type": "code",
   "execution_count": null,
   "id": "3241fb3f",
   "metadata": {},
   "outputs": [],
   "source": [
    "def get_real_distance(self):\n",
    "    hx, hz = self.hx, self.hz\n",
    "    field = self.field\n",
    "    GF = galois.GF(field)\n",
    "    hx_gal, hz_gal = GF(hx), GF(hz)\n",
    "\n",
    "    # We want ker(Hx)\\rs(Hz)\n",
    "    ker_hx = hx_gal.null_space()\n",
    "    rs_hz = hz_gal.row_space()\n",
    "\n",
    "    def is_in(vec, space) -> bool:\n",
    "        matr = np.vstack([space, vec])\n",
    "        return np.linalg.matrix_rank(matr) == space.shape[0]\n",
    "\n",
    "    best_vector = GF(np.empty(ker_hx.shape[1], dtype=int))\n",
    "    best_distance = ker_hx.shape[1] + 1\n",
    "\n",
    "    # Brute force all vectors in ker(Hx)\n",
    "    m = ker_hx.shape[0]\n",
    "    print(m, ker_hx.shape[1], field)\n",
    "    for ind in range(1, field**m):\n",
    "        vec = GF(np.zeros(ker_hx.shape[1], dtype=int))\n",
    "        print(f'Done ind = {ind}')\n",
    "        for i in range(m):\n",
    "            coef = (ind//field**i) % field\n",
    "            ind -= coef * field**i\n",
    "            vec += coef * ker_hx[i]\n",
    "\n",
    "        # Check if vec is in rs(Hz)\n",
    "        if is_in(vec, rs_hz):\n",
    "            continue\n",
    "\n",
    "        # Find distance\n",
    "        distance = np.count_nonzero(vec)\n",
    "\n",
    "        # Update best vector\n",
    "        if distance < best_distance:\n",
    "            best_vector = vec\n",
    "            best_distance = distance\n",
    "\n",
    "    return best_distance\n"
   ]
  }
 ],
 "metadata": {
  "kernelspec": {
   "display_name": "qvenv",
   "language": "python",
   "name": "python3"
  },
  "language_info": {
   "codemirror_mode": {
    "name": "ipython",
    "version": 3
   },
   "file_extension": ".py",
   "mimetype": "text/x-python",
   "name": "python",
   "nbconvert_exporter": "python",
   "pygments_lexer": "ipython3",
   "version": "3.13.7"
  }
 },
 "nbformat": 4,
 "nbformat_minor": 5
}
