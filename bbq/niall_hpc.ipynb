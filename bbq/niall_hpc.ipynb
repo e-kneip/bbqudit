{
 "cells": [
  {
   "cell_type": "code",
   "execution_count": 1,
   "id": "0d9c2e50",
   "metadata": {},
   "outputs": [],
   "source": [
    "from bbq.decoder import d_osd, bp_osd, belief_propagation, _syn_inv_permute_field\n",
    "from bbq.utils import det_to_err, err_to_det, find_pivots, rref\n",
    "import numpy as np\n",
    "from ldpc import BpDecoder, bposd_decoder\n",
    "from bbq.polynomial import Polynomial\n",
    "from bbq.bbq_code import BivariateBicycle\n",
    "import matplotlib.pyplot as plt\n",
    "import json\n",
    "import datetime\n",
    "import galois"
   ]
  },
  {
   "cell_type": "code",
   "execution_count": 2,
   "id": "4b089a0c",
   "metadata": {},
   "outputs": [],
   "source": [
    "def simulate(field, h, l, max_iter, num_failures, physical_error):\n",
    "\n",
    "    results = []\n",
    "\n",
    "    for p in physical_error:\n",
    "\n",
    "        failures = 0\n",
    "        num_trials = 0\n",
    "\n",
    "        while failures < num_failures:\n",
    "            # Generate syndrome\n",
    "            n_qudits = h.shape[1]\n",
    "            error = np.zeros(n_qudits, dtype=int)\n",
    "            error_mask = np.random.rand(n_qudits) < p\n",
    "            for i in np.where(error_mask)[0]:\n",
    "                error[i] = np.random.randint(1, field)\n",
    "            syndrome = (h @ error) % field\n",
    "\n",
    "            # Construct error probability\n",
    "            channel_prob_x = np.ones(n_qudits) * p\n",
    "\n",
    "            x_prior = np.zeros((len(channel_prob_x), field), dtype=float)\n",
    "\n",
    "            for i, prob in enumerate(channel_prob_x):\n",
    "                x_prior[i, 0] = 1 - prob\n",
    "                for j in range(1, field):\n",
    "                    x_prior[i, j] = prob / (field - 1)\n",
    "\n",
    "            # Decode\n",
    "            # guessed_error, decoder_success, bp_success, posterior = belief_propagation(field, h, syndrome, x_prior, max_iter, debug=True)\n",
    "            guessed_error, decoder_success, bp_success, posterior = bp_osd(field, h, syndrome, x_prior, max_iter, order=0, debug=True)\n",
    "            error_difference = (error - guessed_error) % field\n",
    "            logical_effect = (np.array(l) @ error_difference) % field\n",
    "\n",
    "            # Check success\n",
    "            # if np.any(logical_effect != 0) or not decoder_success:\n",
    "            if np.any(logical_effect != 0):\n",
    "                failures += 1\n",
    "                print(f'Found {failures} / {num_failures}, with num_trials : {num_trials}')\n",
    "            elif num_trials % 100 == 0:\n",
    "                print(f'UPDATE: Found {failures} / {num_failures}, with num_trials : {num_trials}')\n",
    "\n",
    "            num_trials += 1\n",
    "\n",
    "        results.append(num_trials)\n",
    "\n",
    "        print(f'Finished p={p} with num_trials={num_trials}')\n",
    "        print('------------------------------------------------------------------')\n",
    "    return results"
   ]
  },
  {
   "cell_type": "code",
   "execution_count": 3,
   "id": "943170d2",
   "metadata": {},
   "outputs": [],
   "source": [
    "a = Polynomial(2, np.array([[1, 0], [1, 0]]))\n",
    "b = Polynomial(2, np.array([[1, 1], [0, 0]]))\n",
    "bb2 = BivariateBicycle(a, b, 3, 3, 1)\n",
    "h2 = bb2.hx\n",
    "l2 = bb2.x_logicals\n",
    "bb25 = BivariateBicycle(a, b, 5, 5, 1)\n",
    "h25 = bb25.hx\n",
    "l25 = bb25.x_logicals\n",
    "bb27 = BivariateBicycle(a, b, 7, 7, 1)\n",
    "h27 = bb27.hx\n",
    "l27 = bb27.x_logicals\n",
    "\n",
    "a = Polynomial(3, np.array([[1, 0], [-1, 0]]))\n",
    "b = Polynomial(3, np.array([[1, -1], [0, 0]]))\n",
    "bb3 = BivariateBicycle(a, b, 3, 3, 1)\n",
    "h3 = bb3.hx\n",
    "l3 = bb3.x_logicals\n",
    "bb35 = BivariateBicycle(a, b, 5, 5, 1)\n",
    "h35 = bb35.hx\n",
    "l35 = bb35.x_logicals\n",
    "bb37 = BivariateBicycle(a, b, 7, 7, 1)\n",
    "h37 = bb37.hx\n",
    "l37 = bb37.x_logicals\n",
    "\n",
    "a = Polynomial(5, np.array([[1, 0], [-1, 0]]))\n",
    "b = Polynomial(5, np.array([[1, -1], [0, 0]]))\n",
    "bb5 = BivariateBicycle(a, b, 3, 3, 1)\n",
    "h5 = bb5.hx\n",
    "l5 = bb5.x_logicals\n",
    "bb55 = BivariateBicycle(a, b, 5, 5, 1)\n",
    "h55 = bb55.hx\n",
    "l55 = bb55.x_logicals\n",
    "bb57 = BivariateBicycle(a, b, 7, 7, 1)\n",
    "h57 = bb57.hx\n",
    "l57 = bb57.x_logicals\n",
    "\n",
    "max_iter = 1000\n",
    "num_failures = 3\n",
    "long_physical_error = np.logspace(-2.7, -1, 10)\n",
    "physical_error = np.flip(np.logspace(-1.7, -0.7, 10))\n",
    "ext_physical_error = np.flip(np.logspace(-1, -0.8, 10))"
   ]
  },
  {
   "cell_type": "code",
   "execution_count": null,
   "id": "4628f6ce",
   "metadata": {},
   "outputs": [],
   "source": [
    "results = np.flip(simulate(5, h5, l5, max_iter, 50, ext_physical_error))"
   ]
  },
  {
   "cell_type": "code",
   "execution_count": null,
   "id": "c5ee1855",
   "metadata": {},
   "outputs": [],
   "source": [
    "results"
   ]
  },
  {
   "cell_type": "code",
   "execution_count": null,
   "id": "1b993b01",
   "metadata": {},
   "outputs": [],
   "source": [
    "results = np.flip(simulate(5, h55, l55, max_iter, 50, ext_physical_error))"
   ]
  },
  {
   "cell_type": "code",
   "execution_count": null,
   "id": "d41b9e08",
   "metadata": {},
   "outputs": [],
   "source": [
    "results"
   ]
  },
  {
   "cell_type": "code",
   "execution_count": null,
   "id": "f2e48459",
   "metadata": {},
   "outputs": [],
   "source": [
    "results = np.flip(simulate(5, h57, l57, max_iter, 50, ext_physical_error))"
   ]
  },
  {
   "cell_type": "code",
   "execution_count": null,
   "id": "d459dfa7",
   "metadata": {},
   "outputs": [],
   "source": [
    "results"
   ]
  },
  {
   "cell_type": "code",
   "execution_count": null,
   "id": "8c04ff61",
   "metadata": {},
   "outputs": [],
   "source": [
    "results = np.flip(simulate(5, h5, l5, max_iter, 50, ext_physical_error))"
   ]
  },
  {
   "cell_type": "code",
   "execution_count": null,
   "id": "95dd279c",
   "metadata": {},
   "outputs": [],
   "source": [
    "results"
   ]
  },
  {
   "cell_type": "code",
   "execution_count": null,
   "id": "67674101",
   "metadata": {},
   "outputs": [],
   "source": [
    "results = np.flip(simulate(5, h55, l55, max_iter, 50, ext_physical_error))"
   ]
  },
  {
   "cell_type": "code",
   "execution_count": null,
   "id": "f4023069",
   "metadata": {},
   "outputs": [],
   "source": [
    "results"
   ]
  },
  {
   "cell_type": "code",
   "execution_count": null,
   "id": "30fcff13",
   "metadata": {},
   "outputs": [],
   "source": [
    "results = np.flip(simulate(5, h57, l57, max_iter, 50, ext_physical_error))"
   ]
  },
  {
   "cell_type": "code",
   "execution_count": null,
   "id": "25591479",
   "metadata": {},
   "outputs": [],
   "source": [
    "results"
   ]
  }
 ],
 "metadata": {
  "kernelspec": {
   "display_name": "bbq_venv",
   "language": "python",
   "name": "python3"
  },
  "language_info": {
   "codemirror_mode": {
    "name": "ipython",
    "version": 3
   },
   "file_extension": ".py",
   "mimetype": "text/x-python",
   "name": "python",
   "nbconvert_exporter": "python",
   "pygments_lexer": "ipython3",
   "version": "3.13.1"
  }
 },
 "nbformat": 4,
 "nbformat_minor": 5
}
